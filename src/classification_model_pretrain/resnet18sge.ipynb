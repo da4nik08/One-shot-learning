{
 "cells": [
  {
   "cell_type": "code",
   "execution_count": 1,
   "id": "6412ca5c",
   "metadata": {
    "execution": {
     "iopub.execute_input": "2025-01-13T14:10:43.971209Z",
     "iopub.status.busy": "2025-01-13T14:10:43.970885Z",
     "iopub.status.idle": "2025-01-13T14:10:47.376303Z",
     "shell.execute_reply": "2025-01-13T14:10:47.375574Z"
    },
    "papermill": {
     "duration": 3.421188,
     "end_time": "2025-01-13T14:10:47.377797",
     "exception": false,
     "start_time": "2025-01-13T14:10:43.956609",
     "status": "completed"
    },
    "tags": []
   },
   "outputs": [],
   "source": [
    "import numpy as np\n",
    "import pandas as pd\n",
    "import os\n",
    "import torch\n",
    "from PIL import Image\n",
    "from collections import defaultdict\n",
    "from collections import Counter\n",
    "from tqdm import tqdm, tqdm_notebook\n",
    "from matplotlib import colors, pyplot as plt"
   ]
  },
  {
   "cell_type": "code",
   "execution_count": 2,
   "id": "0c5d26f1-b052-43fa-be43-58a0a1ff036b",
   "metadata": {},
   "outputs": [],
   "source": [
    "from metrics import Metrics\n",
    "from custom_dataset import CustomDataset"
   ]
  },
  {
   "cell_type": "code",
   "execution_count": 2,
   "id": "84dfda7c",
   "metadata": {
    "execution": {
     "iopub.execute_input": "2025-01-13T14:10:47.397915Z",
     "iopub.status.busy": "2025-01-13T14:10:47.397563Z",
     "iopub.status.idle": "2025-01-13T14:10:47.400809Z",
     "shell.execute_reply": "2025-01-13T14:10:47.400197Z"
    },
    "papermill": {
     "duration": 0.014106,
     "end_time": "2025-01-13T14:10:47.402011",
     "exception": false,
     "start_time": "2025-01-13T14:10:47.387905",
     "status": "completed"
    },
    "tags": []
   },
   "outputs": [],
   "source": [
    "image_folder_val = '/kaggle/input/military-equipment/Dataset military equipment/images_val'\n",
    "image_folder_train = '/kaggle/input/military-equipment/Dataset military equipment/images_train'\n",
    "labels_folder_val = '/kaggle/input/military-equipment/Dataset military equipment/labels_val'\n",
    "labels_folder_train = '/kaggle/input/military-equipment/Dataset military equipment/labels_train'"
   ]
  },
  {
   "cell_type": "code",
   "execution_count": 3,
   "id": "12e2ed4a",
   "metadata": {
    "execution": {
     "iopub.execute_input": "2025-01-13T14:10:47.421080Z",
     "iopub.status.busy": "2025-01-13T14:10:47.420853Z",
     "iopub.status.idle": "2025-01-13T14:10:47.423796Z",
     "shell.execute_reply": "2025-01-13T14:10:47.423203Z"
    },
    "papermill": {
     "duration": 0.013779,
     "end_time": "2025-01-13T14:10:47.424984",
     "exception": false,
     "start_time": "2025-01-13T14:10:47.411205",
     "status": "completed"
    },
    "tags": []
   },
   "outputs": [],
   "source": [
    "RESCALE_SIZE = 320\n",
    "DATA_MODES = ['train', 'val', 'test']"
   ]
  },
  {
   "cell_type": "markdown",
   "id": "645faad5",
   "metadata": {
    "papermill": {
     "duration": 0.008862,
     "end_time": "2025-01-13T14:10:47.442931",
     "exception": false,
     "start_time": "2025-01-13T14:10:47.434069",
     "status": "completed"
    },
    "tags": []
   },
   "source": [
    "# New Preprocessing"
   ]
  },
  {
   "cell_type": "code",
   "execution_count": 4,
   "id": "8eb4ceb6",
   "metadata": {
    "execution": {
     "iopub.execute_input": "2025-01-13T14:10:47.462125Z",
     "iopub.status.busy": "2025-01-13T14:10:47.461894Z",
     "iopub.status.idle": "2025-01-13T14:10:47.465305Z",
     "shell.execute_reply": "2025-01-13T14:10:47.464648Z"
    },
    "papermill": {
     "duration": 0.014198,
     "end_time": "2025-01-13T14:10:47.466469",
     "exception": false,
     "start_time": "2025-01-13T14:10:47.452271",
     "status": "completed"
    },
    "tags": []
   },
   "outputs": [],
   "source": [
    "def custom_transform(img, rescale_size):\n",
    "    image = img.resize((rescale_size, rescale_size), resample=Image.BILINEAR)\n",
    "    return image"
   ]
  },
  {
   "cell_type": "code",
   "execution_count": 5,
   "id": "61e2a68f",
   "metadata": {
    "execution": {
     "iopub.execute_input": "2025-01-13T14:10:47.484807Z",
     "iopub.status.busy": "2025-01-13T14:10:47.484580Z",
     "iopub.status.idle": "2025-01-13T14:10:47.489169Z",
     "shell.execute_reply": "2025-01-13T14:10:47.488583Z"
    },
    "papermill": {
     "duration": 0.01512,
     "end_time": "2025-01-13T14:10:47.490430",
     "exception": false,
     "start_time": "2025-01-13T14:10:47.475310",
     "status": "completed"
    },
    "tags": []
   },
   "outputs": [],
   "source": [
    "def crop_and_resize(img, bbox, rescale_size):\n",
    "    # bbox = (center_x, center_y, width, height) in YOLO format\n",
    "    img_width, img_height = img.size\n",
    "    center_x, center_y, bbox_width, bbox_height = bbox\n",
    "\n",
    "    # Convert YOLO bbox format (relative) to absolute pixel coordinates\n",
    "    center_x = int(center_x * img_width)\n",
    "    center_y = int(center_y * img_height)\n",
    "    bbox_width = int(bbox_width * img_width)\n",
    "    bbox_height = int(bbox_height * img_height)\n",
    "\n",
    "    # Compute the bounding box corners\n",
    "    left = max(0, center_x - bbox_width // 2)\n",
    "    top = max(0, center_y - bbox_height // 2)\n",
    "    right = min(img_width, center_x + bbox_width // 2)\n",
    "    bottom = min(img_height, center_y + bbox_height // 2)\n",
    "\n",
    "    # Crop and resize the image\n",
    "    cropped_img = img.crop((left, top, right, bottom))\n",
    "    resized_img = custom_transform(cropped_img, rescale_size)\n",
    "    return resized_img"
   ]
  },
  {
   "cell_type": "code",
   "execution_count": 6,
   "id": "943cce73",
   "metadata": {
    "execution": {
     "iopub.execute_input": "2025-01-13T14:10:47.508798Z",
     "iopub.status.busy": "2025-01-13T14:10:47.508584Z",
     "iopub.status.idle": "2025-01-13T14:15:07.768061Z",
     "shell.execute_reply": "2025-01-13T14:15:07.767070Z"
    },
    "papermill": {
     "duration": 260.270428,
     "end_time": "2025-01-13T14:15:07.769662",
     "exception": false,
     "start_time": "2025-01-13T14:10:47.499234",
     "status": "completed"
    },
    "tags": []
   },
   "outputs": [
    {
     "name": "stderr",
     "output_type": "stream",
     "text": [
      "100%|██████████| 11768/11768 [04:20<00:00, 45.23it/s]\n"
     ]
    }
   ],
   "source": [
    "# Initialize lists\n",
    "train_images = []\n",
    "train_labels = []\n",
    "\n",
    "# Process each image and its corresponding label file\n",
    "for filename in tqdm(os.listdir(image_folder_train)):\n",
    "    if filename.endswith(\".png\") or filename.endswith(\".jpg\"):\n",
    "        # File paths\n",
    "        file_path = os.path.join(image_folder_train, filename)\n",
    "        label_file = os.path.join(labels_folder_train, filename.split('.')[0] + \".txt\")\n",
    "        \n",
    "        try:\n",
    "            # Open the image\n",
    "            img = Image.open(file_path)\n",
    "\n",
    "            # Check if the corresponding label file exists\n",
    "            if not os.path.exists(label_file):\n",
    "                print(f\"Label file missing for {filename}, skipping.\")\n",
    "                continue\n",
    "            \n",
    "            # Read the label file\n",
    "            with open(label_file, 'r') as file:\n",
    "                lines = file.readlines()\n",
    "\n",
    "            # If no bounding boxes are found, skip the image\n",
    "            if len(lines) == 0:\n",
    "                print(f\"No bounding boxes found in {label_file}, skipping.\")\n",
    "                continue\n",
    "\n",
    "            # Process each bounding box\n",
    "            for line in lines:\n",
    "                # Parse the YOLO format: class_id center_x center_y width height\n",
    "                parts = line.strip().split()\n",
    "                class_label = int(parts[0])\n",
    "                bbox = list(map(float, parts[1:]))\n",
    "\n",
    "                # If the image has multiple objects, crop it\n",
    "                if len(lines) > 1:\n",
    "                    cropped_img = crop_and_resize(img, bbox, RESCALE_SIZE)\n",
    "                    train_images.append(cropped_img)\n",
    "                    train_labels.append(class_label)\n",
    "                else:\n",
    "                    # If only one object, resize the whole image\n",
    "                    resized_img = custom_transform(img, RESCALE_SIZE)\n",
    "                    train_images.append(resized_img)\n",
    "                    train_labels.append(class_label)\n",
    "\n",
    "        except Exception as e:\n",
    "            print(f\"Error processing {filename}: {e}\")"
   ]
  },
  {
   "cell_type": "code",
   "execution_count": 7,
   "id": "1b6df992",
   "metadata": {
    "execution": {
     "iopub.execute_input": "2025-01-13T14:15:08.009299Z",
     "iopub.status.busy": "2025-01-13T14:15:08.008949Z",
     "iopub.status.idle": "2025-01-13T14:15:45.235523Z",
     "shell.execute_reply": "2025-01-13T14:15:45.234504Z"
    },
    "papermill": {
     "duration": 37.326557,
     "end_time": "2025-01-13T14:15:45.236821",
     "exception": false,
     "start_time": "2025-01-13T14:15:07.910264",
     "status": "completed"
    },
    "tags": []
   },
   "outputs": [
    {
     "name": "stderr",
     "output_type": "stream",
     "text": [
      "100%|██████████| 1680/1680 [00:37<00:00, 45.16it/s]\n"
     ]
    }
   ],
   "source": [
    "# Initialize lists\n",
    "val_images = []\n",
    "val_labels = []\n",
    "\n",
    "# Process each image and its corresponding label file\n",
    "for filename in tqdm(os.listdir(image_folder_val)):\n",
    "    if filename.endswith(\".png\") or filename.endswith(\".jpg\"):\n",
    "        # File paths\n",
    "        file_path = os.path.join(image_folder_val, filename)\n",
    "        label_file = os.path.join(labels_folder_val, filename.split('.')[0] + \".txt\")\n",
    "        \n",
    "        try:\n",
    "            # Open the image\n",
    "            img = Image.open(file_path)\n",
    "\n",
    "            # Check if the corresponding label file exists\n",
    "            if not os.path.exists(label_file):\n",
    "                print(f\"Label file missing for {filename}, skipping.\")\n",
    "                continue\n",
    "            \n",
    "            # Read the label file\n",
    "            with open(label_file, 'r') as file:\n",
    "                lines = file.readlines()\n",
    "\n",
    "            # If no bounding boxes are found, skip the image\n",
    "            if len(lines) == 0:\n",
    "                print(f\"No bounding boxes found in {label_file}, skipping.\")\n",
    "                continue\n",
    "\n",
    "            # Process each bounding box\n",
    "            for line in lines:\n",
    "                # Parse the YOLO format: class_id center_x center_y width height\n",
    "                parts = line.strip().split()\n",
    "                class_label = int(parts[0])\n",
    "                bbox = list(map(float, parts[1:]))\n",
    "\n",
    "                # If the image has multiple objects, crop it\n",
    "                if len(lines) > 1:\n",
    "                    cropped_img = crop_and_resize(img, bbox, RESCALE_SIZE)\n",
    "                    val_images.append(cropped_img)\n",
    "                    val_labels.append(class_label)\n",
    "                else:\n",
    "                    # If only one object, resize the whole image\n",
    "                    resized_img = custom_transform(img, RESCALE_SIZE)\n",
    "                    val_images.append(resized_img)\n",
    "                    val_labels.append(class_label)\n",
    "\n",
    "        except Exception as e:\n",
    "            print(f\"Error processing {filename}: {e}\")"
   ]
  },
  {
   "cell_type": "code",
   "execution_count": 9,
   "id": "48a5c6de",
   "metadata": {
    "execution": {
     "iopub.execute_input": "2025-01-13T14:15:46.814761Z",
     "iopub.status.busy": "2025-01-13T14:15:46.814361Z",
     "iopub.status.idle": "2025-01-13T14:15:46.822779Z",
     "shell.execute_reply": "2025-01-13T14:15:46.821913Z"
    },
    "papermill": {
     "duration": 0.138111,
     "end_time": "2025-01-13T14:15:46.824091",
     "exception": false,
     "start_time": "2025-01-13T14:15:46.685980",
     "status": "completed"
    },
    "tags": []
   },
   "outputs": [
    {
     "name": "stdout",
     "output_type": "stream",
     "text": [
      "\n",
      "Class Label Counts:\n",
      "Class 4: 1911 instances\n",
      "Class 9: 2067 instances\n",
      "Class 0: 5376 instances\n",
      "Class 3: 1845 instances\n",
      "Class 2: 7367 instances\n",
      "Class 10: 4958 instances\n",
      "Class 1: 1949 instances\n",
      "Class 6: 891 instances\n",
      "Class 5: 826 instances\n",
      "Class 7: 2538 instances\n",
      "Class 8: 1328 instances\n"
     ]
    }
   ],
   "source": [
    "class_counts = Counter(train_labels)\n",
    "print(\"\\nClass Label Counts:\")\n",
    "for cls, count in class_counts.items():\n",
    "    print(f\"Class {cls}: {count} instances\")"
   ]
  },
  {
   "cell_type": "code",
   "execution_count": 10,
   "id": "1dc9e46d",
   "metadata": {
    "execution": {
     "iopub.execute_input": "2025-01-13T14:15:47.077098Z",
     "iopub.status.busy": "2025-01-13T14:15:47.076718Z",
     "iopub.status.idle": "2025-01-13T14:15:47.170910Z",
     "shell.execute_reply": "2025-01-13T14:15:47.169947Z"
    },
    "papermill": {
     "duration": 0.222437,
     "end_time": "2025-01-13T14:15:47.172168",
     "exception": false,
     "start_time": "2025-01-13T14:15:46.949731",
     "status": "completed"
    },
    "tags": []
   },
   "outputs": [
    {
     "name": "stdout",
     "output_type": "stream",
     "text": [
      "Class Weights Tensor: tensor([0.1536, 0.4238, 0.1121, 0.4477, 0.4322, 1.0000, 0.9270, 0.3255, 0.6220,\n",
      "        0.3996, 0.1666])\n"
     ]
    }
   ],
   "source": [
    "# Total number of instances\n",
    "total_instances = sum(class_counts.values())\n",
    "\n",
    "# Calculate class weights (inverse frequency)\n",
    "class_weights = {cls: total_instances / count for cls, count in class_counts.items()}\n",
    "\n",
    "# Normalize weights (optional)\n",
    "max_weight = max(class_weights.values())\n",
    "class_weights = {cls: weight / max_weight for cls, weight in class_weights.items()}\n",
    "\n",
    "# Convert class weights to a PyTorch tensor\n",
    "num_classes = len(class_counts)\n",
    "weight_tensor = torch.zeros(num_classes)\n",
    "for cls, weight in class_weights.items():\n",
    "    weight_tensor[cls] = weight\n",
    "\n",
    "print(\"Class Weights Tensor:\", weight_tensor)"
   ]
  },
  {
   "cell_type": "markdown",
   "id": "d69a5480",
   "metadata": {
    "papermill": {
     "duration": 0.125588,
     "end_time": "2025-01-13T14:15:47.424412",
     "exception": false,
     "start_time": "2025-01-13T14:15:47.298824",
     "status": "completed"
    },
    "tags": []
   },
   "source": [
    "# Image shapes"
   ]
  },
  {
   "cell_type": "code",
   "execution_count": 11,
   "id": "349f3798",
   "metadata": {
    "execution": {
     "iopub.execute_input": "2025-01-13T14:15:47.676203Z",
     "iopub.status.busy": "2025-01-13T14:15:47.675879Z",
     "iopub.status.idle": "2025-01-13T14:18:01.544235Z",
     "shell.execute_reply": "2025-01-13T14:18:01.543224Z"
    },
    "papermill": {
     "duration": 133.996746,
     "end_time": "2025-01-13T14:18:01.545565",
     "exception": false,
     "start_time": "2025-01-13T14:15:47.548819",
     "status": "completed"
    },
    "tags": []
   },
   "outputs": [
    {
     "name": "stderr",
     "output_type": "stream",
     "text": [
      "100%|██████████| 311/311 [02:13<00:00,  2.32it/s]\n"
     ]
    }
   ],
   "source": [
    "channel_sum = np.zeros(3)          # Sum of pixel values per channel (R, G, B)\n",
    "channel_squared_sum = np.zeros(3) # Sum of squared pixel values per channel\n",
    "num_pixels = 0                    # Total number of pixels across all images\n",
    "\n",
    "# Process images in batches\n",
    "batch_size = 100\n",
    "for i in tqdm(range(0, len(train_images), batch_size)):\n",
    "    # Get a batch of images\n",
    "    batch_images = train_images[i:i + batch_size]\n",
    "    \n",
    "    # Process each image in the batch\n",
    "    for img in batch_images:\n",
    "        # Convert image to NumPy array and normalize to [0, 1]\n",
    "        img_array = np.array(img) / 255.0  # Shape: (320, 320, 3)\n",
    "\n",
    "        # Accumulate sums and squared sums\n",
    "        channel_sum += img_array.sum(axis=(0, 1))  # Sum across height and width\n",
    "        channel_squared_sum += (img_array ** 2).sum(axis=(0, 1))  # Squared sum\n",
    "        num_pixels += img_array.shape[0] * img_array.shape[1]  # Total number of pixels in the image\n",
    "\n",
    "# Calculate mean and standard deviation\n",
    "channel_mean = channel_sum / num_pixels\n",
    "channel_std = np.sqrt(channel_squared_sum / num_pixels - channel_mean ** 2)"
   ]
  },
  {
   "cell_type": "code",
   "execution_count": 12,
   "id": "1da53349",
   "metadata": {
    "execution": {
     "iopub.execute_input": "2025-01-13T14:18:01.828920Z",
     "iopub.status.busy": "2025-01-13T14:18:01.828634Z",
     "iopub.status.idle": "2025-01-13T14:18:01.833419Z",
     "shell.execute_reply": "2025-01-13T14:18:01.832550Z"
    },
    "papermill": {
     "duration": 0.147448,
     "end_time": "2025-01-13T14:18:01.834759",
     "exception": false,
     "start_time": "2025-01-13T14:18:01.687311",
     "status": "completed"
    },
    "tags": []
   },
   "outputs": [
    {
     "name": "stdout",
     "output_type": "stream",
     "text": [
      "Channel Means:  [0.44706843 0.45275457 0.43323347]\n",
      "Channel Standard Deviations:  [0.1888887  0.18831457 0.19633765]\n"
     ]
    }
   ],
   "source": [
    "print(\"Channel Means: \", channel_mean)\n",
    "print(\"Channel Standard Deviations: \", channel_std)"
   ]
  },
  {
   "cell_type": "code",
   "execution_count": 13,
   "id": "7691d880",
   "metadata": {
    "execution": {
     "iopub.execute_input": "2025-01-13T14:18:02.115286Z",
     "iopub.status.busy": "2025-01-13T14:18:02.114974Z",
     "iopub.status.idle": "2025-01-13T14:18:16.001084Z",
     "shell.execute_reply": "2025-01-13T14:18:16.000214Z"
    },
    "papermill": {
     "duration": 14.027535,
     "end_time": "2025-01-13T14:18:16.002539",
     "exception": false,
     "start_time": "2025-01-13T14:18:01.975004",
     "status": "completed"
    },
    "tags": []
   },
   "outputs": [
    {
     "name": "stdout",
     "output_type": "stream",
     "text": [
      "Image Shapes and Counts:\n",
      "Shape (1280, 720): 6446 instances\n",
      "Shape (1920, 1080): 1607 instances\n",
      "Shape (854, 480): 1472 instances\n",
      "Shape (512, 288): 786 instances\n",
      "Shape (1280, 702): 86 instances\n",
      "Shape (912, 608): 319 instances\n",
      "Shape (576, 320): 550 instances\n",
      "Shape (720, 480): 302 instances\n",
      "Shape (558, 360): 89 instances\n",
      "Shape (1280, 704): 70 instances\n",
      "Shape (888, 490): 40 instances\n",
      "Shape (320, 352): 1 instances\n",
      "Total unique shapes: 12\n"
     ]
    }
   ],
   "source": [
    "# Dictionary to store image shapes and their counts\n",
    "shape_counts = defaultdict(int)\n",
    "\n",
    "# Loop through each file in the directory\n",
    "for filename in os.listdir(image_folder_train):\n",
    "    if filename.endswith(\".png\") or filename.endswith(\".jpg\"):\n",
    "        file_path = os.path.join(image_folder_train, filename)\n",
    "        try:\n",
    "            # Open and load the image using Pillow\n",
    "            img = Image.open(file_path)\n",
    "            \n",
    "            # Get the shape of the image (width, height)\n",
    "            shape = img.size  # (width, height)\n",
    "            \n",
    "            # Increment the count for this shape\n",
    "            shape_counts[shape] += 1\n",
    "        except Exception as e:\n",
    "            print(f\"Error loading {filename}: {e}\")\n",
    "\n",
    "# Print grouped shapes with the number of instances\n",
    "print(\"Image Shapes and Counts:\")\n",
    "for shape, count in shape_counts.items():\n",
    "    print(f\"Shape {shape}: {count} instances\")\n",
    "\n",
    "# Total number of images processed\n",
    "print(f\"Total unique shapes: {len(shape_counts)}\")"
   ]
  },
  {
   "cell_type": "markdown",
   "id": "548805b4",
   "metadata": {
    "papermill": {
     "duration": 0.137621,
     "end_time": "2025-01-13T14:18:16.280189",
     "exception": false,
     "start_time": "2025-01-13T14:18:16.142568",
     "status": "completed"
    },
    "tags": []
   },
   "source": [
    "# Labels"
   ]
  },
  {
   "cell_type": "code",
   "execution_count": 14,
   "id": "329b106f",
   "metadata": {
    "execution": {
     "iopub.execute_input": "2025-01-13T14:18:16.595795Z",
     "iopub.status.busy": "2025-01-13T14:18:16.595470Z",
     "iopub.status.idle": "2025-01-13T14:18:16.601186Z",
     "shell.execute_reply": "2025-01-13T14:18:16.600513Z"
    },
    "papermill": {
     "duration": 0.183153,
     "end_time": "2025-01-13T14:18:16.602332",
     "exception": false,
     "start_time": "2025-01-13T14:18:16.419179",
     "status": "completed"
    },
    "tags": []
   },
   "outputs": [
    {
     "name": "stdout",
     "output_type": "stream",
     "text": [
      "\n",
      "Class Weights and Class Names:\n",
      "Class 4: Weight = 0.4322\n",
      "Class 9: Weight = 0.3996\n",
      "Class 0: Weight = 0.1536\n",
      "Class 3: Weight = 0.4477\n",
      "Class 2: Weight = 0.1121\n",
      "Class 10: Weight = 0.1666\n",
      "Class 1: Weight = 0.4238\n",
      "Class 6: Weight = 0.9270\n",
      "Class 5: Weight = 1.0000\n",
      "Class 7: Weight = 0.3255\n",
      "Class 8: Weight = 0.6220\n"
     ]
    }
   ],
   "source": [
    "print(\"\\nClass Weights and Class Names:\")\n",
    "for cls, weight in class_weights.items():\n",
    "    print(f\"Class {cls}: Weight = {weight:.4f}\")"
   ]
  },
  {
   "cell_type": "markdown",
   "id": "4be0b793",
   "metadata": {
    "papermill": {
     "duration": 0.139335,
     "end_time": "2025-01-13T14:18:16.881989",
     "exception": false,
     "start_time": "2025-01-13T14:18:16.742654",
     "status": "completed"
    },
    "tags": []
   },
   "source": [
    "# Transorm"
   ]
  },
  {
   "cell_type": "code",
   "execution_count": 15,
   "id": "1bec8a9e",
   "metadata": {
    "execution": {
     "iopub.execute_input": "2025-01-13T14:18:17.159706Z",
     "iopub.status.busy": "2025-01-13T14:18:17.159399Z",
     "iopub.status.idle": "2025-01-13T14:18:18.541821Z",
     "shell.execute_reply": "2025-01-13T14:18:18.540878Z"
    },
    "papermill": {
     "duration": 1.523688,
     "end_time": "2025-01-13T14:18:18.543452",
     "exception": false,
     "start_time": "2025-01-13T14:18:17.019764",
     "status": "completed"
    },
    "tags": []
   },
   "outputs": [],
   "source": [
    "from torchvision import transforms\n",
    "from torch.utils.data import Dataset, DataLoader"
   ]
  },
  {
   "cell_type": "code",
   "execution_count": 16,
   "id": "062ec980",
   "metadata": {
    "execution": {
     "iopub.execute_input": "2025-01-13T14:18:18.826631Z",
     "iopub.status.busy": "2025-01-13T14:18:18.826163Z",
     "iopub.status.idle": "2025-01-13T14:18:18.829800Z",
     "shell.execute_reply": "2025-01-13T14:18:18.828965Z"
    },
    "papermill": {
     "duration": 0.147813,
     "end_time": "2025-01-13T14:18:18.831206",
     "exception": false,
     "start_time": "2025-01-13T14:18:18.683393",
     "status": "completed"
    },
    "tags": []
   },
   "outputs": [],
   "source": [
    "MEAN = [0.5097, 0.524, 0.5099]\n",
    "STD = [0.212, 0.212, 0.237]"
   ]
  },
  {
   "cell_type": "code",
   "execution_count": 17,
   "id": "447dd99d",
   "metadata": {
    "execution": {
     "iopub.execute_input": "2025-01-13T14:18:19.108292Z",
     "iopub.status.busy": "2025-01-13T14:18:19.107945Z",
     "iopub.status.idle": "2025-01-13T14:18:19.112334Z",
     "shell.execute_reply": "2025-01-13T14:18:19.111457Z"
    },
    "papermill": {
     "duration": 0.144699,
     "end_time": "2025-01-13T14:18:19.113713",
     "exception": false,
     "start_time": "2025-01-13T14:18:18.969014",
     "status": "completed"
    },
    "tags": []
   },
   "outputs": [],
   "source": [
    "transform_v1 = transforms.Compose([\n",
    "    transforms.ToTensor(),\n",
    "    transforms.RandomHorizontalFlip(p=0.25),\n",
    "    transforms.RandomRotation(degrees=25),\n",
    "    transforms.RandomPerspective(distortion_scale=0.6, p=0.25),\n",
    "    transforms.Normalize(MEAN, STD)\n",
    "])"
   ]
  },
  {
   "cell_type": "markdown",
   "id": "d355b9b5",
   "metadata": {
    "papermill": {
     "duration": 0.165126,
     "end_time": "2025-01-13T14:18:19.458436",
     "exception": false,
     "start_time": "2025-01-13T14:18:19.293310",
     "status": "completed"
    },
    "tags": []
   },
   "source": [
    "# DataSet"
   ]
  },
  {
   "cell_type": "code",
   "execution_count": 18,
   "id": "45d1c9af",
   "metadata": {
    "execution": {
     "iopub.execute_input": "2025-01-13T14:18:19.740106Z",
     "iopub.status.busy": "2025-01-13T14:18:19.739822Z",
     "iopub.status.idle": "2025-01-13T14:18:19.745269Z",
     "shell.execute_reply": "2025-01-13T14:18:19.744562Z"
    },
    "papermill": {
     "duration": 0.148066,
     "end_time": "2025-01-13T14:18:19.746447",
     "exception": false,
     "start_time": "2025-01-13T14:18:19.598381",
     "status": "completed"
    },
    "tags": []
   },
   "outputs": [],
   "source": [
    "class SimpsonsDataset(Dataset):\n",
    "    def __init__(self, images, labels, mode, transform):\n",
    "        super().__init__()\n",
    "        # режим работы\n",
    "        self.mode = mode\n",
    "        self.transform = transform\n",
    "        self.labels = labels\n",
    "        self.images = images\n",
    "\n",
    "        if self.mode not in DATA_MODES:\n",
    "            print(f\"{self.mode} is not correct; correct modes: {DATA_MODES}\")\n",
    "            raise NameError\n",
    "\n",
    "        self.len_ = len(self.images)\n",
    "\n",
    "    def __len__(self):\n",
    "        return self.len_\n",
    "\n",
    "    def __getitem__(self, index):\n",
    "        x = self.transform(self.images[index])\n",
    "        if self.mode == 'test':\n",
    "            return x\n",
    "        else:\n",
    "            label = self.labels[index]\n",
    "            return x, torch.tensor(label, dtype=torch.long)"
   ]
  },
  {
   "cell_type": "markdown",
   "id": "227dcbc1",
   "metadata": {
    "papermill": {
     "duration": 0.137416,
     "end_time": "2025-01-13T14:18:20.022660",
     "exception": false,
     "start_time": "2025-01-13T14:18:19.885244",
     "status": "completed"
    },
    "tags": []
   },
   "source": [
    "# Model"
   ]
  },
  {
   "cell_type": "code",
   "execution_count": 19,
   "id": "b686ccee",
   "metadata": {
    "execution": {
     "iopub.execute_input": "2025-01-13T14:18:20.301613Z",
     "iopub.status.busy": "2025-01-13T14:18:20.301268Z",
     "iopub.status.idle": "2025-01-13T14:18:20.305154Z",
     "shell.execute_reply": "2025-01-13T14:18:20.304444Z"
    },
    "papermill": {
     "duration": 0.144911,
     "end_time": "2025-01-13T14:18:20.306426",
     "exception": false,
     "start_time": "2025-01-13T14:18:20.161515",
     "status": "completed"
    },
    "tags": []
   },
   "outputs": [],
   "source": [
    "import torch\n",
    "import torch.nn as nn\n",
    "import torch.optim as optim\n",
    "import torchvision.models as models\n",
    "import torch.nn.functional as F\n",
    "from torch.nn.parameter import Parameter\n",
    "from torch.nn import init\n",
    "import math"
   ]
  },
  {
   "cell_type": "code",
   "execution_count": 20,
   "id": "6ebb414c",
   "metadata": {
    "execution": {
     "iopub.execute_input": "2025-01-13T14:18:20.586591Z",
     "iopub.status.busy": "2025-01-13T14:18:20.586259Z",
     "iopub.status.idle": "2025-01-13T14:18:20.596893Z",
     "shell.execute_reply": "2025-01-13T14:18:20.596052Z"
    },
    "papermill": {
     "duration": 0.151901,
     "end_time": "2025-01-13T14:18:20.598227",
     "exception": false,
     "start_time": "2025-01-13T14:18:20.446326",
     "status": "completed"
    },
    "tags": []
   },
   "outputs": [],
   "source": [
    "class ChannelAttention(nn.Module):\n",
    "    def __init__(self, in_channels, reduction_ratio=16):\n",
    "        super(ChannelAttention, self).__init__()\n",
    "        self.avg_pool = nn.AdaptiveAvgPool2d(1)\n",
    "        self.max_pool = nn.AdaptiveMaxPool2d(1)\n",
    "        self.fc = nn.Sequential(\n",
    "            nn.Linear(in_channels, in_channels // reduction_ratio, bias=False),\n",
    "            nn.ReLU(),\n",
    "            nn.Linear(in_channels // reduction_ratio, in_channels, bias=False)\n",
    "        )\n",
    "        self.sigmoid = nn.Sigmoid()\n",
    "        self.init_weights()\n",
    "\n",
    "    def init_weights(self):\n",
    "        for layer in self.fc:\n",
    "            if isinstance(layer, nn.Linear):\n",
    "                nn.init.xavier_uniform_(layer.weight)\n",
    "\n",
    "    def forward(self, x):\n",
    "        b, c, h, w = x.size()\n",
    "        avg_out = self.fc(self.avg_pool(x).view(b, c))\n",
    "        max_out = self.fc(self.max_pool(x).view(b, c))\n",
    "        out = avg_out + max_out\n",
    "        return self.sigmoid(out).view(b, c, 1, 1) * x\n",
    "\n",
    "class SpatialAttention(nn.Module):\n",
    "    def __init__(self):\n",
    "        super(SpatialAttention, self).__init__()\n",
    "        self.conv = nn.Conv2d(2, 1, kernel_size=7, padding=3, bias=False)\n",
    "        self.sigmoid = nn.Sigmoid()\n",
    "\n",
    "    def forward(self, x):\n",
    "        avg_out = torch.mean(x, dim=1, keepdim=True)\n",
    "        max_out, _ = torch.max(x, dim=1, keepdim=True)\n",
    "        concat = torch.cat([avg_out, max_out], dim=1) # -1?\n",
    "        attention = self.sigmoid(self.conv(concat))\n",
    "        return attention * x\n",
    "\n",
    "class CBAM(nn.Module):\n",
    "    def __init__(self, in_channels, reduction_ratio=16):\n",
    "        super(CBAM, self).__init__()\n",
    "        self.channel_attention = ChannelAttention(in_channels, reduction_ratio)\n",
    "        self.spatial_attention = SpatialAttention()\n",
    "\n",
    "    def forward(self, x):\n",
    "        x = self.channel_attention(x)\n",
    "        x = self.spatial_attention(x)\n",
    "        return x"
   ]
  },
  {
   "cell_type": "code",
   "execution_count": 21,
   "id": "3aa10601",
   "metadata": {
    "execution": {
     "iopub.execute_input": "2025-01-13T14:18:20.923968Z",
     "iopub.status.busy": "2025-01-13T14:18:20.923676Z",
     "iopub.status.idle": "2025-01-13T14:18:20.930316Z",
     "shell.execute_reply": "2025-01-13T14:18:20.929639Z"
    },
    "papermill": {
     "duration": 0.190718,
     "end_time": "2025-01-13T14:18:20.931507",
     "exception": false,
     "start_time": "2025-01-13T14:18:20.740789",
     "status": "completed"
    },
    "tags": []
   },
   "outputs": [],
   "source": [
    "class ResNet18WithCBAM(nn.Module):\n",
    "    def __init__(self, num_classes, pretrained=True):\n",
    "        super(ResNet18WithCBAM, self).__init__()\n",
    "        \n",
    "        self.resnet = models.resnet18(pretrained=pretrained)\n",
    "        self.layer0 = nn.Sequential(\n",
    "            self.resnet.conv1,\n",
    "            self.resnet.bn1,\n",
    "            self.resnet.relu,\n",
    "            self.resnet.maxpool\n",
    "        )\n",
    "        self.layer1 = self.resnet.layer1\n",
    "        self.layer2 = self.resnet.layer2\n",
    "        self.layer3 = self.resnet.layer3\n",
    "        self.layer4 = self.resnet.layer4\n",
    "        self.avgpool = self.resnet.avgpool\n",
    "        in_features = self.resnet.fc.in_features  # Get the number of input features for the original FC layer\n",
    "        self.fc = nn.Linear(in_features, num_classes)  # New FC layer\n",
    "        \n",
    "        self.module1 = CBAM(64)\n",
    "        self.module2 = CBAM(128)\n",
    "        self.module3 = CBAM(256)\n",
    "        self.module4 = CBAM(512)\n",
    "        nn.init.xavier_uniform_(self.fc.weight)\n",
    "\n",
    "\n",
    "    def get_info(self):\n",
    "        return 'ResNet18', 'CBAM'\n",
    "\n",
    "\n",
    "    def forward(self, x):\n",
    "        x = self.layer0(x)\n",
    "        x = self.layer1(x)\n",
    "        x = self.module1(x)\n",
    "        x = self.layer2(x)\n",
    "        x = self.module2(x)\n",
    "        x = self.layer3(x)\n",
    "        x = self.module3(x)\n",
    "        x = self.layer4(x)\n",
    "        x = self.module4(x)\n",
    "        x = self.avgpool(x)\n",
    "        x = torch.flatten(x, 1)\n",
    "        x = self.fc(x)\n",
    "        return x"
   ]
  },
  {
   "cell_type": "code",
   "execution_count": 22,
   "id": "63d0a96e",
   "metadata": {
    "execution": {
     "iopub.execute_input": "2025-01-13T14:18:21.210279Z",
     "iopub.status.busy": "2025-01-13T14:18:21.209939Z",
     "iopub.status.idle": "2025-01-13T14:18:21.945318Z",
     "shell.execute_reply": "2025-01-13T14:18:21.944214Z"
    },
    "papermill": {
     "duration": 0.876748,
     "end_time": "2025-01-13T14:18:21.946688",
     "exception": false,
     "start_time": "2025-01-13T14:18:21.069940",
     "status": "completed"
    },
    "tags": []
   },
   "outputs": [
    {
     "name": "stderr",
     "output_type": "stream",
     "text": [
      "/usr/local/lib/python3.10/dist-packages/torchvision/models/_utils.py:208: UserWarning: The parameter 'pretrained' is deprecated since 0.13 and may be removed in the future, please use 'weights' instead.\n",
      "  warnings.warn(\n",
      "/usr/local/lib/python3.10/dist-packages/torchvision/models/_utils.py:223: UserWarning: Arguments other than a weight enum or `None` for 'weights' are deprecated since 0.13 and may be removed in the future. The current behavior is equivalent to passing `weights=ResNet18_Weights.IMAGENET1K_V1`. You can also use `weights=ResNet18_Weights.DEFAULT` to get the most up-to-date weights.\n",
      "  warnings.warn(msg)\n",
      "Downloading: \"https://download.pytorch.org/models/resnet18-f37072fd.pth\" to /root/.cache/torch/hub/checkpoints/resnet18-f37072fd.pth\n",
      "100%|██████████| 44.7M/44.7M [00:00<00:00, 175MB/s]\n"
     ]
    },
    {
     "name": "stdout",
     "output_type": "stream",
     "text": [
      "Output shape: torch.Size([1, 11])\n"
     ]
    }
   ],
   "source": [
    "model = ResNet18WithCBAM(num_classes=11, pretrained=True)\n",
    "input_tensor = torch.randn(1, 3, 224, 224)  # Example input\n",
    "output = model(input_tensor)\n",
    "print(\"Output shape:\", output.shape)"
   ]
  },
  {
   "cell_type": "code",
   "execution_count": 23,
   "id": "406d4f8b",
   "metadata": {
    "execution": {
     "iopub.execute_input": "2025-01-13T14:18:22.230802Z",
     "iopub.status.busy": "2025-01-13T14:18:22.230397Z",
     "iopub.status.idle": "2025-01-13T14:18:22.236906Z",
     "shell.execute_reply": "2025-01-13T14:18:22.236056Z"
    },
    "papermill": {
     "duration": 0.148443,
     "end_time": "2025-01-13T14:18:22.238335",
     "exception": false,
     "start_time": "2025-01-13T14:18:22.089892",
     "status": "completed"
    },
    "tags": []
   },
   "outputs": [],
   "source": [
    "class SpatialGroupEnhance(nn.Module):\n",
    "    def __init__(self, groups = 64):\n",
    "        super(SpatialGroupEnhance, self).__init__()\n",
    "        self.groups = groups\n",
    "        self.avg_pool = nn.AdaptiveAvgPool2d(1)\n",
    "        self.weight = Parameter(torch.zeros(1, groups, 1, 1))\n",
    "        self.bias = Parameter(torch.ones(1, groups, 1, 1))\n",
    "        self.sig = nn.Sigmoid()\n",
    "\n",
    "    def forward(self, x): # (b, c, h, w)\n",
    "        b, c, h, w = x.size()\n",
    "        x = x.view(b * self.groups, -1, h, w) \n",
    "        xn = x * self.avg_pool(x)\n",
    "        xn = xn.sum(dim=1, keepdim=True)\n",
    "        t = xn.view(b * self.groups, -1)\n",
    "        t = t - t.mean(dim=1, keepdim=True)\n",
    "        std = t.std(dim=1, keepdim=True) + 1e-5\n",
    "        t = t / std\n",
    "        t = t.view(b, self.groups, h, w)\n",
    "        t = t * self.weight + self.bias\n",
    "        t = t.view(b * self.groups, 1, h, w)\n",
    "        x = x * self.sig(t)\n",
    "        x = x.view(b, c, h, w)\n",
    "        return x"
   ]
  },
  {
   "cell_type": "code",
   "execution_count": 24,
   "id": "d5e1d79c",
   "metadata": {
    "execution": {
     "iopub.execute_input": "2025-01-13T14:18:22.519298Z",
     "iopub.status.busy": "2025-01-13T14:18:22.518952Z",
     "iopub.status.idle": "2025-01-13T14:18:22.525789Z",
     "shell.execute_reply": "2025-01-13T14:18:22.525117Z"
    },
    "papermill": {
     "duration": 0.149185,
     "end_time": "2025-01-13T14:18:22.527002",
     "exception": false,
     "start_time": "2025-01-13T14:18:22.377817",
     "status": "completed"
    },
    "tags": []
   },
   "outputs": [],
   "source": [
    "class ResNet18WithSGE(nn.Module):\n",
    "    def __init__(self, num_classes, groups, pretrained=True):\n",
    "        super(ResNet18WithSGE, self).__init__()\n",
    "        \n",
    "        self.resnet = models.resnet18(pretrained=pretrained)\n",
    "        self.layer0 = nn.Sequential(\n",
    "            self.resnet.conv1,\n",
    "            self.resnet.bn1,\n",
    "            self.resnet.relu,\n",
    "            self.resnet.maxpool\n",
    "        )\n",
    "        self.layer1 = self.resnet.layer1\n",
    "        self.layer2 = self.resnet.layer2\n",
    "        self.layer3 = self.resnet.layer3\n",
    "        self.layer4 = self.resnet.layer4\n",
    "        self.avgpool = self.resnet.avgpool\n",
    "        in_features = self.resnet.fc.in_features  # Get the number of input features for the original FC layer\n",
    "        self.fc = nn.Linear(in_features, num_classes)  # New FC layer\n",
    "        \n",
    "        self.module1 = SpatialGroupEnhance(groups[0])\n",
    "        self.module2 = SpatialGroupEnhance(groups[1])\n",
    "        self.module3 = SpatialGroupEnhance(groups[2])\n",
    "        self.module4 = SpatialGroupEnhance(groups[3])\n",
    "        nn.init.xavier_uniform_(self.fc.weight)\n",
    "\n",
    "\n",
    "    def get_info(self):\n",
    "        return 'ResNet18', 'SGE'\n",
    "    \n",
    "\n",
    "    def forward(self, x):\n",
    "        x = self.layer0(x)\n",
    "        x = self.layer1(x)\n",
    "        x = self.module1(x)\n",
    "        x = self.layer2(x)\n",
    "        x = self.module2(x)\n",
    "        x = self.layer3(x)\n",
    "        x = self.module3(x)\n",
    "        x = self.layer4(x)\n",
    "        x = self.module4(x)\n",
    "        x = self.avgpool(x)\n",
    "        x = torch.flatten(x, 1)\n",
    "        x = self.fc(x)\n",
    "        return x"
   ]
  },
  {
   "cell_type": "code",
   "execution_count": 25,
   "id": "4aacb658",
   "metadata": {
    "execution": {
     "iopub.execute_input": "2025-01-13T14:18:22.807607Z",
     "iopub.status.busy": "2025-01-13T14:18:22.807288Z",
     "iopub.status.idle": "2025-01-13T14:18:23.027221Z",
     "shell.execute_reply": "2025-01-13T14:18:23.026285Z"
    },
    "papermill": {
     "duration": 0.362462,
     "end_time": "2025-01-13T14:18:23.028887",
     "exception": false,
     "start_time": "2025-01-13T14:18:22.666425",
     "status": "completed"
    },
    "tags": []
   },
   "outputs": [],
   "source": [
    "model2 = ResNet18WithSGE(num_classes=11, groups=[2, 4, 4, 4], pretrained=True)"
   ]
  },
  {
   "cell_type": "code",
   "execution_count": 26,
   "id": "ec429b58",
   "metadata": {
    "execution": {
     "iopub.execute_input": "2025-01-13T14:18:23.347726Z",
     "iopub.status.busy": "2025-01-13T14:18:23.347408Z",
     "iopub.status.idle": "2025-01-13T14:18:23.351673Z",
     "shell.execute_reply": "2025-01-13T14:18:23.350974Z"
    },
    "papermill": {
     "duration": 0.182424,
     "end_time": "2025-01-13T14:18:23.352851",
     "exception": false,
     "start_time": "2025-01-13T14:18:23.170427",
     "status": "completed"
    },
    "tags": []
   },
   "outputs": [],
   "source": [
    "pretrained_params = []\n",
    "cbam_params = []\n",
    "\n",
    "for name, param in model2.named_parameters():\n",
    "    if 'module' in name or 'fc' in name:\n",
    "        cbam_params.append(param)\n",
    "    else:\n",
    "        pretrained_params.append(param)"
   ]
  },
  {
   "cell_type": "code",
   "execution_count": 27,
   "id": "a952da0b",
   "metadata": {
    "execution": {
     "iopub.execute_input": "2025-01-13T14:18:23.636928Z",
     "iopub.status.busy": "2025-01-13T14:18:23.636612Z",
     "iopub.status.idle": "2025-01-13T14:18:23.640746Z",
     "shell.execute_reply": "2025-01-13T14:18:23.639896Z"
    },
    "papermill": {
     "duration": 0.146725,
     "end_time": "2025-01-13T14:18:23.641912",
     "exception": false,
     "start_time": "2025-01-13T14:18:23.495187",
     "status": "completed"
    },
    "tags": []
   },
   "outputs": [],
   "source": [
    "# Optimizers with different learning rates\n",
    "optimizer = optim.AdamW([\n",
    "    {'params': pretrained_params, 'lr': 5e-5, 'weight_decay': 1e-4},  # Smaller LR for pretrained layers\n",
    "    {'params': cbam_params, 'lr': 5e-4, 'weight_decay': 1e-3}        # Larger LR for CBAM layers\n",
    "])"
   ]
  },
  {
   "cell_type": "code",
   "execution_count": 28,
   "id": "96110a68",
   "metadata": {
    "execution": {
     "iopub.execute_input": "2025-01-13T14:18:23.920454Z",
     "iopub.status.busy": "2025-01-13T14:18:23.920111Z",
     "iopub.status.idle": "2025-01-13T14:18:23.970527Z",
     "shell.execute_reply": "2025-01-13T14:18:23.969638Z"
    },
    "papermill": {
     "duration": 0.19179,
     "end_time": "2025-01-13T14:18:23.971837",
     "exception": false,
     "start_time": "2025-01-13T14:18:23.780047",
     "status": "completed"
    },
    "tags": []
   },
   "outputs": [],
   "source": [
    "device = torch.device(\"cuda\" if torch.cuda.is_available() else \"cpu\")"
   ]
  },
  {
   "cell_type": "code",
   "execution_count": 29,
   "id": "cac922fc",
   "metadata": {
    "execution": {
     "iopub.execute_input": "2025-01-13T14:18:24.251377Z",
     "iopub.status.busy": "2025-01-13T14:18:24.251088Z",
     "iopub.status.idle": "2025-01-13T14:18:24.421433Z",
     "shell.execute_reply": "2025-01-13T14:18:24.420482Z"
    },
    "papermill": {
     "duration": 0.312086,
     "end_time": "2025-01-13T14:18:24.423116",
     "exception": false,
     "start_time": "2025-01-13T14:18:24.111030",
     "status": "completed"
    },
    "tags": []
   },
   "outputs": [],
   "source": [
    "criterion = torch.nn.CrossEntropyLoss(weight=weight_tensor.to(device))"
   ]
  },
  {
   "cell_type": "code",
   "execution_count": 30,
   "id": "93897031",
   "metadata": {
    "execution": {
     "iopub.execute_input": "2025-01-13T14:18:24.702872Z",
     "iopub.status.busy": "2025-01-13T14:18:24.702581Z",
     "iopub.status.idle": "2025-01-13T14:18:24.724768Z",
     "shell.execute_reply": "2025-01-13T14:18:24.724033Z"
    },
    "papermill": {
     "duration": 0.162626,
     "end_time": "2025-01-13T14:18:24.726053",
     "exception": false,
     "start_time": "2025-01-13T14:18:24.563427",
     "status": "completed"
    },
    "tags": []
   },
   "outputs": [],
   "source": [
    "model2 = model2.to(device)"
   ]
  },
  {
   "cell_type": "markdown",
   "id": "6c8e8bb3",
   "metadata": {
    "papermill": {
     "duration": 0.138486,
     "end_time": "2025-01-13T14:18:25.004081",
     "exception": false,
     "start_time": "2025-01-13T14:18:24.865595",
     "status": "completed"
    },
    "tags": []
   },
   "source": [
    "# Resnet"
   ]
  },
  {
   "cell_type": "code",
   "execution_count": 31,
   "id": "34be83dc",
   "metadata": {
    "execution": {
     "iopub.execute_input": "2025-01-13T14:18:25.319489Z",
     "iopub.status.busy": "2025-01-13T14:18:25.319172Z",
     "iopub.status.idle": "2025-01-13T14:18:25.522177Z",
     "shell.execute_reply": "2025-01-13T14:18:25.521452Z"
    },
    "papermill": {
     "duration": 0.345397,
     "end_time": "2025-01-13T14:18:25.523796",
     "exception": false,
     "start_time": "2025-01-13T14:18:25.178399",
     "status": "completed"
    },
    "tags": []
   },
   "outputs": [],
   "source": [
    "resnet18 = models.resnet18(pretrained=True)"
   ]
  },
  {
   "cell_type": "code",
   "execution_count": 32,
   "id": "a11763fa",
   "metadata": {
    "execution": {
     "iopub.execute_input": "2025-01-13T14:18:25.804931Z",
     "iopub.status.busy": "2025-01-13T14:18:25.804615Z",
     "iopub.status.idle": "2025-01-13T14:18:25.808744Z",
     "shell.execute_reply": "2025-01-13T14:18:25.808105Z"
    },
    "papermill": {
     "duration": 0.145788,
     "end_time": "2025-01-13T14:18:25.809975",
     "exception": false,
     "start_time": "2025-01-13T14:18:25.664187",
     "status": "completed"
    },
    "tags": []
   },
   "outputs": [],
   "source": [
    "num_classes = 11\n",
    "in_features = resnet18.fc.in_features\n",
    "resnet18.fc = nn.Linear(in_features, num_classes)"
   ]
  },
  {
   "cell_type": "code",
   "execution_count": 33,
   "id": "b91b71ff",
   "metadata": {
    "execution": {
     "iopub.execute_input": "2025-01-13T14:18:26.089037Z",
     "iopub.status.busy": "2025-01-13T14:18:26.088776Z",
     "iopub.status.idle": "2025-01-13T14:18:26.092824Z",
     "shell.execute_reply": "2025-01-13T14:18:26.092156Z"
    },
    "papermill": {
     "duration": 0.144592,
     "end_time": "2025-01-13T14:18:26.094217",
     "exception": false,
     "start_time": "2025-01-13T14:18:25.949625",
     "status": "completed"
    },
    "tags": []
   },
   "outputs": [],
   "source": [
    "pretrained_params = []\n",
    "last_layer_params = []\n",
    "\n",
    "for name, param in resnet18.named_parameters():\n",
    "    if name.startswith(\"fc\"):  # fc refers to the last layer\n",
    "        last_layer_params.append(param)\n",
    "    else:\n",
    "        pretrained_params.append(param)"
   ]
  },
  {
   "cell_type": "code",
   "execution_count": 34,
   "id": "d3b34e1a",
   "metadata": {
    "execution": {
     "iopub.execute_input": "2025-01-13T14:18:26.380743Z",
     "iopub.status.busy": "2025-01-13T14:18:26.380470Z",
     "iopub.status.idle": "2025-01-13T14:18:26.384013Z",
     "shell.execute_reply": "2025-01-13T14:18:26.383389Z"
    },
    "papermill": {
     "duration": 0.151924,
     "end_time": "2025-01-13T14:18:26.385221",
     "exception": false,
     "start_time": "2025-01-13T14:18:26.233297",
     "status": "completed"
    },
    "tags": []
   },
   "outputs": [],
   "source": [
    "optimizer = optim.AdamW([\n",
    "    {'params': pretrained_params, 'lr': 5e-5, 'weight_decay': 1e-4},  # Smaller LR for pretrained layers\n",
    "    {'params': last_layer_params, 'lr': 5e-4, 'weight_decay': 1e-3}  # Larger LR for the last layer\n",
    "])"
   ]
  },
  {
   "cell_type": "code",
   "execution_count": 35,
   "id": "87a8abc7",
   "metadata": {
    "execution": {
     "iopub.execute_input": "2025-01-13T14:18:26.709799Z",
     "iopub.status.busy": "2025-01-13T14:18:26.709461Z",
     "iopub.status.idle": "2025-01-13T14:18:26.713235Z",
     "shell.execute_reply": "2025-01-13T14:18:26.712530Z"
    },
    "papermill": {
     "duration": 0.183116,
     "end_time": "2025-01-13T14:18:26.714510",
     "exception": false,
     "start_time": "2025-01-13T14:18:26.531394",
     "status": "completed"
    },
    "tags": []
   },
   "outputs": [],
   "source": [
    "device = torch.device(\"cuda\" if torch.cuda.is_available() else \"cpu\")"
   ]
  },
  {
   "cell_type": "code",
   "execution_count": 36,
   "id": "38a7652f",
   "metadata": {
    "execution": {
     "iopub.execute_input": "2025-01-13T14:18:26.992947Z",
     "iopub.status.busy": "2025-01-13T14:18:26.992686Z",
     "iopub.status.idle": "2025-01-13T14:18:26.996315Z",
     "shell.execute_reply": "2025-01-13T14:18:26.995603Z"
    },
    "papermill": {
     "duration": 0.14417,
     "end_time": "2025-01-13T14:18:26.997600",
     "exception": false,
     "start_time": "2025-01-13T14:18:26.853430",
     "status": "completed"
    },
    "tags": []
   },
   "outputs": [],
   "source": [
    "criterion = torch.nn.CrossEntropyLoss(weight=weight_tensor.to(device))"
   ]
  },
  {
   "cell_type": "code",
   "execution_count": 37,
   "id": "1227a7da",
   "metadata": {
    "execution": {
     "iopub.execute_input": "2025-01-13T14:18:27.276366Z",
     "iopub.status.busy": "2025-01-13T14:18:27.276045Z",
     "iopub.status.idle": "2025-01-13T14:18:27.298064Z",
     "shell.execute_reply": "2025-01-13T14:18:27.297215Z"
    },
    "papermill": {
     "duration": 0.162668,
     "end_time": "2025-01-13T14:18:27.299407",
     "exception": false,
     "start_time": "2025-01-13T14:18:27.136739",
     "status": "completed"
    },
    "tags": []
   },
   "outputs": [],
   "source": [
    "resnet18 = resnet18.to(device)"
   ]
  },
  {
   "cell_type": "markdown",
   "id": "c92d2ef1",
   "metadata": {
    "papermill": {
     "duration": 0.13994,
     "end_time": "2025-01-13T14:18:27.579848",
     "exception": false,
     "start_time": "2025-01-13T14:18:27.439908",
     "status": "completed"
    },
    "tags": []
   },
   "source": [
    "# Metrics"
   ]
  },
  {
   "cell_type": "code",
   "execution_count": 38,
   "id": "11531955",
   "metadata": {
    "execution": {
     "iopub.execute_input": "2025-01-13T14:18:27.860381Z",
     "iopub.status.busy": "2025-01-13T14:18:27.860036Z",
     "iopub.status.idle": "2025-01-13T14:18:29.006109Z",
     "shell.execute_reply": "2025-01-13T14:18:29.005428Z"
    },
    "papermill": {
     "duration": 1.287897,
     "end_time": "2025-01-13T14:18:29.007675",
     "exception": false,
     "start_time": "2025-01-13T14:18:27.719778",
     "status": "completed"
    },
    "tags": []
   },
   "outputs": [],
   "source": [
    "from sklearn.metrics import precision_score, f1_score, recall_score, accuracy_score"
   ]
  },
  {
   "cell_type": "code",
   "execution_count": 39,
   "id": "5d8059b7",
   "metadata": {
    "execution": {
     "iopub.execute_input": "2025-01-13T14:18:29.333763Z",
     "iopub.status.busy": "2025-01-13T14:18:29.333284Z",
     "iopub.status.idle": "2025-01-13T14:18:29.339060Z",
     "shell.execute_reply": "2025-01-13T14:18:29.338398Z"
    },
    "papermill": {
     "duration": 0.19185,
     "end_time": "2025-01-13T14:18:29.340371",
     "exception": false,
     "start_time": "2025-01-13T14:18:29.148521",
     "status": "completed"
    },
    "tags": []
   },
   "outputs": [],
   "source": [
    "class Metrics():\n",
    "    def __init__(self):\n",
    "        self.all_actual = np.array([])\n",
    "        self.all_predicted = np.array([])\n",
    "\n",
    "    def batch_step(self, actualv, predictedv):\n",
    "        self.all_actual = np.concatenate([self.all_actual, actualv.numpy(force=True)])\n",
    "        self.all_predicted = np.concatenate([self.all_predicted, predictedv.numpy(force=True)])\n",
    "\n",
    "    def get_metrics(self):\n",
    "        recall = recall_score(self.all_actual, self.all_predicted, average='weighted', zero_division=0)\n",
    "        precision = precision_score(self.all_actual, self.all_predicted, average='weighted', zero_division=0)\n",
    "        f1 = f1_score(self.all_actual, self.all_predicted, average='weighted', zero_division=0)\n",
    "        accuracy = accuracy_score(self.all_actual, self.all_predicted)\n",
    "        #roc_auc = roc_auc_score(self.all_actual, self.all_predicted, average='weighted', multi_class='ovo')\n",
    "        return recall, precision, f1, accuracy"
   ]
  },
  {
   "cell_type": "markdown",
   "id": "792576fd",
   "metadata": {
    "papermill": {
     "duration": 0.140202,
     "end_time": "2025-01-13T14:18:29.646159",
     "exception": false,
     "start_time": "2025-01-13T14:18:29.505957",
     "status": "completed"
    },
    "tags": []
   },
   "source": [
    "# Train function"
   ]
  },
  {
   "cell_type": "code",
   "execution_count": 40,
   "id": "8ef5ad88",
   "metadata": {
    "execution": {
     "iopub.execute_input": "2025-01-13T14:18:29.927840Z",
     "iopub.status.busy": "2025-01-13T14:18:29.927557Z",
     "iopub.status.idle": "2025-01-13T14:18:37.128591Z",
     "shell.execute_reply": "2025-01-13T14:18:37.127628Z"
    },
    "papermill": {
     "duration": 7.343641,
     "end_time": "2025-01-13T14:18:37.130123",
     "exception": false,
     "start_time": "2025-01-13T14:18:29.786482",
     "status": "completed"
    },
    "tags": []
   },
   "outputs": [],
   "source": [
    "import time\n",
    "from datetime import datetime\n",
    "from torch.utils.tensorboard import SummaryWriter\n",
    "from torchsummary import summary"
   ]
  },
  {
   "cell_type": "code",
   "execution_count": 41,
   "id": "415f44ee",
   "metadata": {
    "execution": {
     "iopub.execute_input": "2025-01-13T14:18:37.414422Z",
     "iopub.status.busy": "2025-01-13T14:18:37.413787Z",
     "iopub.status.idle": "2025-01-13T14:18:37.417731Z",
     "shell.execute_reply": "2025-01-13T14:18:37.416858Z"
    },
    "papermill": {
     "duration": 0.1478,
     "end_time": "2025-01-13T14:18:37.419048",
     "exception": false,
     "start_time": "2025-01-13T14:18:37.271248",
     "status": "completed"
    },
    "tags": []
   },
   "outputs": [],
   "source": [
    "BATCH_SIZE = 64"
   ]
  },
  {
   "cell_type": "code",
   "execution_count": 42,
   "id": "a61af5e2",
   "metadata": {
    "execution": {
     "iopub.execute_input": "2025-01-13T14:18:37.700240Z",
     "iopub.status.busy": "2025-01-13T14:18:37.699882Z",
     "iopub.status.idle": "2025-01-13T14:18:37.704403Z",
     "shell.execute_reply": "2025-01-13T14:18:37.703685Z"
    },
    "papermill": {
     "duration": 0.146173,
     "end_time": "2025-01-13T14:18:37.705583",
     "exception": false,
     "start_time": "2025-01-13T14:18:37.559410",
     "status": "completed"
    },
    "tags": []
   },
   "outputs": [],
   "source": [
    "train_dataset = SimpsonsDataset(train_images, train_labels, 'train', transform_v1)\n",
    "train_dataloader = DataLoader(train_dataset, batch_size=BATCH_SIZE, num_workers=4, shuffle=True)\n",
    "val_dataset = SimpsonsDataset(val_images, val_labels, 'val', transform_v1)\n",
    "val_dataloader = DataLoader(val_dataset, batch_size=BATCH_SIZE, num_workers=4)"
   ]
  },
  {
   "cell_type": "code",
   "execution_count": 43,
   "id": "dcd0d080",
   "metadata": {
    "execution": {
     "iopub.execute_input": "2025-01-13T14:18:37.991196Z",
     "iopub.status.busy": "2025-01-13T14:18:37.990833Z",
     "iopub.status.idle": "2025-01-13T14:18:37.996551Z",
     "shell.execute_reply": "2025-01-13T14:18:37.995707Z"
    },
    "papermill": {
     "duration": 0.150032,
     "end_time": "2025-01-13T14:18:37.997880",
     "exception": false,
     "start_time": "2025-01-13T14:18:37.847848",
     "status": "completed"
    },
    "tags": []
   },
   "outputs": [],
   "source": [
    "def train_step(model, loss_fn, opt, loader, batch_size):\n",
    "    loss_per_batches = 0\n",
    "    elapsed = 0\n",
    "    start_epoch2 = time.time()\n",
    "    for i, data in tqdm(enumerate(loader), total=len(train_labels)//batch_size):\n",
    "\n",
    "        start_epoch = time.time()\n",
    "        features, labels = data\n",
    "        features, labels = features.to(device), labels.to(device)\n",
    "        opt.zero_grad()\n",
    "\n",
    "        y_pred = model(features)\n",
    "        loss = loss_fn(y_pred, labels)\n",
    "        loss.backward()\n",
    "\n",
    "        opt.step()\n",
    "\n",
    "        loss_per_batches += loss\n",
    "        end_epoch = time.time()\n",
    "        elapsed += (end_epoch - start_epoch)\n",
    "\n",
    "    print(\"train = \" + str(elapsed))\n",
    "    print(\"train + load = \" + str(time.time() - start_epoch2))\n",
    "    return loss_per_batches/(i+1)"
   ]
  },
  {
   "cell_type": "code",
   "execution_count": 44,
   "id": "7561329f",
   "metadata": {
    "execution": {
     "iopub.execute_input": "2025-01-13T14:18:38.318685Z",
     "iopub.status.busy": "2025-01-13T14:18:38.318366Z",
     "iopub.status.idle": "2025-01-13T14:18:38.321994Z",
     "shell.execute_reply": "2025-01-13T14:18:38.321194Z"
    },
    "papermill": {
     "duration": 0.147016,
     "end_time": "2025-01-13T14:18:38.323380",
     "exception": false,
     "start_time": "2025-01-13T14:18:38.176364",
     "status": "completed"
    },
    "tags": []
   },
   "outputs": [],
   "source": [
    "loss_val = list()\n",
    "loss_train = list()\n",
    "acc_val = list()"
   ]
  },
  {
   "cell_type": "code",
   "execution_count": 45,
   "id": "0d4c5cb9",
   "metadata": {
    "execution": {
     "iopub.execute_input": "2025-01-13T14:18:38.609483Z",
     "iopub.status.busy": "2025-01-13T14:18:38.609113Z",
     "iopub.status.idle": "2025-01-13T14:18:38.612634Z",
     "shell.execute_reply": "2025-01-13T14:18:38.611805Z"
    },
    "papermill": {
     "duration": 0.147796,
     "end_time": "2025-01-13T14:18:38.613836",
     "exception": false,
     "start_time": "2025-01-13T14:18:38.466040",
     "status": "completed"
    },
    "tags": []
   },
   "outputs": [],
   "source": [
    "directory_path = '/kaggle/working/model_svs/'"
   ]
  },
  {
   "cell_type": "code",
   "execution_count": 46,
   "id": "e4635fbd",
   "metadata": {
    "execution": {
     "iopub.execute_input": "2025-01-13T14:18:38.899061Z",
     "iopub.status.busy": "2025-01-13T14:18:38.898747Z",
     "iopub.status.idle": "2025-01-13T14:18:38.903624Z",
     "shell.execute_reply": "2025-01-13T14:18:38.902764Z"
    },
    "papermill": {
     "duration": 0.147197,
     "end_time": "2025-01-13T14:18:38.904826",
     "exception": false,
     "start_time": "2025-01-13T14:18:38.757629",
     "status": "completed"
    },
    "tags": []
   },
   "outputs": [
    {
     "name": "stdout",
     "output_type": "stream",
     "text": [
      "Directory created at: /kaggle/working/model_svs/\n"
     ]
    }
   ],
   "source": [
    "if not os.path.exists(directory_path):\n",
    "    # Create the directory\n",
    "    os.makedirs(directory_path)\n",
    "    print(f\"Directory created at: {directory_path}\")\n",
    "else:\n",
    "    print(f\"Directory already exists at: {directory_path}\")"
   ]
  },
  {
   "cell_type": "code",
   "execution_count": 47,
   "id": "a566d5f0",
   "metadata": {
    "execution": {
     "iopub.execute_input": "2025-01-13T14:18:39.187811Z",
     "iopub.status.busy": "2025-01-13T14:18:39.187476Z",
     "iopub.status.idle": "2025-01-13T14:18:39.195986Z",
     "shell.execute_reply": "2025-01-13T14:18:39.195166Z"
    },
    "papermill": {
     "duration": 0.149594,
     "end_time": "2025-01-13T14:18:39.197273",
     "exception": false,
     "start_time": "2025-01-13T14:18:39.047679",
     "status": "completed"
    },
    "tags": []
   },
   "outputs": [],
   "source": [
    "def train(model, loss_fn, opt, train_loader, val_loader, batch_size, save_treshold=10, epochs=50, model_name='model_name'):\n",
    "\n",
    "    timestamp = datetime.now().strftime('%Y%m%d_%H%M%S')\n",
    "    model_type, module = model.get_info()\n",
    "    writer = SummaryWriter('/kaggle/working/runs/' + model_name + '{}_{}_{}'.format(model_type, module, timestamp))\n",
    "    scheduler = torch.optim.lr_scheduler.CosineAnnealingLR(opt, epochs)\n",
    "    \n",
    "\n",
    "    for epoch in range(epochs):\n",
    "        start_epoch = time.time()\n",
    "        metrics_valid = Metrics()\n",
    "        print('EPOCH {}:'.format(epoch + 1))\n",
    "\n",
    "        model.train()\n",
    "        avg_loss = train_step(model, loss_fn, opt, train_loader, batch_size)\n",
    "        model.eval()\n",
    "\n",
    "        vloss = 0\n",
    "        counter = 0\n",
    "        with torch.inference_mode():\n",
    "            for i, vdata in enumerate(val_loader):\n",
    "                vfeatures, vlabels = vdata\n",
    "                vfeatures, vlabels = vfeatures.to(device), vlabels.to(device)\n",
    "\n",
    "                y_pred = model(vfeatures)\n",
    "                bloss = loss_fn(y_pred, vlabels)\n",
    "                vloss += bloss\n",
    "                y_pred = torch.argmax(y_pred, 1)\n",
    "                metrics_valid.batch_step(vlabels, y_pred)\n",
    "                counter = i\n",
    "\n",
    "        avg_vloss = vloss / (counter + 1)\n",
    "\n",
    "        scheduler.step()\n",
    "\n",
    "        valrecall, valprecision, valf1, valacc = metrics_valid.get_metrics()\n",
    "        print('LOSS train {} valid {}'.format(avg_loss, avg_vloss))\n",
    "        print('Accuracy valid {}'.format(valacc))\n",
    "        print('Recall valid {}'.format(valrecall))\n",
    "        print('Precision valid {}'.format(valprecision))\n",
    "        print('Val F1->{}'.format(valf1))\n",
    "        #print('roc auc valid {}'.format(roc_auc))\n",
    "\n",
    "        loss_train.append(avg_loss)\n",
    "        loss_val.append(avg_vloss)\n",
    "        acc_val.append(valacc)\n",
    "        writer.add_scalars('Training vs. Validation Loss',\n",
    "                    { 'Training': avg_loss, 'Validation': avg_vloss },\n",
    "                    epoch + 1)\n",
    "        writer.add_scalars('Validation Metrics',\n",
    "                    { 'Validation Recall': valrecall, 'Validation Precision': valprecision, 'Validation F1': valf1\n",
    "                    }, epoch + 1)\n",
    "        writer.add_scalars('Validation Accuracy',\n",
    "                    { 'Validation Accuracy': valacc\n",
    "                    }, epoch + 1)\n",
    "\n",
    "        if (epoch + 1) % save_treshold == 0:\n",
    "            model_path = '/kaggle/working/model_svs/' + model_name +'_{}_{}_{}_{}'.format(model_type, module, \n",
    "                                                                          timestamp, (epoch + 1))\n",
    "            torch.save(model.state_dict(), model_path)\n",
    "        end_epoch = time.time()\n",
    "        elapsed = end_epoch - start_epoch\n",
    "        print(\"Time per epoch {}s\".format(elapsed))"
   ]
  },
  {
   "cell_type": "code",
   "execution_count": 48,
   "id": "1b5192f2",
   "metadata": {
    "execution": {
     "iopub.execute_input": "2025-01-13T14:18:39.566614Z",
     "iopub.status.busy": "2025-01-13T14:18:39.566234Z",
     "iopub.status.idle": "2025-01-13T16:29:11.619831Z",
     "shell.execute_reply": "2025-01-13T16:29:11.618574Z"
    },
    "papermill": {
     "duration": 7833.808896,
     "end_time": "2025-01-13T16:29:13.161705",
     "exception": false,
     "start_time": "2025-01-13T14:18:39.352809",
     "status": "completed"
    },
    "tags": []
   },
   "outputs": [
    {
     "name": "stdout",
     "output_type": "stream",
     "text": [
      "EPOCH 1:\n"
     ]
    },
    {
     "name": "stderr",
     "output_type": "stream",
     "text": [
      "/usr/lib/python3.10/multiprocessing/popen_fork.py:66: RuntimeWarning: os.fork() was called. os.fork() is incompatible with multithreaded code, and JAX is multithreaded, so this will likely lead to a deadlock.\n",
      "  self.pid = os.fork()\n",
      "486it [02:11,  3.69it/s]"
     ]
    },
    {
     "name": "stdout",
     "output_type": "stream",
     "text": [
      "train = 72.71642065048218\n",
      "train + load = 132.4729835987091\n"
     ]
    },
    {
     "name": "stderr",
     "output_type": "stream",
     "text": [
      "\n"
     ]
    },
    {
     "name": "stdout",
     "output_type": "stream",
     "text": [
      "LOSS train 3.0176494121551514 valid 3.0220391750335693\n",
      "Accuracy valid 0.1742929409059554\n",
      "Recall valid 0.1742929409059554\n",
      "Precision valid 0.11014275311152587\n",
      "Val F1->0.08897493428777403\n",
      "Time per epoch 151.12501001358032s\n",
      "EPOCH 2:\n"
     ]
    },
    {
     "name": "stderr",
     "output_type": "stream",
     "text": [
      "/usr/lib/python3.10/multiprocessing/popen_fork.py:66: RuntimeWarning: os.fork() was called. os.fork() is incompatible with multithreaded code, and JAX is multithreaded, so this will likely lead to a deadlock.\n",
      "  self.pid = os.fork()\n",
      "486it [02:09,  3.74it/s]"
     ]
    },
    {
     "name": "stdout",
     "output_type": "stream",
     "text": [
      "train = 70.98111701011658\n",
      "train + load = 130.33144569396973\n"
     ]
    },
    {
     "name": "stderr",
     "output_type": "stream",
     "text": [
      "\n"
     ]
    },
    {
     "name": "stdout",
     "output_type": "stream",
     "text": [
      "LOSS train 3.0191946029663086 valid 3.0223772525787354\n",
      "Accuracy valid 0.1653253621522189\n",
      "Recall valid 0.1653253621522189\n",
      "Precision valid 0.10396461254071897\n",
      "Val F1->0.08571861410422013\n",
      "Time per epoch 149.16996598243713s\n",
      "EPOCH 3:\n"
     ]
    },
    {
     "name": "stderr",
     "output_type": "stream",
     "text": [
      "/usr/lib/python3.10/multiprocessing/popen_fork.py:66: RuntimeWarning: os.fork() was called. os.fork() is incompatible with multithreaded code, and JAX is multithreaded, so this will likely lead to a deadlock.\n",
      "  self.pid = os.fork()\n",
      "486it [02:10,  3.73it/s]"
     ]
    },
    {
     "name": "stdout",
     "output_type": "stream",
     "text": [
      "train = 66.81047558784485\n",
      "train + load = 130.94723773002625\n"
     ]
    },
    {
     "name": "stderr",
     "output_type": "stream",
     "text": [
      "\n"
     ]
    },
    {
     "name": "stdout",
     "output_type": "stream",
     "text": [
      "LOSS train 3.018972158432007 valid 3.0104970932006836\n",
      "Accuracy valid 0.1768222579903426\n",
      "Recall valid 0.1768222579903426\n",
      "Precision valid 0.32557653026429106\n",
      "Val F1->0.09088717186790413\n",
      "Time per epoch 149.41338562965393s\n",
      "EPOCH 4:\n"
     ]
    },
    {
     "name": "stderr",
     "output_type": "stream",
     "text": [
      "/usr/lib/python3.10/multiprocessing/popen_fork.py:66: RuntimeWarning: os.fork() was called. os.fork() is incompatible with multithreaded code, and JAX is multithreaded, so this will likely lead to a deadlock.\n",
      "  self.pid = os.fork()\n",
      "486it [02:09,  3.74it/s]"
     ]
    },
    {
     "name": "stdout",
     "output_type": "stream",
     "text": [
      "train = 66.95841264724731\n",
      "train + load = 130.55072259902954\n"
     ]
    },
    {
     "name": "stderr",
     "output_type": "stream",
     "text": [
      "\n"
     ]
    },
    {
     "name": "stdout",
     "output_type": "stream",
     "text": [
      "LOSS train 3.019000291824341 valid 3.021707773208618\n",
      "Accuracy valid 0.17314325132214303\n",
      "Recall valid 0.17314325132214303\n",
      "Precision valid 0.10662927341501122\n",
      "Val F1->0.08985243675340884\n",
      "Time per epoch 149.73160886764526s\n",
      "EPOCH 5:\n"
     ]
    },
    {
     "name": "stderr",
     "output_type": "stream",
     "text": [
      "/usr/lib/python3.10/multiprocessing/popen_fork.py:66: RuntimeWarning: os.fork() was called. os.fork() is incompatible with multithreaded code, and JAX is multithreaded, so this will likely lead to a deadlock.\n",
      "  self.pid = os.fork()\n",
      "486it [02:13,  3.63it/s]"
     ]
    },
    {
     "name": "stdout",
     "output_type": "stream",
     "text": [
      "train = 77.3339786529541\n",
      "train + load = 134.45420598983765\n"
     ]
    },
    {
     "name": "stderr",
     "output_type": "stream",
     "text": [
      "\n"
     ]
    },
    {
     "name": "stdout",
     "output_type": "stream",
     "text": [
      "LOSS train 3.0238678455352783 valid 3.023665428161621\n",
      "Accuracy valid 0.16923430673718096\n",
      "Recall valid 0.16923430673718096\n",
      "Precision valid 0.08377632084726015\n",
      "Val F1->0.0872995016427432\n",
      "Time per epoch 153.55382657051086s\n",
      "EPOCH 6:\n"
     ]
    },
    {
     "name": "stderr",
     "output_type": "stream",
     "text": [
      "/usr/lib/python3.10/multiprocessing/popen_fork.py:66: RuntimeWarning: os.fork() was called. os.fork() is incompatible with multithreaded code, and JAX is multithreaded, so this will likely lead to a deadlock.\n",
      "  self.pid = os.fork()\n",
      "486it [02:14,  3.60it/s]"
     ]
    },
    {
     "name": "stdout",
     "output_type": "stream",
     "text": [
      "train = 79.54620933532715\n",
      "train + load = 135.45202660560608\n"
     ]
    },
    {
     "name": "stderr",
     "output_type": "stream",
     "text": [
      "\n"
     ]
    },
    {
     "name": "stdout",
     "output_type": "stream",
     "text": [
      "LOSS train 3.023930311203003 valid 3.0063650608062744\n",
      "Accuracy valid 0.1696941825707059\n",
      "Recall valid 0.1696941825707059\n",
      "Precision valid 0.062438426662052626\n",
      "Val F1->0.0888476778845809\n",
      "Time per epoch 153.91239619255066s\n",
      "EPOCH 7:\n"
     ]
    },
    {
     "name": "stderr",
     "output_type": "stream",
     "text": [
      "/usr/lib/python3.10/multiprocessing/popen_fork.py:66: RuntimeWarning: os.fork() was called. os.fork() is incompatible with multithreaded code, and JAX is multithreaded, so this will likely lead to a deadlock.\n",
      "  self.pid = os.fork()\n",
      "486it [02:12,  3.68it/s]"
     ]
    },
    {
     "name": "stdout",
     "output_type": "stream",
     "text": [
      "train = 68.59169054031372\n",
      "train + load = 132.60822820663452\n"
     ]
    },
    {
     "name": "stderr",
     "output_type": "stream",
     "text": [
      "\n"
     ]
    },
    {
     "name": "stdout",
     "output_type": "stream",
     "text": [
      "LOSS train 3.0226194858551025 valid 3.0418198108673096\n",
      "Accuracy valid 0.1696941825707059\n",
      "Recall valid 0.1696941825707059\n",
      "Precision valid 0.10612325235256083\n",
      "Val F1->0.08789329246545914\n",
      "Time per epoch 152.0002737045288s\n",
      "EPOCH 8:\n"
     ]
    },
    {
     "name": "stderr",
     "output_type": "stream",
     "text": [
      "/usr/lib/python3.10/multiprocessing/popen_fork.py:66: RuntimeWarning: os.fork() was called. os.fork() is incompatible with multithreaded code, and JAX is multithreaded, so this will likely lead to a deadlock.\n",
      "  self.pid = os.fork()\n",
      "486it [02:14,  3.61it/s]"
     ]
    },
    {
     "name": "stdout",
     "output_type": "stream",
     "text": [
      "train = 77.32320213317871\n",
      "train + load = 135.25905895233154\n"
     ]
    },
    {
     "name": "stderr",
     "output_type": "stream",
     "text": [
      "\n"
     ]
    },
    {
     "name": "stdout",
     "output_type": "stream",
     "text": [
      "LOSS train 3.026202440261841 valid 3.013249158859253\n",
      "Accuracy valid 0.1759025063232927\n",
      "Recall valid 0.1759025063232927\n",
      "Precision valid 0.06329707231937327\n",
      "Val F1->0.08998287467005418\n",
      "Time per epoch 153.97159433364868s\n",
      "EPOCH 9:\n"
     ]
    },
    {
     "name": "stderr",
     "output_type": "stream",
     "text": [
      "/usr/lib/python3.10/multiprocessing/popen_fork.py:66: RuntimeWarning: os.fork() was called. os.fork() is incompatible with multithreaded code, and JAX is multithreaded, so this will likely lead to a deadlock.\n",
      "  self.pid = os.fork()\n",
      "486it [02:11,  3.69it/s]"
     ]
    },
    {
     "name": "stdout",
     "output_type": "stream",
     "text": [
      "train = 78.52641153335571\n",
      "train + load = 132.19203066825867\n"
     ]
    },
    {
     "name": "stderr",
     "output_type": "stream",
     "text": [
      "\n"
     ]
    },
    {
     "name": "stdout",
     "output_type": "stream",
     "text": [
      "LOSS train 3.0183844566345215 valid 3.0068471431732178\n",
      "Accuracy valid 0.17176362382156818\n",
      "Recall valid 0.17176362382156818\n",
      "Precision valid 0.23836967130348471\n",
      "Val F1->0.08896439822261352\n",
      "Time per epoch 150.39847540855408s\n",
      "EPOCH 10:\n"
     ]
    },
    {
     "name": "stderr",
     "output_type": "stream",
     "text": [
      "/usr/lib/python3.10/multiprocessing/popen_fork.py:66: RuntimeWarning: os.fork() was called. os.fork() is incompatible with multithreaded code, and JAX is multithreaded, so this will likely lead to a deadlock.\n",
      "  self.pid = os.fork()\n",
      "486it [02:08,  3.77it/s]"
     ]
    },
    {
     "name": "stdout",
     "output_type": "stream",
     "text": [
      "train = 65.92971801757812\n",
      "train + load = 129.5341079235077\n"
     ]
    },
    {
     "name": "stderr",
     "output_type": "stream",
     "text": [
      "\n"
     ]
    },
    {
     "name": "stdout",
     "output_type": "stream",
     "text": [
      "LOSS train 3.018094062805176 valid 3.008420705795288\n",
      "Accuracy valid 0.17751207174063002\n",
      "Recall valid 0.17751207174063002\n",
      "Precision valid 0.21583221627131433\n",
      "Val F1->0.09340392703020549\n",
      "Time per epoch 148.14537644386292s\n",
      "EPOCH 11:\n"
     ]
    },
    {
     "name": "stderr",
     "output_type": "stream",
     "text": [
      "/usr/lib/python3.10/multiprocessing/popen_fork.py:66: RuntimeWarning: os.fork() was called. os.fork() is incompatible with multithreaded code, and JAX is multithreaded, so this will likely lead to a deadlock.\n",
      "  self.pid = os.fork()\n",
      "486it [02:11,  3.70it/s]"
     ]
    },
    {
     "name": "stdout",
     "output_type": "stream",
     "text": [
      "train = 78.60776948928833\n",
      "train + load = 131.84035325050354\n"
     ]
    },
    {
     "name": "stderr",
     "output_type": "stream",
     "text": [
      "\n"
     ]
    },
    {
     "name": "stdout",
     "output_type": "stream",
     "text": [
      "LOSS train 3.020386219024658 valid 3.003972053527832\n",
      "Accuracy valid 0.17314325132214303\n",
      "Recall valid 0.17314325132214303\n",
      "Precision valid 0.08499958910175823\n",
      "Val F1->0.08968948361641496\n",
      "Time per epoch 150.61940169334412s\n",
      "EPOCH 12:\n"
     ]
    },
    {
     "name": "stderr",
     "output_type": "stream",
     "text": [
      "/usr/lib/python3.10/multiprocessing/popen_fork.py:66: RuntimeWarning: os.fork() was called. os.fork() is incompatible with multithreaded code, and JAX is multithreaded, so this will likely lead to a deadlock.\n",
      "  self.pid = os.fork()\n",
      "486it [02:12,  3.68it/s]"
     ]
    },
    {
     "name": "stdout",
     "output_type": "stream",
     "text": [
      "train = 75.5683946609497\n",
      "train + load = 132.65592789649963\n"
     ]
    },
    {
     "name": "stderr",
     "output_type": "stream",
     "text": [
      "\n"
     ]
    },
    {
     "name": "stdout",
     "output_type": "stream",
     "text": [
      "LOSS train 3.021198272705078 valid 3.024242401123047\n",
      "Accuracy valid 0.17889169924120488\n",
      "Recall valid 0.17889169924120488\n",
      "Precision valid 0.1796474472877878\n",
      "Val F1->0.09051740808477832\n",
      "Time per epoch 151.10150361061096s\n",
      "EPOCH 13:\n"
     ]
    },
    {
     "name": "stderr",
     "output_type": "stream",
     "text": [
      "/usr/lib/python3.10/multiprocessing/popen_fork.py:66: RuntimeWarning: os.fork() was called. os.fork() is incompatible with multithreaded code, and JAX is multithreaded, so this will likely lead to a deadlock.\n",
      "  self.pid = os.fork()\n",
      "486it [02:14,  3.61it/s]"
     ]
    },
    {
     "name": "stdout",
     "output_type": "stream",
     "text": [
      "train = 79.5372302532196\n",
      "train + load = 135.32433605194092\n"
     ]
    },
    {
     "name": "stderr",
     "output_type": "stream",
     "text": [
      "\n"
     ]
    },
    {
     "name": "stdout",
     "output_type": "stream",
     "text": [
      "LOSS train 3.019113063812256 valid 3.027686357498169\n",
      "Accuracy valid 0.16739480340308116\n",
      "Recall valid 0.16739480340308116\n",
      "Precision valid 0.17558140847945863\n",
      "Val F1->0.08717412075662075\n",
      "Time per epoch 153.85036492347717s\n",
      "EPOCH 14:\n"
     ]
    },
    {
     "name": "stderr",
     "output_type": "stream",
     "text": [
      "/usr/lib/python3.10/multiprocessing/popen_fork.py:66: RuntimeWarning: os.fork() was called. os.fork() is incompatible with multithreaded code, and JAX is multithreaded, so this will likely lead to a deadlock.\n",
      "  self.pid = os.fork()\n",
      "486it [02:13,  3.63it/s]"
     ]
    },
    {
     "name": "stdout",
     "output_type": "stream",
     "text": [
      "train = 79.18681192398071\n",
      "train + load = 134.3070466518402\n"
     ]
    },
    {
     "name": "stderr",
     "output_type": "stream",
     "text": [
      "\n"
     ]
    },
    {
     "name": "stdout",
     "output_type": "stream",
     "text": [
      "LOSS train 3.020020008087158 valid 2.9855942726135254\n",
      "Accuracy valid 0.17452287882271786\n",
      "Recall valid 0.17452287882271786\n",
      "Precision valid 0.06666138610789621\n",
      "Val F1->0.09227298116170227\n",
      "Time per epoch 153.524001121521s\n",
      "EPOCH 15:\n"
     ]
    },
    {
     "name": "stderr",
     "output_type": "stream",
     "text": [
      "/usr/lib/python3.10/multiprocessing/popen_fork.py:66: RuntimeWarning: os.fork() was called. os.fork() is incompatible with multithreaded code, and JAX is multithreaded, so this will likely lead to a deadlock.\n",
      "  self.pid = os.fork()\n",
      "486it [02:11,  3.69it/s]"
     ]
    },
    {
     "name": "stdout",
     "output_type": "stream",
     "text": [
      "train = 69.30899238586426\n",
      "train + load = 132.36918807029724\n"
     ]
    },
    {
     "name": "stderr",
     "output_type": "stream",
     "text": [
      "\n"
     ]
    },
    {
     "name": "stdout",
     "output_type": "stream",
     "text": [
      "LOSS train nan valid nan\n",
      "Accuracy valid 0.17314325132214303\n",
      "Recall valid 0.17314325132214303\n",
      "Precision valid 0.02997858547840278\n",
      "Val F1->0.051108141217394626\n",
      "Time per epoch 151.83738899230957s\n",
      "EPOCH 16:\n"
     ]
    },
    {
     "name": "stderr",
     "output_type": "stream",
     "text": [
      "/usr/lib/python3.10/multiprocessing/popen_fork.py:66: RuntimeWarning: os.fork() was called. os.fork() is incompatible with multithreaded code, and JAX is multithreaded, so this will likely lead to a deadlock.\n",
      "  self.pid = os.fork()\n",
      "486it [02:12,  3.66it/s]"
     ]
    },
    {
     "name": "stdout",
     "output_type": "stream",
     "text": [
      "train = 78.68836688995361\n",
      "train + load = 133.224426984787\n"
     ]
    },
    {
     "name": "stderr",
     "output_type": "stream",
     "text": [
      "\n"
     ]
    },
    {
     "name": "stdout",
     "output_type": "stream",
     "text": [
      "LOSS train 3.018193006515503 valid nan\n",
      "Accuracy valid 0.17314325132214303\n",
      "Recall valid 0.17314325132214303\n",
      "Precision valid 0.02997858547840278\n",
      "Val F1->0.051108141217394626\n",
      "Time per epoch 151.85957312583923s\n",
      "EPOCH 17:\n"
     ]
    },
    {
     "name": "stderr",
     "output_type": "stream",
     "text": [
      "/usr/lib/python3.10/multiprocessing/popen_fork.py:66: RuntimeWarning: os.fork() was called. os.fork() is incompatible with multithreaded code, and JAX is multithreaded, so this will likely lead to a deadlock.\n",
      "  self.pid = os.fork()\n",
      "486it [02:15,  3.58it/s]"
     ]
    },
    {
     "name": "stdout",
     "output_type": "stream",
     "text": [
      "train = 79.4942889213562\n",
      "train + load = 136.44508242607117\n"
     ]
    },
    {
     "name": "stderr",
     "output_type": "stream",
     "text": [
      "\n"
     ]
    },
    {
     "name": "stdout",
     "output_type": "stream",
     "text": [
      "LOSS train 3.0199222564697266 valid nan\n",
      "Accuracy valid 0.17314325132214303\n",
      "Recall valid 0.17314325132214303\n",
      "Precision valid 0.02997858547840278\n",
      "Val F1->0.051108141217394626\n",
      "Time per epoch 155.10830521583557s\n",
      "EPOCH 18:\n"
     ]
    },
    {
     "name": "stderr",
     "output_type": "stream",
     "text": [
      "/usr/lib/python3.10/multiprocessing/popen_fork.py:66: RuntimeWarning: os.fork() was called. os.fork() is incompatible with multithreaded code, and JAX is multithreaded, so this will likely lead to a deadlock.\n",
      "  self.pid = os.fork()\n",
      "486it [02:12,  3.68it/s]"
     ]
    },
    {
     "name": "stdout",
     "output_type": "stream",
     "text": [
      "train = 67.84094262123108\n",
      "train + load = 132.72417783737183\n"
     ]
    },
    {
     "name": "stderr",
     "output_type": "stream",
     "text": [
      "\n"
     ]
    },
    {
     "name": "stdout",
     "output_type": "stream",
     "text": [
      "LOSS train 3.0199835300445557 valid nan\n",
      "Accuracy valid 0.17314325132214303\n",
      "Recall valid 0.17314325132214303\n",
      "Precision valid 0.02997858547840278\n",
      "Val F1->0.051108141217394626\n",
      "Time per epoch 151.97046279907227s\n",
      "EPOCH 19:\n"
     ]
    },
    {
     "name": "stderr",
     "output_type": "stream",
     "text": [
      "/usr/lib/python3.10/multiprocessing/popen_fork.py:66: RuntimeWarning: os.fork() was called. os.fork() is incompatible with multithreaded code, and JAX is multithreaded, so this will likely lead to a deadlock.\n",
      "  self.pid = os.fork()\n",
      "486it [02:12,  3.67it/s]"
     ]
    },
    {
     "name": "stdout",
     "output_type": "stream",
     "text": [
      "train = 78.95278358459473\n",
      "train + load = 132.94042420387268\n"
     ]
    },
    {
     "name": "stderr",
     "output_type": "stream",
     "text": [
      "\n"
     ]
    },
    {
     "name": "stdout",
     "output_type": "stream",
     "text": [
      "LOSS train 3.0163612365722656 valid nan\n",
      "Accuracy valid 0.17314325132214303\n",
      "Recall valid 0.17314325132214303\n",
      "Precision valid 0.02997858547840278\n",
      "Val F1->0.051108141217394626\n",
      "Time per epoch 151.31422185897827s\n",
      "EPOCH 20:\n"
     ]
    },
    {
     "name": "stderr",
     "output_type": "stream",
     "text": [
      "/usr/lib/python3.10/multiprocessing/popen_fork.py:66: RuntimeWarning: os.fork() was called. os.fork() is incompatible with multithreaded code, and JAX is multithreaded, so this will likely lead to a deadlock.\n",
      "  self.pid = os.fork()\n",
      "486it [02:13,  3.63it/s]"
     ]
    },
    {
     "name": "stdout",
     "output_type": "stream",
     "text": [
      "train = 78.7382116317749\n",
      "train + load = 134.44812893867493\n"
     ]
    },
    {
     "name": "stderr",
     "output_type": "stream",
     "text": [
      "\n"
     ]
    },
    {
     "name": "stdout",
     "output_type": "stream",
     "text": [
      "LOSS train 3.0245563983917236 valid nan\n",
      "Accuracy valid 0.17314325132214303\n",
      "Recall valid 0.17314325132214303\n",
      "Precision valid 0.02997858547840278\n",
      "Val F1->0.051108141217394626\n",
      "Time per epoch 152.8250138759613s\n",
      "EPOCH 21:\n"
     ]
    },
    {
     "name": "stderr",
     "output_type": "stream",
     "text": [
      "/usr/lib/python3.10/multiprocessing/popen_fork.py:66: RuntimeWarning: os.fork() was called. os.fork() is incompatible with multithreaded code, and JAX is multithreaded, so this will likely lead to a deadlock.\n",
      "  self.pid = os.fork()\n",
      "486it [02:10,  3.71it/s]"
     ]
    },
    {
     "name": "stdout",
     "output_type": "stream",
     "text": [
      "train = 78.06984901428223\n",
      "train + load = 131.53212141990662\n"
     ]
    },
    {
     "name": "stderr",
     "output_type": "stream",
     "text": [
      "\n"
     ]
    },
    {
     "name": "stdout",
     "output_type": "stream",
     "text": [
      "LOSS train 3.020371675491333 valid nan\n",
      "Accuracy valid 0.17314325132214303\n",
      "Recall valid 0.17314325132214303\n",
      "Precision valid 0.02997858547840278\n",
      "Val F1->0.051108141217394626\n",
      "Time per epoch 150.79211378097534s\n",
      "EPOCH 22:\n"
     ]
    },
    {
     "name": "stderr",
     "output_type": "stream",
     "text": [
      "/usr/lib/python3.10/multiprocessing/popen_fork.py:66: RuntimeWarning: os.fork() was called. os.fork() is incompatible with multithreaded code, and JAX is multithreaded, so this will likely lead to a deadlock.\n",
      "  self.pid = os.fork()\n",
      "486it [02:09,  3.75it/s]"
     ]
    },
    {
     "name": "stdout",
     "output_type": "stream",
     "text": [
      "train = 72.54965019226074\n",
      "train + load = 130.27564239501953\n"
     ]
    },
    {
     "name": "stderr",
     "output_type": "stream",
     "text": [
      "\n"
     ]
    },
    {
     "name": "stdout",
     "output_type": "stream",
     "text": [
      "LOSS train 3.0220046043395996 valid nan\n",
      "Accuracy valid 0.17314325132214303\n",
      "Recall valid 0.17314325132214303\n",
      "Precision valid 0.02997858547840278\n",
      "Val F1->0.051108141217394626\n",
      "Time per epoch 148.8001811504364s\n",
      "EPOCH 23:\n"
     ]
    },
    {
     "name": "stderr",
     "output_type": "stream",
     "text": [
      "/usr/lib/python3.10/multiprocessing/popen_fork.py:66: RuntimeWarning: os.fork() was called. os.fork() is incompatible with multithreaded code, and JAX is multithreaded, so this will likely lead to a deadlock.\n",
      "  self.pid = os.fork()\n",
      "486it [02:08,  3.78it/s]"
     ]
    },
    {
     "name": "stdout",
     "output_type": "stream",
     "text": [
      "train = 69.49363446235657\n",
      "train + load = 129.37015199661255\n"
     ]
    },
    {
     "name": "stderr",
     "output_type": "stream",
     "text": [
      "\n"
     ]
    },
    {
     "name": "stdout",
     "output_type": "stream",
     "text": [
      "LOSS train 3.0274367332458496 valid nan\n",
      "Accuracy valid 0.17314325132214303\n",
      "Recall valid 0.17314325132214303\n",
      "Precision valid 0.02997858547840278\n",
      "Val F1->0.051108141217394626\n",
      "Time per epoch 147.4815912246704s\n",
      "EPOCH 24:\n"
     ]
    },
    {
     "name": "stderr",
     "output_type": "stream",
     "text": [
      "/usr/lib/python3.10/multiprocessing/popen_fork.py:66: RuntimeWarning: os.fork() was called. os.fork() is incompatible with multithreaded code, and JAX is multithreaded, so this will likely lead to a deadlock.\n",
      "  self.pid = os.fork()\n",
      "486it [02:09,  3.74it/s]"
     ]
    },
    {
     "name": "stdout",
     "output_type": "stream",
     "text": [
      "train = 68.41890406608582\n",
      "train + load = 130.53201508522034\n"
     ]
    },
    {
     "name": "stderr",
     "output_type": "stream",
     "text": [
      "\n"
     ]
    },
    {
     "name": "stdout",
     "output_type": "stream",
     "text": [
      "LOSS train 3.023249626159668 valid nan\n",
      "Accuracy valid 0.17314325132214303\n",
      "Recall valid 0.17314325132214303\n",
      "Precision valid 0.02997858547840278\n",
      "Val F1->0.051108141217394626\n",
      "Time per epoch 149.293274641037s\n",
      "EPOCH 25:\n"
     ]
    },
    {
     "name": "stderr",
     "output_type": "stream",
     "text": [
      "/usr/lib/python3.10/multiprocessing/popen_fork.py:66: RuntimeWarning: os.fork() was called. os.fork() is incompatible with multithreaded code, and JAX is multithreaded, so this will likely lead to a deadlock.\n",
      "  self.pid = os.fork()\n",
      "486it [02:11,  3.69it/s]"
     ]
    },
    {
     "name": "stdout",
     "output_type": "stream",
     "text": [
      "train = 75.68476963043213\n",
      "train + load = 132.37437915802002\n"
     ]
    },
    {
     "name": "stderr",
     "output_type": "stream",
     "text": [
      "\n"
     ]
    },
    {
     "name": "stdout",
     "output_type": "stream",
     "text": [
      "LOSS train 3.0279319286346436 valid nan\n",
      "Accuracy valid 0.17314325132214303\n",
      "Recall valid 0.17314325132214303\n",
      "Precision valid 0.02997858547840278\n",
      "Val F1->0.051108141217394626\n",
      "Time per epoch 151.03049778938293s\n",
      "EPOCH 26:\n"
     ]
    },
    {
     "name": "stderr",
     "output_type": "stream",
     "text": [
      "/usr/lib/python3.10/multiprocessing/popen_fork.py:66: RuntimeWarning: os.fork() was called. os.fork() is incompatible with multithreaded code, and JAX is multithreaded, so this will likely lead to a deadlock.\n",
      "  self.pid = os.fork()\n",
      "486it [02:17,  3.53it/s]"
     ]
    },
    {
     "name": "stdout",
     "output_type": "stream",
     "text": [
      "train = 75.07384753227234\n",
      "train + load = 138.40167474746704\n"
     ]
    },
    {
     "name": "stderr",
     "output_type": "stream",
     "text": [
      "\n"
     ]
    },
    {
     "name": "stdout",
     "output_type": "stream",
     "text": [
      "LOSS train 3.023693084716797 valid nan\n",
      "Accuracy valid 0.17314325132214303\n",
      "Recall valid 0.17314325132214303\n",
      "Precision valid 0.02997858547840278\n",
      "Val F1->0.051108141217394626\n",
      "Time per epoch 157.41722059249878s\n",
      "EPOCH 27:\n"
     ]
    },
    {
     "name": "stderr",
     "output_type": "stream",
     "text": [
      "/usr/lib/python3.10/multiprocessing/popen_fork.py:66: RuntimeWarning: os.fork() was called. os.fork() is incompatible with multithreaded code, and JAX is multithreaded, so this will likely lead to a deadlock.\n",
      "  self.pid = os.fork()\n",
      "486it [02:11,  3.69it/s]"
     ]
    },
    {
     "name": "stdout",
     "output_type": "stream",
     "text": [
      "train = 77.8517255783081\n",
      "train + load = 132.47319793701172\n"
     ]
    },
    {
     "name": "stderr",
     "output_type": "stream",
     "text": [
      "\n"
     ]
    },
    {
     "name": "stdout",
     "output_type": "stream",
     "text": [
      "LOSS train 3.03118896484375 valid nan\n",
      "Accuracy valid 0.17314325132214303\n",
      "Recall valid 0.17314325132214303\n",
      "Precision valid 0.02997858547840278\n",
      "Val F1->0.051108141217394626\n",
      "Time per epoch 151.35226702690125s\n",
      "EPOCH 28:\n"
     ]
    },
    {
     "name": "stderr",
     "output_type": "stream",
     "text": [
      "/usr/lib/python3.10/multiprocessing/popen_fork.py:66: RuntimeWarning: os.fork() was called. os.fork() is incompatible with multithreaded code, and JAX is multithreaded, so this will likely lead to a deadlock.\n",
      "  self.pid = os.fork()\n",
      "486it [02:07,  3.81it/s]"
     ]
    },
    {
     "name": "stdout",
     "output_type": "stream",
     "text": [
      "train = 68.71733665466309\n",
      "train + load = 128.07582068443298\n"
     ]
    },
    {
     "name": "stderr",
     "output_type": "stream",
     "text": [
      "\n"
     ]
    },
    {
     "name": "stdout",
     "output_type": "stream",
     "text": [
      "LOSS train 3.0213730335235596 valid nan\n",
      "Accuracy valid 0.17314325132214303\n",
      "Recall valid 0.17314325132214303\n",
      "Precision valid 0.02997858547840278\n",
      "Val F1->0.051108141217394626\n",
      "Time per epoch 146.22168064117432s\n",
      "EPOCH 29:\n"
     ]
    },
    {
     "name": "stderr",
     "output_type": "stream",
     "text": [
      "/usr/lib/python3.10/multiprocessing/popen_fork.py:66: RuntimeWarning: os.fork() was called. os.fork() is incompatible with multithreaded code, and JAX is multithreaded, so this will likely lead to a deadlock.\n",
      "  self.pid = os.fork()\n",
      "486it [02:13,  3.64it/s]"
     ]
    },
    {
     "name": "stdout",
     "output_type": "stream",
     "text": [
      "train = 77.99975514411926\n",
      "train + load = 134.1494846343994\n"
     ]
    },
    {
     "name": "stderr",
     "output_type": "stream",
     "text": [
      "\n"
     ]
    },
    {
     "name": "stdout",
     "output_type": "stream",
     "text": [
      "LOSS train 3.0182082653045654 valid nan\n",
      "Accuracy valid 0.17314325132214303\n",
      "Recall valid 0.17314325132214303\n",
      "Precision valid 0.02997858547840278\n",
      "Val F1->0.051108141217394626\n",
      "Time per epoch 152.45108556747437s\n",
      "EPOCH 30:\n"
     ]
    },
    {
     "name": "stderr",
     "output_type": "stream",
     "text": [
      "/usr/lib/python3.10/multiprocessing/popen_fork.py:66: RuntimeWarning: os.fork() was called. os.fork() is incompatible with multithreaded code, and JAX is multithreaded, so this will likely lead to a deadlock.\n",
      "  self.pid = os.fork()\n",
      "486it [02:11,  3.69it/s]"
     ]
    },
    {
     "name": "stdout",
     "output_type": "stream",
     "text": [
      "train = 70.38926148414612\n",
      "train + load = 132.4286172389984\n"
     ]
    },
    {
     "name": "stderr",
     "output_type": "stream",
     "text": [
      "\n"
     ]
    },
    {
     "name": "stdout",
     "output_type": "stream",
     "text": [
      "LOSS train 3.0214459896087646 valid nan\n",
      "Accuracy valid 0.17314325132214303\n",
      "Recall valid 0.17314325132214303\n",
      "Precision valid 0.02997858547840278\n",
      "Val F1->0.051108141217394626\n",
      "Time per epoch 152.23442029953003s\n",
      "EPOCH 31:\n"
     ]
    },
    {
     "name": "stderr",
     "output_type": "stream",
     "text": [
      "/usr/lib/python3.10/multiprocessing/popen_fork.py:66: RuntimeWarning: os.fork() was called. os.fork() is incompatible with multithreaded code, and JAX is multithreaded, so this will likely lead to a deadlock.\n",
      "  self.pid = os.fork()\n",
      "486it [02:14,  3.63it/s]"
     ]
    },
    {
     "name": "stdout",
     "output_type": "stream",
     "text": [
      "train = 77.97463870048523\n",
      "train + load = 134.75873017311096\n"
     ]
    },
    {
     "name": "stderr",
     "output_type": "stream",
     "text": [
      "\n"
     ]
    },
    {
     "name": "stdout",
     "output_type": "stream",
     "text": [
      "LOSS train 3.0262393951416016 valid nan\n",
      "Accuracy valid 0.17314325132214303\n",
      "Recall valid 0.17314325132214303\n",
      "Precision valid 0.02997858547840278\n",
      "Val F1->0.051108141217394626\n",
      "Time per epoch 153.39997029304504s\n",
      "EPOCH 32:\n"
     ]
    },
    {
     "name": "stderr",
     "output_type": "stream",
     "text": [
      "/usr/lib/python3.10/multiprocessing/popen_fork.py:66: RuntimeWarning: os.fork() was called. os.fork() is incompatible with multithreaded code, and JAX is multithreaded, so this will likely lead to a deadlock.\n",
      "  self.pid = os.fork()\n",
      "486it [02:10,  3.72it/s]"
     ]
    },
    {
     "name": "stdout",
     "output_type": "stream",
     "text": [
      "train = 79.13709616661072\n",
      "train + load = 131.4103012084961\n"
     ]
    },
    {
     "name": "stderr",
     "output_type": "stream",
     "text": [
      "\n"
     ]
    },
    {
     "name": "stdout",
     "output_type": "stream",
     "text": [
      "LOSS train 3.024684190750122 valid nan\n",
      "Accuracy valid 0.17314325132214303\n",
      "Recall valid 0.17314325132214303\n",
      "Precision valid 0.02997858547840278\n",
      "Val F1->0.051108141217394626\n",
      "Time per epoch 150.0834641456604s\n",
      "EPOCH 33:\n"
     ]
    },
    {
     "name": "stderr",
     "output_type": "stream",
     "text": [
      "/usr/lib/python3.10/multiprocessing/popen_fork.py:66: RuntimeWarning: os.fork() was called. os.fork() is incompatible with multithreaded code, and JAX is multithreaded, so this will likely lead to a deadlock.\n",
      "  self.pid = os.fork()\n",
      "486it [02:09,  3.76it/s]"
     ]
    },
    {
     "name": "stdout",
     "output_type": "stream",
     "text": [
      "train = 67.81820678710938\n",
      "train + load = 129.81383800506592\n"
     ]
    },
    {
     "name": "stderr",
     "output_type": "stream",
     "text": [
      "\n"
     ]
    },
    {
     "name": "stdout",
     "output_type": "stream",
     "text": [
      "LOSS train 3.019176959991455 valid nan\n",
      "Accuracy valid 0.17314325132214303\n",
      "Recall valid 0.17314325132214303\n",
      "Precision valid 0.02997858547840278\n",
      "Val F1->0.051108141217394626\n",
      "Time per epoch 149.3743929862976s\n",
      "EPOCH 34:\n"
     ]
    },
    {
     "name": "stderr",
     "output_type": "stream",
     "text": [
      "/usr/lib/python3.10/multiprocessing/popen_fork.py:66: RuntimeWarning: os.fork() was called. os.fork() is incompatible with multithreaded code, and JAX is multithreaded, so this will likely lead to a deadlock.\n",
      "  self.pid = os.fork()\n",
      "486it [02:13,  3.65it/s]"
     ]
    },
    {
     "name": "stdout",
     "output_type": "stream",
     "text": [
      "train = 78.76288509368896\n",
      "train + load = 133.81620955467224\n"
     ]
    },
    {
     "name": "stderr",
     "output_type": "stream",
     "text": [
      "\n"
     ]
    },
    {
     "name": "stdout",
     "output_type": "stream",
     "text": [
      "LOSS train 3.0159590244293213 valid nan\n",
      "Accuracy valid 0.17314325132214303\n",
      "Recall valid 0.17314325132214303\n",
      "Precision valid 0.02997858547840278\n",
      "Val F1->0.051108141217394626\n",
      "Time per epoch 153.2959291934967s\n",
      "EPOCH 35:\n"
     ]
    },
    {
     "name": "stderr",
     "output_type": "stream",
     "text": [
      "/usr/lib/python3.10/multiprocessing/popen_fork.py:66: RuntimeWarning: os.fork() was called. os.fork() is incompatible with multithreaded code, and JAX is multithreaded, so this will likely lead to a deadlock.\n",
      "  self.pid = os.fork()\n",
      "486it [02:20,  3.47it/s]"
     ]
    },
    {
     "name": "stdout",
     "output_type": "stream",
     "text": [
      "train = 79.74636578559875\n",
      "train + load = 140.89101648330688\n"
     ]
    },
    {
     "name": "stderr",
     "output_type": "stream",
     "text": [
      "\n"
     ]
    },
    {
     "name": "stdout",
     "output_type": "stream",
     "text": [
      "LOSS train 3.0172080993652344 valid nan\n",
      "Accuracy valid 0.17314325132214303\n",
      "Recall valid 0.17314325132214303\n",
      "Precision valid 0.02997858547840278\n",
      "Val F1->0.051108141217394626\n",
      "Time per epoch 160.54849410057068s\n",
      "EPOCH 36:\n"
     ]
    },
    {
     "name": "stderr",
     "output_type": "stream",
     "text": [
      "/usr/lib/python3.10/multiprocessing/popen_fork.py:66: RuntimeWarning: os.fork() was called. os.fork() is incompatible with multithreaded code, and JAX is multithreaded, so this will likely lead to a deadlock.\n",
      "  self.pid = os.fork()\n",
      "486it [02:19,  3.48it/s]"
     ]
    },
    {
     "name": "stdout",
     "output_type": "stream",
     "text": [
      "train = 67.30382537841797\n",
      "train + load = 140.20500493049622\n"
     ]
    },
    {
     "name": "stderr",
     "output_type": "stream",
     "text": [
      "\n"
     ]
    },
    {
     "name": "stdout",
     "output_type": "stream",
     "text": [
      "LOSS train 3.022681474685669 valid nan\n",
      "Accuracy valid 0.17314325132214303\n",
      "Recall valid 0.17314325132214303\n",
      "Precision valid 0.02997858547840278\n",
      "Val F1->0.051108141217394626\n",
      "Time per epoch 162.26488590240479s\n",
      "EPOCH 37:\n"
     ]
    },
    {
     "name": "stderr",
     "output_type": "stream",
     "text": [
      "/usr/lib/python3.10/multiprocessing/popen_fork.py:66: RuntimeWarning: os.fork() was called. os.fork() is incompatible with multithreaded code, and JAX is multithreaded, so this will likely lead to a deadlock.\n",
      "  self.pid = os.fork()\n",
      "486it [02:31,  3.21it/s]"
     ]
    },
    {
     "name": "stdout",
     "output_type": "stream",
     "text": [
      "train = 67.1701967716217\n",
      "train + load = 152.24980115890503\n"
     ]
    },
    {
     "name": "stderr",
     "output_type": "stream",
     "text": [
      "\n"
     ]
    },
    {
     "name": "stdout",
     "output_type": "stream",
     "text": [
      "LOSS train 3.0232605934143066 valid nan\n",
      "Accuracy valid 0.17314325132214303\n",
      "Recall valid 0.17314325132214303\n",
      "Precision valid 0.02997858547840278\n",
      "Val F1->0.051108141217394626\n",
      "Time per epoch 173.72870802879333s\n",
      "EPOCH 38:\n"
     ]
    },
    {
     "name": "stderr",
     "output_type": "stream",
     "text": [
      "/usr/lib/python3.10/multiprocessing/popen_fork.py:66: RuntimeWarning: os.fork() was called. os.fork() is incompatible with multithreaded code, and JAX is multithreaded, so this will likely lead to a deadlock.\n",
      "  self.pid = os.fork()\n",
      "486it [02:26,  3.31it/s]"
     ]
    },
    {
     "name": "stdout",
     "output_type": "stream",
     "text": [
      "train = 70.16247725486755\n",
      "train + load = 147.7343647480011\n"
     ]
    },
    {
     "name": "stderr",
     "output_type": "stream",
     "text": [
      "\n"
     ]
    },
    {
     "name": "stdout",
     "output_type": "stream",
     "text": [
      "LOSS train 3.020020008087158 valid nan\n",
      "Accuracy valid 0.17314325132214303\n",
      "Recall valid 0.17314325132214303\n",
      "Precision valid 0.02997858547840278\n",
      "Val F1->0.051108141217394626\n",
      "Time per epoch 169.7284288406372s\n",
      "EPOCH 39:\n"
     ]
    },
    {
     "name": "stderr",
     "output_type": "stream",
     "text": [
      "/usr/lib/python3.10/multiprocessing/popen_fork.py:66: RuntimeWarning: os.fork() was called. os.fork() is incompatible with multithreaded code, and JAX is multithreaded, so this will likely lead to a deadlock.\n",
      "  self.pid = os.fork()\n",
      "486it [02:27,  3.30it/s]"
     ]
    },
    {
     "name": "stdout",
     "output_type": "stream",
     "text": [
      "train = 68.05581140518188\n",
      "train + load = 148.0132932662964\n"
     ]
    },
    {
     "name": "stderr",
     "output_type": "stream",
     "text": [
      "\n"
     ]
    },
    {
     "name": "stdout",
     "output_type": "stream",
     "text": [
      "LOSS train 3.017864227294922 valid nan\n",
      "Accuracy valid 0.17314325132214303\n",
      "Recall valid 0.17314325132214303\n",
      "Precision valid 0.02997858547840278\n",
      "Val F1->0.051108141217394626\n",
      "Time per epoch 169.11304998397827s\n",
      "EPOCH 40:\n"
     ]
    },
    {
     "name": "stderr",
     "output_type": "stream",
     "text": [
      "/usr/lib/python3.10/multiprocessing/popen_fork.py:66: RuntimeWarning: os.fork() was called. os.fork() is incompatible with multithreaded code, and JAX is multithreaded, so this will likely lead to a deadlock.\n",
      "  self.pid = os.fork()\n",
      "486it [02:29,  3.25it/s]"
     ]
    },
    {
     "name": "stdout",
     "output_type": "stream",
     "text": [
      "train = 67.62387180328369\n",
      "train + load = 150.29484701156616\n"
     ]
    },
    {
     "name": "stderr",
     "output_type": "stream",
     "text": [
      "\n"
     ]
    },
    {
     "name": "stdout",
     "output_type": "stream",
     "text": [
      "LOSS train 3.0256431102752686 valid nan\n",
      "Accuracy valid 0.17314325132214303\n",
      "Recall valid 0.17314325132214303\n",
      "Precision valid 0.02997858547840278\n",
      "Val F1->0.051108141217394626\n",
      "Time per epoch 170.86560702323914s\n",
      "EPOCH 41:\n"
     ]
    },
    {
     "name": "stderr",
     "output_type": "stream",
     "text": [
      "/usr/lib/python3.10/multiprocessing/popen_fork.py:66: RuntimeWarning: os.fork() was called. os.fork() is incompatible with multithreaded code, and JAX is multithreaded, so this will likely lead to a deadlock.\n",
      "  self.pid = os.fork()\n",
      "486it [02:31,  3.21it/s]"
     ]
    },
    {
     "name": "stdout",
     "output_type": "stream",
     "text": [
      "train = 68.9770724773407\n",
      "train + load = 151.96263813972473\n"
     ]
    },
    {
     "name": "stderr",
     "output_type": "stream",
     "text": [
      "\n"
     ]
    },
    {
     "name": "stdout",
     "output_type": "stream",
     "text": [
      "LOSS train 3.020318031311035 valid nan\n",
      "Accuracy valid 0.17314325132214303\n",
      "Recall valid 0.17314325132214303\n",
      "Precision valid 0.02997858547840278\n",
      "Val F1->0.051108141217394626\n",
      "Time per epoch 174.3375039100647s\n",
      "EPOCH 42:\n"
     ]
    },
    {
     "name": "stderr",
     "output_type": "stream",
     "text": [
      "/usr/lib/python3.10/multiprocessing/popen_fork.py:66: RuntimeWarning: os.fork() was called. os.fork() is incompatible with multithreaded code, and JAX is multithreaded, so this will likely lead to a deadlock.\n",
      "  self.pid = os.fork()\n",
      "486it [02:34,  3.15it/s]"
     ]
    },
    {
     "name": "stdout",
     "output_type": "stream",
     "text": [
      "train = 72.50708937644958\n",
      "train + load = 155.1045458316803\n"
     ]
    },
    {
     "name": "stderr",
     "output_type": "stream",
     "text": [
      "\n"
     ]
    },
    {
     "name": "stdout",
     "output_type": "stream",
     "text": [
      "LOSS train 3.0204176902770996 valid nan\n",
      "Accuracy valid 0.17314325132214303\n",
      "Recall valid 0.17314325132214303\n",
      "Precision valid 0.02997858547840278\n",
      "Val F1->0.051108141217394626\n",
      "Time per epoch 176.1525161266327s\n",
      "EPOCH 43:\n"
     ]
    },
    {
     "name": "stderr",
     "output_type": "stream",
     "text": [
      "/usr/lib/python3.10/multiprocessing/popen_fork.py:66: RuntimeWarning: os.fork() was called. os.fork() is incompatible with multithreaded code, and JAX is multithreaded, so this will likely lead to a deadlock.\n",
      "  self.pid = os.fork()\n",
      "486it [02:29,  3.24it/s]"
     ]
    },
    {
     "name": "stdout",
     "output_type": "stream",
     "text": [
      "train = 68.47026371955872\n",
      "train + load = 150.61609292030334\n"
     ]
    },
    {
     "name": "stderr",
     "output_type": "stream",
     "text": [
      "\n"
     ]
    },
    {
     "name": "stdout",
     "output_type": "stream",
     "text": [
      "LOSS train 3.0245842933654785 valid nan\n",
      "Accuracy valid 0.17314325132214303\n",
      "Recall valid 0.17314325132214303\n",
      "Precision valid 0.02997858547840278\n",
      "Val F1->0.051108141217394626\n",
      "Time per epoch 171.92626905441284s\n",
      "EPOCH 44:\n"
     ]
    },
    {
     "name": "stderr",
     "output_type": "stream",
     "text": [
      "/usr/lib/python3.10/multiprocessing/popen_fork.py:66: RuntimeWarning: os.fork() was called. os.fork() is incompatible with multithreaded code, and JAX is multithreaded, so this will likely lead to a deadlock.\n",
      "  self.pid = os.fork()\n",
      "486it [02:23,  3.38it/s]"
     ]
    },
    {
     "name": "stdout",
     "output_type": "stream",
     "text": [
      "train = 70.03114247322083\n",
      "train + load = 144.63988089561462\n"
     ]
    },
    {
     "name": "stderr",
     "output_type": "stream",
     "text": [
      "\n"
     ]
    },
    {
     "name": "stdout",
     "output_type": "stream",
     "text": [
      "LOSS train 3.020171642303467 valid nan\n",
      "Accuracy valid 0.17314325132214303\n",
      "Recall valid 0.17314325132214303\n",
      "Precision valid 0.02997858547840278\n",
      "Val F1->0.051108141217394626\n",
      "Time per epoch 165.47918438911438s\n",
      "EPOCH 45:\n"
     ]
    },
    {
     "name": "stderr",
     "output_type": "stream",
     "text": [
      "/usr/lib/python3.10/multiprocessing/popen_fork.py:66: RuntimeWarning: os.fork() was called. os.fork() is incompatible with multithreaded code, and JAX is multithreaded, so this will likely lead to a deadlock.\n",
      "  self.pid = os.fork()\n",
      "486it [02:23,  3.38it/s]"
     ]
    },
    {
     "name": "stdout",
     "output_type": "stream",
     "text": [
      "train = 77.91423606872559\n",
      "train + load = 144.68010091781616\n"
     ]
    },
    {
     "name": "stderr",
     "output_type": "stream",
     "text": [
      "\n"
     ]
    },
    {
     "name": "stdout",
     "output_type": "stream",
     "text": [
      "LOSS train 3.0173635482788086 valid nan\n",
      "Accuracy valid 0.17314325132214303\n",
      "Recall valid 0.17314325132214303\n",
      "Precision valid 0.02997858547840278\n",
      "Val F1->0.051108141217394626\n",
      "Time per epoch 164.3174397945404s\n",
      "EPOCH 46:\n"
     ]
    },
    {
     "name": "stderr",
     "output_type": "stream",
     "text": [
      "/usr/lib/python3.10/multiprocessing/popen_fork.py:66: RuntimeWarning: os.fork() was called. os.fork() is incompatible with multithreaded code, and JAX is multithreaded, so this will likely lead to a deadlock.\n",
      "  self.pid = os.fork()\n",
      "486it [02:18,  3.50it/s]"
     ]
    },
    {
     "name": "stdout",
     "output_type": "stream",
     "text": [
      "train = 70.03582763671875\n",
      "train + load = 139.41851615905762\n"
     ]
    },
    {
     "name": "stderr",
     "output_type": "stream",
     "text": [
      "\n"
     ]
    },
    {
     "name": "stdout",
     "output_type": "stream",
     "text": [
      "LOSS train 3.018315315246582 valid nan\n",
      "Accuracy valid 0.17314325132214303\n",
      "Recall valid 0.17314325132214303\n",
      "Precision valid 0.02997858547840278\n",
      "Val F1->0.051108141217394626\n",
      "Time per epoch 159.03957200050354s\n",
      "EPOCH 47:\n"
     ]
    },
    {
     "name": "stderr",
     "output_type": "stream",
     "text": [
      "/usr/lib/python3.10/multiprocessing/popen_fork.py:66: RuntimeWarning: os.fork() was called. os.fork() is incompatible with multithreaded code, and JAX is multithreaded, so this will likely lead to a deadlock.\n",
      "  self.pid = os.fork()\n",
      "486it [02:14,  3.60it/s]"
     ]
    },
    {
     "name": "stdout",
     "output_type": "stream",
     "text": [
      "train = 79.24194860458374\n",
      "train + load = 135.60592675209045\n"
     ]
    },
    {
     "name": "stderr",
     "output_type": "stream",
     "text": [
      "\n"
     ]
    },
    {
     "name": "stdout",
     "output_type": "stream",
     "text": [
      "LOSS train 3.0240402221679688 valid nan\n",
      "Accuracy valid 0.17314325132214303\n",
      "Recall valid 0.17314325132214303\n",
      "Precision valid 0.02997858547840278\n",
      "Val F1->0.051108141217394626\n",
      "Time per epoch 154.14802765846252s\n",
      "EPOCH 48:\n"
     ]
    },
    {
     "name": "stderr",
     "output_type": "stream",
     "text": [
      "/usr/lib/python3.10/multiprocessing/popen_fork.py:66: RuntimeWarning: os.fork() was called. os.fork() is incompatible with multithreaded code, and JAX is multithreaded, so this will likely lead to a deadlock.\n",
      "  self.pid = os.fork()\n",
      "486it [02:15,  3.57it/s]"
     ]
    },
    {
     "name": "stdout",
     "output_type": "stream",
     "text": [
      "train = 70.25344204902649\n",
      "train + load = 136.69034671783447\n"
     ]
    },
    {
     "name": "stderr",
     "output_type": "stream",
     "text": [
      "\n"
     ]
    },
    {
     "name": "stdout",
     "output_type": "stream",
     "text": [
      "LOSS train 3.026198148727417 valid nan\n",
      "Accuracy valid 0.17314325132214303\n",
      "Recall valid 0.17314325132214303\n",
      "Precision valid 0.02997858547840278\n",
      "Val F1->0.051108141217394626\n",
      "Time per epoch 156.01874423027039s\n",
      "EPOCH 49:\n"
     ]
    },
    {
     "name": "stderr",
     "output_type": "stream",
     "text": [
      "/usr/lib/python3.10/multiprocessing/popen_fork.py:66: RuntimeWarning: os.fork() was called. os.fork() is incompatible with multithreaded code, and JAX is multithreaded, so this will likely lead to a deadlock.\n",
      "  self.pid = os.fork()\n",
      "486it [02:27,  3.30it/s]"
     ]
    },
    {
     "name": "stdout",
     "output_type": "stream",
     "text": [
      "train = 71.19407820701599\n",
      "train + load = 148.13710045814514\n"
     ]
    },
    {
     "name": "stderr",
     "output_type": "stream",
     "text": [
      "\n"
     ]
    },
    {
     "name": "stdout",
     "output_type": "stream",
     "text": [
      "LOSS train 3.019299268722534 valid nan\n",
      "Accuracy valid 0.17314325132214303\n",
      "Recall valid 0.17314325132214303\n",
      "Precision valid 0.02997858547840278\n",
      "Val F1->0.051108141217394626\n",
      "Time per epoch 170.41105771064758s\n",
      "EPOCH 50:\n"
     ]
    },
    {
     "name": "stderr",
     "output_type": "stream",
     "text": [
      "/usr/lib/python3.10/multiprocessing/popen_fork.py:66: RuntimeWarning: os.fork() was called. os.fork() is incompatible with multithreaded code, and JAX is multithreaded, so this will likely lead to a deadlock.\n",
      "  self.pid = os.fork()\n",
      "486it [02:41,  3.01it/s]"
     ]
    },
    {
     "name": "stdout",
     "output_type": "stream",
     "text": [
      "train = 76.99123764038086\n",
      "train + load = 162.19154167175293\n"
     ]
    },
    {
     "name": "stderr",
     "output_type": "stream",
     "text": [
      "\n"
     ]
    },
    {
     "name": "stdout",
     "output_type": "stream",
     "text": [
      "LOSS train 3.0180118083953857 valid nan\n",
      "Accuracy valid 0.17314325132214303\n",
      "Recall valid 0.17314325132214303\n",
      "Precision valid 0.02997858547840278\n",
      "Val F1->0.051108141217394626\n",
      "Time per epoch 185.27664804458618s\n"
     ]
    }
   ],
   "source": [
    "train(model2, criterion, optimizer, train_dataloader, val_dataloader, BATCH_SIZE, save_treshold=1, epochs=50, model_name='second_model')"
   ]
  },
  {
   "cell_type": "markdown",
   "id": "a02b57b9",
   "metadata": {
    "papermill": {
     "duration": 1.55469,
     "end_time": "2025-01-13T16:29:16.265692",
     "exception": false,
     "start_time": "2025-01-13T16:29:14.711002",
     "status": "completed"
    },
    "tags": []
   },
   "source": [
    "# Test"
   ]
  },
  {
   "cell_type": "code",
   "execution_count": 49,
   "id": "08fffa47",
   "metadata": {
    "execution": {
     "iopub.execute_input": "2025-01-13T16:29:19.250323Z",
     "iopub.status.busy": "2025-01-13T16:29:19.249930Z",
     "iopub.status.idle": "2025-01-13T16:29:19.737447Z",
     "shell.execute_reply": "2025-01-13T16:29:19.736611Z"
    },
    "papermill": {
     "duration": 1.91574,
     "end_time": "2025-01-13T16:29:19.738819",
     "exception": false,
     "start_time": "2025-01-13T16:29:17.823079",
     "status": "completed"
    },
    "tags": []
   },
   "outputs": [
    {
     "data": {
      "text/plain": [
       "0"
      ]
     },
     "execution_count": 49,
     "metadata": {},
     "output_type": "execute_result"
    }
   ],
   "source": [
    "torch.cuda.empty_cache()\n",
    "\n",
    "# Optionally, you can force garbage collection as well\n",
    "import gc\n",
    "gc.collect()"
   ]
  },
  {
   "cell_type": "code",
   "execution_count": 50,
   "id": "1c882458",
   "metadata": {
    "execution": {
     "iopub.execute_input": "2025-01-13T16:29:22.789358Z",
     "iopub.status.busy": "2025-01-13T16:29:22.788958Z",
     "iopub.status.idle": "2025-01-13T16:29:22.794436Z",
     "shell.execute_reply": "2025-01-13T16:29:22.793483Z"
    },
    "papermill": {
     "duration": 1.53516,
     "end_time": "2025-01-13T16:29:22.795844",
     "exception": false,
     "start_time": "2025-01-13T16:29:21.260684",
     "status": "completed"
    },
    "tags": []
   },
   "outputs": [
    {
     "data": {
      "text/plain": [
       "9999"
      ]
     },
     "execution_count": 50,
     "metadata": {},
     "output_type": "execute_result"
    }
   ],
   "source": [
    "9999"
   ]
  },
  {
   "cell_type": "code",
   "execution_count": 51,
   "id": "1b36612f",
   "metadata": {
    "execution": {
     "iopub.execute_input": "2025-01-13T16:29:25.969943Z",
     "iopub.status.busy": "2025-01-13T16:29:25.969607Z",
     "iopub.status.idle": "2025-01-13T16:29:25.973345Z",
     "shell.execute_reply": "2025-01-13T16:29:25.972485Z"
    },
    "papermill": {
     "duration": 1.55805,
     "end_time": "2025-01-13T16:29:25.974791",
     "exception": false,
     "start_time": "2025-01-13T16:29:24.416741",
     "status": "completed"
    },
    "tags": []
   },
   "outputs": [],
   "source": [
    "import shutil"
   ]
  },
  {
   "cell_type": "code",
   "execution_count": 52,
   "id": "cffbebf2",
   "metadata": {
    "execution": {
     "iopub.execute_input": "2025-01-13T16:29:28.936283Z",
     "iopub.status.busy": "2025-01-13T16:29:28.935911Z",
     "iopub.status.idle": "2025-01-13T16:31:38.028060Z",
     "shell.execute_reply": "2025-01-13T16:31:38.027083Z"
    },
    "papermill": {
     "duration": 132.051243,
     "end_time": "2025-01-13T16:31:39.556907",
     "exception": false,
     "start_time": "2025-01-13T16:29:27.505664",
     "status": "completed"
    },
    "tags": []
   },
   "outputs": [
    {
     "data": {
      "text/plain": [
       "'/kaggle/working/output.zip'"
      ]
     },
     "execution_count": 52,
     "metadata": {},
     "output_type": "execute_result"
    }
   ],
   "source": [
    "# Paths for the directories\n",
    "output_dir = \"/kaggle/working/\"\n",
    "zip_path = \"/kaggle/working/output2.zip\"\n",
    "\n",
    "# Create a zip file\n",
    "shutil.make_archive(\"/kaggle/working/output\", 'zip', output_dir)"
   ]
  },
  {
   "cell_type": "code",
   "execution_count": 53,
   "id": "43f2aab0",
   "metadata": {
    "execution": {
     "iopub.execute_input": "2025-01-13T16:31:42.492332Z",
     "iopub.status.busy": "2025-01-13T16:31:42.491954Z",
     "iopub.status.idle": "2025-01-13T16:31:42.496645Z",
     "shell.execute_reply": "2025-01-13T16:31:42.495887Z"
    },
    "papermill": {
     "duration": 1.469648,
     "end_time": "2025-01-13T16:31:42.497916",
     "exception": false,
     "start_time": "2025-01-13T16:31:41.028268",
     "status": "completed"
    },
    "tags": []
   },
   "outputs": [],
   "source": [
    "test_set = SimpsonsDataset(train_images, train_labels, 'train', transform_v1)\n",
    "test_loader = DataLoader(train_dataset, batch_size=128, num_workers=4, shuffle=True)"
   ]
  },
  {
   "cell_type": "code",
   "execution_count": 54,
   "id": "57cce697",
   "metadata": {
    "collapsed": true,
    "execution": {
     "iopub.execute_input": "2025-01-13T16:31:45.655388Z",
     "iopub.status.busy": "2025-01-13T16:31:45.654984Z",
     "iopub.status.idle": "2025-01-13T16:34:09.857196Z",
     "shell.execute_reply": "2025-01-13T16:34:09.855953Z"
    },
    "jupyter": {
     "outputs_hidden": true
    },
    "papermill": {
     "duration": 145.741269,
     "end_time": "2025-01-13T16:34:09.858661",
     "exception": false,
     "start_time": "2025-01-13T16:31:44.117392",
     "status": "completed"
    },
    "tags": []
   },
   "outputs": [
    {
     "name": "stderr",
     "output_type": "stream",
     "text": [
      "/usr/lib/python3.10/multiprocessing/popen_fork.py:66: RuntimeWarning: os.fork() was called. os.fork() is incompatible with multithreaded code, and JAX is multithreaded, so this will likely lead to a deadlock.\n",
      "  self.pid = os.fork()\n",
      "243it [02:23,  1.69it/s]                         \n"
     ]
    }
   ],
   "source": [
    "temp = 0\n",
    "for i, data in tqdm(enumerate(test_loader), total=len(train_labels)//128):\n",
    "    temp += 1"
   ]
  },
  {
   "cell_type": "code",
   "execution_count": 55,
   "id": "7211557e",
   "metadata": {
    "execution": {
     "iopub.execute_input": "2025-01-13T16:34:12.914475Z",
     "iopub.status.busy": "2025-01-13T16:34:12.914040Z",
     "iopub.status.idle": "2025-01-13T16:34:12.919567Z",
     "shell.execute_reply": "2025-01-13T16:34:12.918735Z"
    },
    "papermill": {
     "duration": 1.522547,
     "end_time": "2025-01-13T16:34:12.921015",
     "exception": false,
     "start_time": "2025-01-13T16:34:11.398468",
     "status": "completed"
    },
    "tags": []
   },
   "outputs": [],
   "source": [
    "train_dataset = SimpsonsDataset(train_images[:100], train_labels[:100], 'train', transform_v1)\n",
    "train_dataloader = DataLoader(train_dataset, batch_size=64, num_workers=0, shuffle=True)\n",
    "val_dataset = SimpsonsDataset(val_images[:100], val_labels[:100], 'val', transform_v1)\n",
    "val_dataloader = DataLoader(val_dataset, batch_size=64, num_workers=0)"
   ]
  },
  {
   "cell_type": "code",
   "execution_count": 56,
   "id": "a01ce1f7",
   "metadata": {
    "execution": {
     "iopub.execute_input": "2025-01-13T16:34:15.959352Z",
     "iopub.status.busy": "2025-01-13T16:34:15.958971Z",
     "iopub.status.idle": "2025-01-13T16:34:15.963395Z",
     "shell.execute_reply": "2025-01-13T16:34:15.962408Z"
    },
    "papermill": {
     "duration": 1.436813,
     "end_time": "2025-01-13T16:34:15.964879",
     "exception": false,
     "start_time": "2025-01-13T16:34:14.528066",
     "status": "completed"
    },
    "tags": []
   },
   "outputs": [
    {
     "name": "stdout",
     "output_type": "stream",
     "text": [
      "124\n"
     ]
    }
   ],
   "source": [
    "print(124)"
   ]
  }
 ],
 "metadata": {
  "kaggle": {
   "accelerator": "gpu",
   "dataSources": [
    {
     "datasetId": 4468036,
     "sourceId": 7662400,
     "sourceType": "datasetVersion"
    }
   ],
   "dockerImageVersionId": 30822,
   "isGpuEnabled": true,
   "isInternetEnabled": true,
   "language": "python",
   "sourceType": "notebook"
  },
  "kernelspec": {
   "display_name": "Python 3 (ipykernel)",
   "language": "python",
   "name": "python3"
  },
  "language_info": {
   "codemirror_mode": {
    "name": "ipython",
    "version": 3
   },
   "file_extension": ".py",
   "mimetype": "text/x-python",
   "name": "python",
   "nbconvert_exporter": "python",
   "pygments_lexer": "ipython3",
   "version": "3.11.3"
  },
  "papermill": {
   "default_parameters": {},
   "duration": 8620.280327,
   "end_time": "2025-01-13T16:34:22.127303",
   "environment_variables": {},
   "exception": null,
   "input_path": "__notebook__.ipynb",
   "output_path": "__notebook__.ipynb",
   "parameters": {},
   "start_time": "2025-01-13T14:10:41.846976",
   "version": "2.6.0"
  }
 },
 "nbformat": 4,
 "nbformat_minor": 5
}
