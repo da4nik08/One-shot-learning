{
 "cells": [
  {
   "cell_type": "code",
   "execution_count": 1,
   "metadata": {
    "_cell_guid": "b1076dfc-b9ad-4769-8c92-a6c4dae69d19",
    "_uuid": "8f2839f25d086af736a60e9eeb907d3b93b6e0e5",
    "execution": {
     "iopub.execute_input": "2025-01-21T04:22:48.262217Z",
     "iopub.status.busy": "2025-01-21T04:22:48.261720Z",
     "iopub.status.idle": "2025-01-21T04:22:54.320494Z",
     "shell.execute_reply": "2025-01-21T04:22:54.319414Z",
     "shell.execute_reply.started": "2025-01-21T04:22:48.262179Z"
    }
   },
   "outputs": [],
   "source": [
    "import matplotlib.pyplot as plt\n",
    "from tqdm import tqdm, tqdm_notebook\n",
    "from PIL import Image\n",
    "import numpy as np\n",
    "import pandas as pd\n",
    "import torch\n",
    "import os\n",
    "import matplotlib.pyplot as plt\n",
    "import seaborn as sns"
   ]
  },
  {
   "cell_type": "code",
   "execution_count": 2,
   "metadata": {
    "execution": {
     "iopub.execute_input": "2025-01-21T04:22:54.322349Z",
     "iopub.status.busy": "2025-01-21T04:22:54.321779Z",
     "iopub.status.idle": "2025-01-21T04:22:54.326415Z",
     "shell.execute_reply": "2025-01-21T04:22:54.325298Z",
     "shell.execute_reply.started": "2025-01-21T04:22:54.322318Z"
    }
   },
   "outputs": [],
   "source": [
    "RESCALE_SIZE = 320\n",
    "DATA_MODES = ['train', 'val', 'test']"
   ]
  },
  {
   "cell_type": "code",
   "execution_count": 3,
   "metadata": {
    "execution": {
     "iopub.execute_input": "2025-01-21T04:22:59.197755Z",
     "iopub.status.busy": "2025-01-21T04:22:59.197266Z",
     "iopub.status.idle": "2025-01-21T04:22:59.203399Z",
     "shell.execute_reply": "2025-01-21T04:22:59.201923Z",
     "shell.execute_reply.started": "2025-01-21T04:22:59.197717Z"
    }
   },
   "outputs": [],
   "source": [
    "# path to folders with images\n",
    "folder_base = '/kaggle/input/2022-ukraine-russia-war-equipment-losses-oryx/'\n",
    "folder_img_ru = ['img_russia/img_russia/', 'img_russia_2024-07-12/img_russia/']\n",
    "folder_img_ua = ['img_ukraine/img_ukraine/', 'img_ukraine_2024-07-12/img_ukraine/']\n",
    "\n",
    "# path to images metadata\n",
    "path_img_metadata_ru = '/kaggle/input/2022-ukraine-russia-war-equipment-losses-oryx/img_russia_losses_metadata.csv'\n",
    "path_img_metadata_ua = '/kaggle/input/2022-ukraine-russia-war-equipment-losses-oryx/img_ukraine_losses_metadata.csv'\n",
    "\n",
    "# path to csv-files\n",
    "path_losses_ru = '/kaggle/input/2022-ukraine-russia-war-equipment-losses-oryx/losses_russia.csv'\n",
    "path_losses_ua = '/kaggle/input/2022-ukraine-russia-war-equipment-losses-oryx/losses_ukraine.csv'\n",
    "\n",
    "directory_path = '/kaggle/working/model_svs/'"
   ]
  },
  {
   "cell_type": "code",
   "execution_count": 4,
   "metadata": {
    "execution": {
     "iopub.execute_input": "2025-01-21T04:23:01.042660Z",
     "iopub.status.busy": "2025-01-21T04:23:01.042204Z",
     "iopub.status.idle": "2025-01-21T04:23:01.047901Z",
     "shell.execute_reply": "2025-01-21T04:23:01.046516Z",
     "shell.execute_reply.started": "2025-01-21T04:23:01.042625Z"
    }
   },
   "outputs": [],
   "source": [
    "target_name = 'equipment'"
   ]
  },
  {
   "cell_type": "code",
   "execution_count": 5,
   "metadata": {
    "execution": {
     "iopub.execute_input": "2025-01-21T04:23:01.450713Z",
     "iopub.status.busy": "2025-01-21T04:23:01.450229Z",
     "iopub.status.idle": "2025-01-21T04:23:01.529811Z",
     "shell.execute_reply": "2025-01-21T04:23:01.528525Z",
     "shell.execute_reply.started": "2025-01-21T04:23:01.450672Z"
    }
   },
   "outputs": [],
   "source": [
    "df = pd.read_csv(path_img_metadata_ru)"
   ]
  },
  {
   "cell_type": "code",
   "execution_count": 6,
   "metadata": {
    "execution": {
     "iopub.execute_input": "2025-01-21T04:23:02.842471Z",
     "iopub.status.busy": "2025-01-21T04:23:02.841965Z",
     "iopub.status.idle": "2025-01-21T04:23:02.882631Z",
     "shell.execute_reply": "2025-01-21T04:23:02.881378Z",
     "shell.execute_reply.started": "2025-01-21T04:23:02.842418Z"
    }
   },
   "outputs": [],
   "source": [
    "df_filtered = df[df['file'].str.contains(r'\\bcapt\\b', case=False, na=False)]"
   ]
  },
  {
   "cell_type": "code",
   "execution_count": 7,
   "metadata": {
    "execution": {
     "iopub.execute_input": "2025-01-21T04:23:07.135473Z",
     "iopub.status.busy": "2025-01-21T04:23:07.134976Z",
     "iopub.status.idle": "2025-01-21T04:23:07.148695Z",
     "shell.execute_reply": "2025-01-21T04:23:07.147283Z",
     "shell.execute_reply.started": "2025-01-21T04:23:07.135416Z"
    }
   },
   "outputs": [],
   "source": [
    "capt_df = df_filtered[df_filtered.groupby(target_name)[target_name].transform('count') > 19]"
   ]
  },
  {
   "cell_type": "code",
   "execution_count": 8,
   "metadata": {
    "execution": {
     "iopub.execute_input": "2025-01-21T04:23:07.774864Z",
     "iopub.status.busy": "2025-01-21T04:23:07.774362Z",
     "iopub.status.idle": "2025-01-21T04:23:07.789471Z",
     "shell.execute_reply": "2025-01-21T04:23:07.787893Z",
     "shell.execute_reply.started": "2025-01-21T04:23:07.774820Z"
    }
   },
   "outputs": [],
   "source": [
    "class_counts = capt_df[target_name].value_counts()\n",
    "val_data = pd.DataFrame()\n",
    "train_data = capt_df.copy()"
   ]
  },
  {
   "cell_type": "code",
   "execution_count": 10,
   "metadata": {
    "execution": {
     "iopub.execute_input": "2025-01-21T04:23:22.897793Z",
     "iopub.status.busy": "2025-01-21T04:23:22.897341Z",
     "iopub.status.idle": "2025-01-21T04:23:22.905525Z",
     "shell.execute_reply": "2025-01-21T04:23:22.904521Z",
     "shell.execute_reply.started": "2025-01-21T04:23:22.897762Z"
    }
   },
   "outputs": [
    {
     "data": {
      "text/plain": [
       "equipment\n",
       "Infantry_Fighting_Vehicles                 175\n",
       "Trucks,_Vehicles,_and_Jeeps                150\n",
       "Tanks                                      133\n",
       "Armoured_Fighting_Vehicles                  74\n",
       "Engineering_Vehicles_And_Equipment          67\n",
       "Reconnaissance_Unmanned_Aerial_Vehicles     59\n",
       "Towed_Artillery                             24\n",
       "Name: count, dtype: int64"
      ]
     },
     "execution_count": 10,
     "metadata": {},
     "output_type": "execute_result"
    }
   ],
   "source": [
    "class_counts"
   ]
  },
  {
   "cell_type": "code",
   "execution_count": 126,
   "metadata": {
    "execution": {
     "iopub.execute_input": "2025-01-21T01:59:07.810105Z",
     "iopub.status.busy": "2025-01-21T01:59:07.809817Z",
     "iopub.status.idle": "2025-01-21T01:59:07.823667Z",
     "shell.execute_reply": "2025-01-21T01:59:07.822766Z",
     "shell.execute_reply.started": "2025-01-21T01:59:07.810084Z"
    }
   },
   "outputs": [],
   "source": [
    "# Drop rows where 'model' column contains the word 'Unknown' (case insensitive)\n",
    "df_cleaned = df[~df[target_name].str.contains('unknown', case=False, na=False)]"
   ]
  },
  {
   "cell_type": "code",
   "execution_count": 127,
   "metadata": {
    "execution": {
     "iopub.execute_input": "2025-01-21T01:59:08.393603Z",
     "iopub.status.busy": "2025-01-21T01:59:08.393249Z",
     "iopub.status.idle": "2025-01-21T01:59:08.398217Z",
     "shell.execute_reply": "2025-01-21T01:59:08.397328Z",
     "shell.execute_reply.started": "2025-01-21T01:59:08.393572Z"
    }
   },
   "outputs": [],
   "source": [
    "df_cleaned = df_cleaned.reset_index(drop=True)"
   ]
  },
  {
   "cell_type": "code",
   "execution_count": 240,
   "metadata": {
    "execution": {
     "iopub.execute_input": "2025-01-21T02:24:59.431229Z",
     "iopub.status.busy": "2025-01-21T02:24:59.430922Z",
     "iopub.status.idle": "2025-01-21T02:24:59.449962Z",
     "shell.execute_reply": "2025-01-21T02:24:59.449008Z",
     "shell.execute_reply.started": "2025-01-21T02:24:59.431204Z"
    }
   },
   "outputs": [],
   "source": [
    "for cls, count in class_counts.items():\n",
    "    if count <= 5:\n",
    "        continue\n",
    "    elif count <= 10:\n",
    "        n_samples = 2\n",
    "    elif count <= 20:\n",
    "        n_samples = 3\n",
    "    elif count <= 100:\n",
    "        n_samples = round(count * 0.1)\n",
    "    else:\n",
    "        n_samples = round(count * 0.1)\n",
    "\n",
    "    # Select n_samples from the class for validation\n",
    "    val_samples = train_data[train_data[target_name] == cls].sample(n_samples, random_state=42)\n",
    "    \n",
    "    # Append to validation set\n",
    "    val_data = pd.concat([val_data, val_samples])\n",
    "    \n",
    "    # Remove selected instances from train set\n",
    "    train_data = train_data.drop(val_samples.index)"
   ]
  },
  {
   "cell_type": "code",
   "execution_count": 241,
   "metadata": {
    "execution": {
     "iopub.execute_input": "2025-01-21T02:25:01.234203Z",
     "iopub.status.busy": "2025-01-21T02:25:01.233888Z",
     "iopub.status.idle": "2025-01-21T02:25:01.239586Z",
     "shell.execute_reply": "2025-01-21T02:25:01.238766Z",
     "shell.execute_reply.started": "2025-01-21T02:25:01.234175Z"
    }
   },
   "outputs": [
    {
     "name": "stdout",
     "output_type": "stream",
     "text": [
      "Validation set size: 68\n",
      "Training set size: 614\n"
     ]
    }
   ],
   "source": [
    "print(f\"Validation set size: {len(val_data)}\")\n",
    "print(f\"Training set size: {len(train_data)}\")"
   ]
  },
  {
   "cell_type": "code",
   "execution_count": 242,
   "metadata": {
    "execution": {
     "iopub.execute_input": "2025-01-21T02:25:04.762581Z",
     "iopub.status.busy": "2025-01-21T02:25:04.762257Z",
     "iopub.status.idle": "2025-01-21T02:25:04.766226Z",
     "shell.execute_reply": "2025-01-21T02:25:04.765261Z",
     "shell.execute_reply.started": "2025-01-21T02:25:04.762556Z"
    }
   },
   "outputs": [],
   "source": [
    "from collections import defaultdict\n",
    "from itertools import combinations"
   ]
  },
  {
   "cell_type": "code",
   "execution_count": 243,
   "metadata": {
    "execution": {
     "iopub.execute_input": "2025-01-21T02:25:05.073722Z",
     "iopub.status.busy": "2025-01-21T02:25:05.073371Z",
     "iopub.status.idle": "2025-01-21T02:25:05.077805Z",
     "shell.execute_reply": "2025-01-21T02:25:05.076904Z",
     "shell.execute_reply.started": "2025-01-21T02:25:05.073697Z"
    }
   },
   "outputs": [],
   "source": [
    "def custom_transform(img, rescale_size):\n",
    "    image = img.resize((rescale_size, rescale_size), resample=Image.BILINEAR)\n",
    "    return image"
   ]
  },
  {
   "cell_type": "code",
   "execution_count": 244,
   "metadata": {
    "execution": {
     "iopub.execute_input": "2025-01-21T02:25:05.413738Z",
     "iopub.status.busy": "2025-01-21T02:25:05.413411Z",
     "iopub.status.idle": "2025-01-21T02:25:05.420432Z",
     "shell.execute_reply": "2025-01-21T02:25:05.419517Z",
     "shell.execute_reply.started": "2025-01-21T02:25:05.413716Z"
    }
   },
   "outputs": [],
   "source": [
    "def preproc(dataframe):\n",
    "    index_list = []\n",
    "    image_list = []\n",
    "    label_list = []\n",
    "    for index, row in tqdm(dataframe.iterrows(), total=dataframe.shape[0]):\n",
    "        if row['folder'] == 'img_russia':\n",
    "            img_path = os.path.join(folder_base, folder_img_ru[0])\n",
    "        else:\n",
    "            img_path = os.path.join(folder_base, folder_img_ru[1])\n",
    "    \n",
    "        img_path = os.path.join(img_path, row['equipment'], row['file'])\n",
    "    \n",
    "        # Check if the corresponding label file exists\n",
    "        if not os.path.exists(img_path):\n",
    "            print(f\"Label file missing for {img_path}, skipping.\")\n",
    "            continue\n",
    "        \n",
    "        try:\n",
    "            # Open the image\n",
    "            img = Image.open(img_path)\n",
    "            if img.mode != 'RGB'\n",
    "                img = img.convert('RGB')\n",
    "            resized_img = custom_transform(img, RESCALE_SIZE)\n",
    "            image_list.append(resized_img)\n",
    "            label_list.append(row[target_name])\n",
    "            index_list.append(index)\n",
    "        \n",
    "        except Exception as e:\n",
    "            print(f\"Error processing {img_path}: {e}\")\n",
    "\n",
    "    return image_list, label_list, index_list"
   ]
  },
  {
   "cell_type": "code",
   "execution_count": 245,
   "metadata": {
    "execution": {
     "iopub.execute_input": "2025-01-21T02:25:07.224291Z",
     "iopub.status.busy": "2025-01-21T02:25:07.224003Z",
     "iopub.status.idle": "2025-01-21T02:25:19.097853Z",
     "shell.execute_reply": "2025-01-21T02:25:19.096931Z",
     "shell.execute_reply.started": "2025-01-21T02:25:07.224267Z"
    }
   },
   "outputs": [
    {
     "name": "stderr",
     "output_type": "stream",
     "text": [
      "100%|██████████| 614/614 [00:11<00:00, 51.74it/s]\n"
     ]
    }
   ],
   "source": [
    "train_images, train_labels, train_index = preproc(train_data)"
   ]
  },
  {
   "cell_type": "code",
   "execution_count": 246,
   "metadata": {
    "execution": {
     "iopub.execute_input": "2025-01-21T02:25:19.099568Z",
     "iopub.status.busy": "2025-01-21T02:25:19.099213Z",
     "iopub.status.idle": "2025-01-21T02:25:20.322885Z",
     "shell.execute_reply": "2025-01-21T02:25:20.321853Z",
     "shell.execute_reply.started": "2025-01-21T02:25:19.099529Z"
    }
   },
   "outputs": [
    {
     "name": "stderr",
     "output_type": "stream",
     "text": [
      "100%|██████████| 68/68 [00:01<00:00, 55.89it/s]\n"
     ]
    }
   ],
   "source": [
    "val_images, val_labels, val_index = preproc(val_data)"
   ]
  },
  {
   "cell_type": "code",
   "execution_count": 247,
   "metadata": {
    "execution": {
     "iopub.execute_input": "2025-01-21T02:25:20.324666Z",
     "iopub.status.busy": "2025-01-21T02:25:20.324393Z",
     "iopub.status.idle": "2025-01-21T02:25:20.328308Z",
     "shell.execute_reply": "2025-01-21T02:25:20.327468Z",
     "shell.execute_reply.started": "2025-01-21T02:25:20.324642Z"
    }
   },
   "outputs": [],
   "source": [
    "from sklearn.preprocessing import LabelEncoder"
   ]
  },
  {
   "cell_type": "code",
   "execution_count": 248,
   "metadata": {
    "execution": {
     "iopub.execute_input": "2025-01-21T02:25:20.329558Z",
     "iopub.status.busy": "2025-01-21T02:25:20.329277Z",
     "iopub.status.idle": "2025-01-21T02:25:20.346664Z",
     "shell.execute_reply": "2025-01-21T02:25:20.345538Z",
     "shell.execute_reply.started": "2025-01-21T02:25:20.329529Z"
    }
   },
   "outputs": [
    {
     "data": {
      "text/html": [
       "<style>#sk-container-id-5 {color: black;background-color: white;}#sk-container-id-5 pre{padding: 0;}#sk-container-id-5 div.sk-toggleable {background-color: white;}#sk-container-id-5 label.sk-toggleable__label {cursor: pointer;display: block;width: 100%;margin-bottom: 0;padding: 0.3em;box-sizing: border-box;text-align: center;}#sk-container-id-5 label.sk-toggleable__label-arrow:before {content: \"▸\";float: left;margin-right: 0.25em;color: #696969;}#sk-container-id-5 label.sk-toggleable__label-arrow:hover:before {color: black;}#sk-container-id-5 div.sk-estimator:hover label.sk-toggleable__label-arrow:before {color: black;}#sk-container-id-5 div.sk-toggleable__content {max-height: 0;max-width: 0;overflow: hidden;text-align: left;background-color: #f0f8ff;}#sk-container-id-5 div.sk-toggleable__content pre {margin: 0.2em;color: black;border-radius: 0.25em;background-color: #f0f8ff;}#sk-container-id-5 input.sk-toggleable__control:checked~div.sk-toggleable__content {max-height: 200px;max-width: 100%;overflow: auto;}#sk-container-id-5 input.sk-toggleable__control:checked~label.sk-toggleable__label-arrow:before {content: \"▾\";}#sk-container-id-5 div.sk-estimator input.sk-toggleable__control:checked~label.sk-toggleable__label {background-color: #d4ebff;}#sk-container-id-5 div.sk-label input.sk-toggleable__control:checked~label.sk-toggleable__label {background-color: #d4ebff;}#sk-container-id-5 input.sk-hidden--visually {border: 0;clip: rect(1px 1px 1px 1px);clip: rect(1px, 1px, 1px, 1px);height: 1px;margin: -1px;overflow: hidden;padding: 0;position: absolute;width: 1px;}#sk-container-id-5 div.sk-estimator {font-family: monospace;background-color: #f0f8ff;border: 1px dotted black;border-radius: 0.25em;box-sizing: border-box;margin-bottom: 0.5em;}#sk-container-id-5 div.sk-estimator:hover {background-color: #d4ebff;}#sk-container-id-5 div.sk-parallel-item::after {content: \"\";width: 100%;border-bottom: 1px solid gray;flex-grow: 1;}#sk-container-id-5 div.sk-label:hover label.sk-toggleable__label {background-color: #d4ebff;}#sk-container-id-5 div.sk-serial::before {content: \"\";position: absolute;border-left: 1px solid gray;box-sizing: border-box;top: 0;bottom: 0;left: 50%;z-index: 0;}#sk-container-id-5 div.sk-serial {display: flex;flex-direction: column;align-items: center;background-color: white;padding-right: 0.2em;padding-left: 0.2em;position: relative;}#sk-container-id-5 div.sk-item {position: relative;z-index: 1;}#sk-container-id-5 div.sk-parallel {display: flex;align-items: stretch;justify-content: center;background-color: white;position: relative;}#sk-container-id-5 div.sk-item::before, #sk-container-id-5 div.sk-parallel-item::before {content: \"\";position: absolute;border-left: 1px solid gray;box-sizing: border-box;top: 0;bottom: 0;left: 50%;z-index: -1;}#sk-container-id-5 div.sk-parallel-item {display: flex;flex-direction: column;z-index: 1;position: relative;background-color: white;}#sk-container-id-5 div.sk-parallel-item:first-child::after {align-self: flex-end;width: 50%;}#sk-container-id-5 div.sk-parallel-item:last-child::after {align-self: flex-start;width: 50%;}#sk-container-id-5 div.sk-parallel-item:only-child::after {width: 0;}#sk-container-id-5 div.sk-dashed-wrapped {border: 1px dashed gray;margin: 0 0.4em 0.5em 0.4em;box-sizing: border-box;padding-bottom: 0.4em;background-color: white;}#sk-container-id-5 div.sk-label label {font-family: monospace;font-weight: bold;display: inline-block;line-height: 1.2em;}#sk-container-id-5 div.sk-label-container {text-align: center;}#sk-container-id-5 div.sk-container {/* jupyter's `normalize.less` sets `[hidden] { display: none; }` but bootstrap.min.css set `[hidden] { display: none !important; }` so we also need the `!important` here to be able to override the default hidden behavior on the sphinx rendered scikit-learn.org. See: https://github.com/scikit-learn/scikit-learn/issues/21755 */display: inline-block !important;position: relative;}#sk-container-id-5 div.sk-text-repr-fallback {display: none;}</style><div id=\"sk-container-id-5\" class=\"sk-top-container\"><div class=\"sk-text-repr-fallback\"><pre>LabelEncoder()</pre><b>In a Jupyter environment, please rerun this cell to show the HTML representation or trust the notebook. <br />On GitHub, the HTML representation is unable to render, please try loading this page with nbviewer.org.</b></div><div class=\"sk-container\" hidden><div class=\"sk-item\"><div class=\"sk-estimator sk-toggleable\"><input class=\"sk-toggleable__control sk-hidden--visually\" id=\"sk-estimator-id-5\" type=\"checkbox\" checked><label for=\"sk-estimator-id-5\" class=\"sk-toggleable__label sk-toggleable__label-arrow\">LabelEncoder</label><div class=\"sk-toggleable__content\"><pre>LabelEncoder()</pre></div></div></div></div></div>"
      ],
      "text/plain": [
       "LabelEncoder()"
      ]
     },
     "execution_count": 248,
     "metadata": {},
     "output_type": "execute_result"
    }
   ],
   "source": [
    "le = LabelEncoder()\n",
    "le.fit(list(set(train_labels)))"
   ]
  },
  {
   "cell_type": "code",
   "execution_count": 249,
   "metadata": {
    "execution": {
     "iopub.execute_input": "2025-01-21T02:25:20.347872Z",
     "iopub.status.busy": "2025-01-21T02:25:20.347575Z",
     "iopub.status.idle": "2025-01-21T02:25:20.358814Z",
     "shell.execute_reply": "2025-01-21T02:25:20.358167Z",
     "shell.execute_reply.started": "2025-01-21T02:25:20.347842Z"
    }
   },
   "outputs": [],
   "source": [
    "enc_tlabels = le.transform(train_labels)\n",
    "enc_vlabels = le.transform(val_labels)"
   ]
  },
  {
   "cell_type": "code",
   "execution_count": 250,
   "metadata": {
    "execution": {
     "iopub.execute_input": "2025-01-21T02:25:20.359743Z",
     "iopub.status.busy": "2025-01-21T02:25:20.359521Z",
     "iopub.status.idle": "2025-01-21T02:25:20.371515Z",
     "shell.execute_reply": "2025-01-21T02:25:20.370668Z",
     "shell.execute_reply.started": "2025-01-21T02:25:20.359724Z"
    }
   },
   "outputs": [],
   "source": [
    "from torchvision import transforms\n",
    "from torch.utils.data import Dataset, DataLoader"
   ]
  },
  {
   "cell_type": "code",
   "execution_count": 251,
   "metadata": {
    "execution": {
     "iopub.execute_input": "2025-01-21T02:25:20.372600Z",
     "iopub.status.busy": "2025-01-21T02:25:20.372336Z",
     "iopub.status.idle": "2025-01-21T02:25:20.385601Z",
     "shell.execute_reply": "2025-01-21T02:25:20.384747Z",
     "shell.execute_reply.started": "2025-01-21T02:25:20.372567Z"
    }
   },
   "outputs": [],
   "source": [
    "MEAN = [0.5097, 0.524, 0.5099]\n",
    "STD = [0.212, 0.212, 0.237]"
   ]
  },
  {
   "cell_type": "code",
   "execution_count": 252,
   "metadata": {
    "execution": {
     "iopub.execute_input": "2025-01-21T02:25:20.387906Z",
     "iopub.status.busy": "2025-01-21T02:25:20.387654Z",
     "iopub.status.idle": "2025-01-21T02:25:20.398540Z",
     "shell.execute_reply": "2025-01-21T02:25:20.397763Z",
     "shell.execute_reply.started": "2025-01-21T02:25:20.387885Z"
    }
   },
   "outputs": [],
   "source": [
    "transform_v1 = transforms.Compose([\n",
    "    transforms.ToTensor(),\n",
    "    transforms.RandomHorizontalFlip(p=0.25),\n",
    "    transforms.RandomRotation(degrees=25),\n",
    "    transforms.RandomPerspective(distortion_scale=0.6, p=0.25),\n",
    "    transforms.Normalize(MEAN, STD)\n",
    "])"
   ]
  }
 ],
 "metadata": {
  "kaggle": {
   "accelerator": "none",
   "dataSources": [
    {
     "datasetId": 2137547,
     "sourceId": 8941033,
     "sourceType": "datasetVersion"
    },
    {
     "datasetId": 6505715,
     "sourceId": 10531950,
     "sourceType": "datasetVersion"
    }
   ],
   "dockerImageVersionId": 30840,
   "isGpuEnabled": false,
   "isInternetEnabled": true,
   "language": "python",
   "sourceType": "notebook"
  },
  "kernelspec": {
   "display_name": "Python 3 (ipykernel)",
   "language": "python",
   "name": "python3"
  },
  "language_info": {
   "codemirror_mode": {
    "name": "ipython",
    "version": 3
   },
   "file_extension": ".py",
   "mimetype": "text/x-python",
   "name": "python",
   "nbconvert_exporter": "python",
   "pygments_lexer": "ipython3",
   "version": "3.11.3"
  }
 },
 "nbformat": 4,
 "nbformat_minor": 4
}
