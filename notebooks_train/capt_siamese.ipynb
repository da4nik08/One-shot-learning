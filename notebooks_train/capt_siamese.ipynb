{
 "cells": [
  {
   "cell_type": "code",
   "execution_count": 1,
   "metadata": {
    "_cell_guid": "b1076dfc-b9ad-4769-8c92-a6c4dae69d19",
    "_uuid": "8f2839f25d086af736a60e9eeb907d3b93b6e0e5",
    "execution": {
     "iopub.execute_input": "2025-01-21T04:22:48.262217Z",
     "iopub.status.busy": "2025-01-21T04:22:48.261720Z",
     "iopub.status.idle": "2025-01-21T04:22:54.320494Z",
     "shell.execute_reply": "2025-01-21T04:22:54.319414Z",
     "shell.execute_reply.started": "2025-01-21T04:22:48.262179Z"
    }
   },
   "outputs": [],
   "source": [
    "import matplotlib.pyplot as plt\n",
    "from tqdm import tqdm, tqdm_notebook\n",
    "from PIL import Image\n",
    "import numpy as np\n",
    "import pandas as pd\n",
    "import torch\n",
    "import os\n",
    "import matplotlib.pyplot as plt\n",
    "import seaborn as sns"
   ]
  },
  {
   "cell_type": "code",
   "execution_count": 2,
   "metadata": {
    "execution": {
     "iopub.execute_input": "2025-01-21T04:22:54.322349Z",
     "iopub.status.busy": "2025-01-21T04:22:54.321779Z",
     "iopub.status.idle": "2025-01-21T04:22:54.326415Z",
     "shell.execute_reply": "2025-01-21T04:22:54.325298Z",
     "shell.execute_reply.started": "2025-01-21T04:22:54.322318Z"
    }
   },
   "outputs": [],
   "source": [
    "RESCALE_SIZE = 320\n",
    "DATA_MODES = ['train', 'val', 'test']"
   ]
  },
  {
   "cell_type": "code",
   "execution_count": 3,
   "metadata": {
    "execution": {
     "iopub.execute_input": "2025-01-21T04:22:59.197755Z",
     "iopub.status.busy": "2025-01-21T04:22:59.197266Z",
     "iopub.status.idle": "2025-01-21T04:22:59.203399Z",
     "shell.execute_reply": "2025-01-21T04:22:59.201923Z",
     "shell.execute_reply.started": "2025-01-21T04:22:59.197717Z"
    }
   },
   "outputs": [],
   "source": [
    "# path to folders with images\n",
    "folder_base = '/kaggle/input/2022-ukraine-russia-war-equipment-losses-oryx/'\n",
    "folder_img_ru = ['img_russia/img_russia/', 'img_russia_2024-07-12/img_russia/']\n",
    "folder_img_ua = ['img_ukraine/img_ukraine/', 'img_ukraine_2024-07-12/img_ukraine/']\n",
    "\n",
    "# path to images metadata\n",
    "path_img_metadata_ru = '/kaggle/input/2022-ukraine-russia-war-equipment-losses-oryx/img_russia_losses_metadata.csv'\n",
    "path_img_metadata_ua = '/kaggle/input/2022-ukraine-russia-war-equipment-losses-oryx/img_ukraine_losses_metadata.csv'\n",
    "\n",
    "# path to csv-files\n",
    "path_losses_ru = '/kaggle/input/2022-ukraine-russia-war-equipment-losses-oryx/losses_russia.csv'\n",
    "path_losses_ua = '/kaggle/input/2022-ukraine-russia-war-equipment-losses-oryx/losses_ukraine.csv'\n",
    "\n",
    "directory_path = '/kaggle/working/model_svs/'"
   ]
  },
  {
   "cell_type": "code",
   "execution_count": 4,
   "metadata": {
    "execution": {
     "iopub.execute_input": "2025-01-21T04:23:01.042660Z",
     "iopub.status.busy": "2025-01-21T04:23:01.042204Z",
     "iopub.status.idle": "2025-01-21T04:23:01.047901Z",
     "shell.execute_reply": "2025-01-21T04:23:01.046516Z",
     "shell.execute_reply.started": "2025-01-21T04:23:01.042625Z"
    }
   },
   "outputs": [],
   "source": [
    "target_name = 'equipment'"
   ]
  },
  {
   "cell_type": "code",
   "execution_count": 5,
   "metadata": {
    "execution": {
     "iopub.execute_input": "2025-01-21T04:23:01.450713Z",
     "iopub.status.busy": "2025-01-21T04:23:01.450229Z",
     "iopub.status.idle": "2025-01-21T04:23:01.529811Z",
     "shell.execute_reply": "2025-01-21T04:23:01.528525Z",
     "shell.execute_reply.started": "2025-01-21T04:23:01.450672Z"
    }
   },
   "outputs": [],
   "source": [
    "df = pd.read_csv(path_img_metadata_ru)"
   ]
  },
  {
   "cell_type": "code",
   "execution_count": 126,
   "metadata": {
    "execution": {
     "iopub.execute_input": "2025-01-21T01:59:07.810105Z",
     "iopub.status.busy": "2025-01-21T01:59:07.809817Z",
     "iopub.status.idle": "2025-01-21T01:59:07.823667Z",
     "shell.execute_reply": "2025-01-21T01:59:07.822766Z",
     "shell.execute_reply.started": "2025-01-21T01:59:07.810084Z"
    }
   },
   "outputs": [],
   "source": [
    "# Drop rows where 'model' column contains the word 'Unknown' (case insensitive)\n",
    "df = df[~df[target_name].str.contains('unknown', case=False, na=False)]"
   ]
  },
  {
   "cell_type": "code",
   "execution_count": 6,
   "metadata": {
    "execution": {
     "iopub.execute_input": "2025-01-21T04:23:02.842471Z",
     "iopub.status.busy": "2025-01-21T04:23:02.841965Z",
     "iopub.status.idle": "2025-01-21T04:23:02.882631Z",
     "shell.execute_reply": "2025-01-21T04:23:02.881378Z",
     "shell.execute_reply.started": "2025-01-21T04:23:02.842418Z"
    }
   },
   "outputs": [],
   "source": [
    "df_filtered = df[df['file'].str.contains(r'\\bcapt\\b', case=False, na=False)]"
   ]
  },
  {
   "cell_type": "code",
   "execution_count": 7,
   "metadata": {
    "execution": {
     "iopub.execute_input": "2025-01-21T04:23:07.135473Z",
     "iopub.status.busy": "2025-01-21T04:23:07.134976Z",
     "iopub.status.idle": "2025-01-21T04:23:07.148695Z",
     "shell.execute_reply": "2025-01-21T04:23:07.147283Z",
     "shell.execute_reply.started": "2025-01-21T04:23:07.135416Z"
    }
   },
   "outputs": [],
   "source": [
    "capt_df = df_filtered[df_filtered.groupby(target_name)[target_name].transform('count') > 19]"
   ]
  },
  {
   "cell_type": "code",
   "execution_count": 8,
   "metadata": {
    "execution": {
     "iopub.execute_input": "2025-01-21T04:23:07.774864Z",
     "iopub.status.busy": "2025-01-21T04:23:07.774362Z",
     "iopub.status.idle": "2025-01-21T04:23:07.789471Z",
     "shell.execute_reply": "2025-01-21T04:23:07.787893Z",
     "shell.execute_reply.started": "2025-01-21T04:23:07.774820Z"
    }
   },
   "outputs": [],
   "source": [
    "class_counts = capt_df[target_name].value_counts()\n",
    "val_data = pd.DataFrame()\n",
    "train_data = capt_df.copy()"
   ]
  },
  {
   "cell_type": "code",
   "execution_count": 10,
   "metadata": {
    "execution": {
     "iopub.execute_input": "2025-01-21T04:23:22.897793Z",
     "iopub.status.busy": "2025-01-21T04:23:22.897341Z",
     "iopub.status.idle": "2025-01-21T04:23:22.905525Z",
     "shell.execute_reply": "2025-01-21T04:23:22.904521Z",
     "shell.execute_reply.started": "2025-01-21T04:23:22.897762Z"
    }
   },
   "outputs": [
    {
     "data": {
      "text/plain": [
       "equipment\n",
       "Infantry_Fighting_Vehicles                 175\n",
       "Trucks,_Vehicles,_and_Jeeps                150\n",
       "Tanks                                      133\n",
       "Armoured_Fighting_Vehicles                  74\n",
       "Engineering_Vehicles_And_Equipment          67\n",
       "Reconnaissance_Unmanned_Aerial_Vehicles     59\n",
       "Towed_Artillery                             24\n",
       "Name: count, dtype: int64"
      ]
     },
     "execution_count": 10,
     "metadata": {},
     "output_type": "execute_result"
    }
   ],
   "source": [
    "class_counts"
   ]
  },
  {
   "cell_type": "code",
   "execution_count": 240,
   "metadata": {
    "execution": {
     "iopub.execute_input": "2025-01-21T02:24:59.431229Z",
     "iopub.status.busy": "2025-01-21T02:24:59.430922Z",
     "iopub.status.idle": "2025-01-21T02:24:59.449962Z",
     "shell.execute_reply": "2025-01-21T02:24:59.449008Z",
     "shell.execute_reply.started": "2025-01-21T02:24:59.431204Z"
    }
   },
   "outputs": [],
   "source": [
    "for cls, count in class_counts.items():\n",
    "    if count <= 5:\n",
    "        continue\n",
    "    elif count <= 10:\n",
    "        n_samples = 2\n",
    "    elif count <= 20:\n",
    "        n_samples = 3\n",
    "    elif count <= 100:\n",
    "        n_samples = round(count * 0.1)\n",
    "    else:\n",
    "        n_samples = round(count * 0.1)\n",
    "\n",
    "    # Select n_samples from the class for validation\n",
    "    val_samples = train_data[train_data[target_name] == cls].sample(n_samples, random_state=42)\n",
    "    \n",
    "    # Append to validation set\n",
    "    val_data = pd.concat([val_data, val_samples])\n",
    "    \n",
    "    # Remove selected instances from train set\n",
    "    train_data = train_data.drop(val_samples.index)"
   ]
  },
  {
   "cell_type": "code",
   "execution_count": 241,
   "metadata": {
    "execution": {
     "iopub.execute_input": "2025-01-21T02:25:01.234203Z",
     "iopub.status.busy": "2025-01-21T02:25:01.233888Z",
     "iopub.status.idle": "2025-01-21T02:25:01.239586Z",
     "shell.execute_reply": "2025-01-21T02:25:01.238766Z",
     "shell.execute_reply.started": "2025-01-21T02:25:01.234175Z"
    }
   },
   "outputs": [
    {
     "name": "stdout",
     "output_type": "stream",
     "text": [
      "Validation set size: 68\n",
      "Training set size: 614\n"
     ]
    }
   ],
   "source": [
    "print(f\"Validation set size: {len(val_data)}\")\n",
    "print(f\"Training set size: {len(train_data)}\")"
   ]
  },
  {
   "cell_type": "code",
   "execution_count": 242,
   "metadata": {
    "execution": {
     "iopub.execute_input": "2025-01-21T02:25:04.762581Z",
     "iopub.status.busy": "2025-01-21T02:25:04.762257Z",
     "iopub.status.idle": "2025-01-21T02:25:04.766226Z",
     "shell.execute_reply": "2025-01-21T02:25:04.765261Z",
     "shell.execute_reply.started": "2025-01-21T02:25:04.762556Z"
    }
   },
   "outputs": [],
   "source": [
    "from collections import defaultdict\n",
    "from itertools import combinations"
   ]
  },
  {
   "cell_type": "code",
   "execution_count": 243,
   "metadata": {
    "execution": {
     "iopub.execute_input": "2025-01-21T02:25:05.073722Z",
     "iopub.status.busy": "2025-01-21T02:25:05.073371Z",
     "iopub.status.idle": "2025-01-21T02:25:05.077805Z",
     "shell.execute_reply": "2025-01-21T02:25:05.076904Z",
     "shell.execute_reply.started": "2025-01-21T02:25:05.073697Z"
    }
   },
   "outputs": [],
   "source": [
    "def custom_transform(img, rescale_size):\n",
    "    image = img.resize((rescale_size, rescale_size), resample=Image.BILINEAR)\n",
    "    return image"
   ]
  },
  {
   "cell_type": "code",
   "execution_count": 244,
   "metadata": {
    "execution": {
     "iopub.execute_input": "2025-01-21T02:25:05.413738Z",
     "iopub.status.busy": "2025-01-21T02:25:05.413411Z",
     "iopub.status.idle": "2025-01-21T02:25:05.420432Z",
     "shell.execute_reply": "2025-01-21T02:25:05.419517Z",
     "shell.execute_reply.started": "2025-01-21T02:25:05.413716Z"
    }
   },
   "outputs": [],
   "source": [
    "def preproc(dataframe):\n",
    "    index_list = []\n",
    "    image_list = []\n",
    "    label_list = []\n",
    "    for index, row in tqdm(dataframe.iterrows(), total=dataframe.shape[0]):\n",
    "        if row['folder'] == 'img_russia':\n",
    "            img_path = os.path.join(folder_base, folder_img_ru[0])\n",
    "        else:\n",
    "            img_path = os.path.join(folder_base, folder_img_ru[1])\n",
    "    \n",
    "        img_path = os.path.join(img_path, row['equipment'], row['file'])\n",
    "    \n",
    "        # Check if the corresponding label file exists\n",
    "        if not os.path.exists(img_path):\n",
    "            print(f\"Label file missing for {img_path}, skipping.\")\n",
    "            continue\n",
    "        \n",
    "        try:\n",
    "            # Open the image\n",
    "            img = Image.open(img_path)\n",
    "            if img.mode != 'RGB': \n",
    "                img = img.convert('RGB')\n",
    "            if np.array(img).shape[2] != 3:\n",
    "                print(np.array(img).shape)\n",
    "            resized_img = custom_transform(img, RESCALE_SIZE)\n",
    "            image_list.append(resized_img)\n",
    "            label_list.append(row[target_name])\n",
    "            index_list.append(index)\n",
    "        \n",
    "        except Exception as e:\n",
    "            print(f\"Error processing {img_path}: {e}\")\n",
    "\n",
    "    return image_list, label_list, index_list"
   ]
  },
  {
   "cell_type": "code",
   "execution_count": 245,
   "metadata": {
    "execution": {
     "iopub.execute_input": "2025-01-21T02:25:07.224291Z",
     "iopub.status.busy": "2025-01-21T02:25:07.224003Z",
     "iopub.status.idle": "2025-01-21T02:25:19.097853Z",
     "shell.execute_reply": "2025-01-21T02:25:19.096931Z",
     "shell.execute_reply.started": "2025-01-21T02:25:07.224267Z"
    }
   },
   "outputs": [
    {
     "name": "stderr",
     "output_type": "stream",
     "text": [
      "100%|██████████| 614/614 [00:11<00:00, 51.74it/s]\n"
     ]
    }
   ],
   "source": [
    "train_images, train_labels, train_index = preproc(train_data)"
   ]
  },
  {
   "cell_type": "code",
   "execution_count": 246,
   "metadata": {
    "execution": {
     "iopub.execute_input": "2025-01-21T02:25:19.099568Z",
     "iopub.status.busy": "2025-01-21T02:25:19.099213Z",
     "iopub.status.idle": "2025-01-21T02:25:20.322885Z",
     "shell.execute_reply": "2025-01-21T02:25:20.321853Z",
     "shell.execute_reply.started": "2025-01-21T02:25:19.099529Z"
    }
   },
   "outputs": [
    {
     "name": "stderr",
     "output_type": "stream",
     "text": [
      "100%|██████████| 68/68 [00:01<00:00, 55.89it/s]\n"
     ]
    }
   ],
   "source": [
    "val_images, val_labels, val_index = preproc(val_data)"
   ]
  },
  {
   "cell_type": "code",
   "execution_count": 247,
   "metadata": {
    "execution": {
     "iopub.execute_input": "2025-01-21T02:25:20.324666Z",
     "iopub.status.busy": "2025-01-21T02:25:20.324393Z",
     "iopub.status.idle": "2025-01-21T02:25:20.328308Z",
     "shell.execute_reply": "2025-01-21T02:25:20.327468Z",
     "shell.execute_reply.started": "2025-01-21T02:25:20.324642Z"
    }
   },
   "outputs": [],
   "source": [
    "from sklearn.preprocessing import LabelEncoder"
   ]
  },
  {
   "cell_type": "code",
   "execution_count": 248,
   "metadata": {
    "execution": {
     "iopub.execute_input": "2025-01-21T02:25:20.329558Z",
     "iopub.status.busy": "2025-01-21T02:25:20.329277Z",
     "iopub.status.idle": "2025-01-21T02:25:20.346664Z",
     "shell.execute_reply": "2025-01-21T02:25:20.345538Z",
     "shell.execute_reply.started": "2025-01-21T02:25:20.329529Z"
    }
   },
   "outputs": [
    {
     "data": {
      "text/html": [
       "<style>#sk-container-id-5 {color: black;background-color: white;}#sk-container-id-5 pre{padding: 0;}#sk-container-id-5 div.sk-toggleable {background-color: white;}#sk-container-id-5 label.sk-toggleable__label {cursor: pointer;display: block;width: 100%;margin-bottom: 0;padding: 0.3em;box-sizing: border-box;text-align: center;}#sk-container-id-5 label.sk-toggleable__label-arrow:before {content: \"▸\";float: left;margin-right: 0.25em;color: #696969;}#sk-container-id-5 label.sk-toggleable__label-arrow:hover:before {color: black;}#sk-container-id-5 div.sk-estimator:hover label.sk-toggleable__label-arrow:before {color: black;}#sk-container-id-5 div.sk-toggleable__content {max-height: 0;max-width: 0;overflow: hidden;text-align: left;background-color: #f0f8ff;}#sk-container-id-5 div.sk-toggleable__content pre {margin: 0.2em;color: black;border-radius: 0.25em;background-color: #f0f8ff;}#sk-container-id-5 input.sk-toggleable__control:checked~div.sk-toggleable__content {max-height: 200px;max-width: 100%;overflow: auto;}#sk-container-id-5 input.sk-toggleable__control:checked~label.sk-toggleable__label-arrow:before {content: \"▾\";}#sk-container-id-5 div.sk-estimator input.sk-toggleable__control:checked~label.sk-toggleable__label {background-color: #d4ebff;}#sk-container-id-5 div.sk-label input.sk-toggleable__control:checked~label.sk-toggleable__label {background-color: #d4ebff;}#sk-container-id-5 input.sk-hidden--visually {border: 0;clip: rect(1px 1px 1px 1px);clip: rect(1px, 1px, 1px, 1px);height: 1px;margin: -1px;overflow: hidden;padding: 0;position: absolute;width: 1px;}#sk-container-id-5 div.sk-estimator {font-family: monospace;background-color: #f0f8ff;border: 1px dotted black;border-radius: 0.25em;box-sizing: border-box;margin-bottom: 0.5em;}#sk-container-id-5 div.sk-estimator:hover {background-color: #d4ebff;}#sk-container-id-5 div.sk-parallel-item::after {content: \"\";width: 100%;border-bottom: 1px solid gray;flex-grow: 1;}#sk-container-id-5 div.sk-label:hover label.sk-toggleable__label {background-color: #d4ebff;}#sk-container-id-5 div.sk-serial::before {content: \"\";position: absolute;border-left: 1px solid gray;box-sizing: border-box;top: 0;bottom: 0;left: 50%;z-index: 0;}#sk-container-id-5 div.sk-serial {display: flex;flex-direction: column;align-items: center;background-color: white;padding-right: 0.2em;padding-left: 0.2em;position: relative;}#sk-container-id-5 div.sk-item {position: relative;z-index: 1;}#sk-container-id-5 div.sk-parallel {display: flex;align-items: stretch;justify-content: center;background-color: white;position: relative;}#sk-container-id-5 div.sk-item::before, #sk-container-id-5 div.sk-parallel-item::before {content: \"\";position: absolute;border-left: 1px solid gray;box-sizing: border-box;top: 0;bottom: 0;left: 50%;z-index: -1;}#sk-container-id-5 div.sk-parallel-item {display: flex;flex-direction: column;z-index: 1;position: relative;background-color: white;}#sk-container-id-5 div.sk-parallel-item:first-child::after {align-self: flex-end;width: 50%;}#sk-container-id-5 div.sk-parallel-item:last-child::after {align-self: flex-start;width: 50%;}#sk-container-id-5 div.sk-parallel-item:only-child::after {width: 0;}#sk-container-id-5 div.sk-dashed-wrapped {border: 1px dashed gray;margin: 0 0.4em 0.5em 0.4em;box-sizing: border-box;padding-bottom: 0.4em;background-color: white;}#sk-container-id-5 div.sk-label label {font-family: monospace;font-weight: bold;display: inline-block;line-height: 1.2em;}#sk-container-id-5 div.sk-label-container {text-align: center;}#sk-container-id-5 div.sk-container {/* jupyter's `normalize.less` sets `[hidden] { display: none; }` but bootstrap.min.css set `[hidden] { display: none !important; }` so we also need the `!important` here to be able to override the default hidden behavior on the sphinx rendered scikit-learn.org. See: https://github.com/scikit-learn/scikit-learn/issues/21755 */display: inline-block !important;position: relative;}#sk-container-id-5 div.sk-text-repr-fallback {display: none;}</style><div id=\"sk-container-id-5\" class=\"sk-top-container\"><div class=\"sk-text-repr-fallback\"><pre>LabelEncoder()</pre><b>In a Jupyter environment, please rerun this cell to show the HTML representation or trust the notebook. <br />On GitHub, the HTML representation is unable to render, please try loading this page with nbviewer.org.</b></div><div class=\"sk-container\" hidden><div class=\"sk-item\"><div class=\"sk-estimator sk-toggleable\"><input class=\"sk-toggleable__control sk-hidden--visually\" id=\"sk-estimator-id-5\" type=\"checkbox\" checked><label for=\"sk-estimator-id-5\" class=\"sk-toggleable__label sk-toggleable__label-arrow\">LabelEncoder</label><div class=\"sk-toggleable__content\"><pre>LabelEncoder()</pre></div></div></div></div></div>"
      ],
      "text/plain": [
       "LabelEncoder()"
      ]
     },
     "execution_count": 248,
     "metadata": {},
     "output_type": "execute_result"
    }
   ],
   "source": [
    "le = LabelEncoder()\n",
    "le.fit(list(set(train_labels)))"
   ]
  },
  {
   "cell_type": "code",
   "execution_count": 249,
   "metadata": {
    "execution": {
     "iopub.execute_input": "2025-01-21T02:25:20.347872Z",
     "iopub.status.busy": "2025-01-21T02:25:20.347575Z",
     "iopub.status.idle": "2025-01-21T02:25:20.358814Z",
     "shell.execute_reply": "2025-01-21T02:25:20.358167Z",
     "shell.execute_reply.started": "2025-01-21T02:25:20.347842Z"
    }
   },
   "outputs": [],
   "source": [
    "enc_tlabels = le.transform(train_labels)\n",
    "enc_vlabels = le.transform(val_labels)"
   ]
  },
  {
   "cell_type": "code",
   "execution_count": 250,
   "metadata": {
    "execution": {
     "iopub.execute_input": "2025-01-21T02:25:20.359743Z",
     "iopub.status.busy": "2025-01-21T02:25:20.359521Z",
     "iopub.status.idle": "2025-01-21T02:25:20.371515Z",
     "shell.execute_reply": "2025-01-21T02:25:20.370668Z",
     "shell.execute_reply.started": "2025-01-21T02:25:20.359724Z"
    }
   },
   "outputs": [],
   "source": [
    "from torchvision import transforms\n",
    "from torch.utils.data import Dataset, DataLoader"
   ]
  },
  {
   "cell_type": "code",
   "execution_count": 251,
   "metadata": {
    "execution": {
     "iopub.execute_input": "2025-01-21T02:25:20.372600Z",
     "iopub.status.busy": "2025-01-21T02:25:20.372336Z",
     "iopub.status.idle": "2025-01-21T02:25:20.385601Z",
     "shell.execute_reply": "2025-01-21T02:25:20.384747Z",
     "shell.execute_reply.started": "2025-01-21T02:25:20.372567Z"
    }
   },
   "outputs": [],
   "source": [
    "MEAN = [0.5097, 0.524, 0.5099]\n",
    "STD = [0.212, 0.212, 0.237]"
   ]
  },
  {
   "cell_type": "code",
   "execution_count": 252,
   "metadata": {
    "execution": {
     "iopub.execute_input": "2025-01-21T02:25:20.387906Z",
     "iopub.status.busy": "2025-01-21T02:25:20.387654Z",
     "iopub.status.idle": "2025-01-21T02:25:20.398540Z",
     "shell.execute_reply": "2025-01-21T02:25:20.397763Z",
     "shell.execute_reply.started": "2025-01-21T02:25:20.387885Z"
    }
   },
   "outputs": [],
   "source": [
    "transform_v1 = transforms.Compose([\n",
    "    transforms.ToTensor(),\n",
    "    transforms.RandomHorizontalFlip(p=0.25),\n",
    "    transforms.RandomRotation(degrees=25),\n",
    "    transforms.RandomPerspective(distortion_scale=0.6, p=0.25),\n",
    "    transforms.Normalize(MEAN, STD)\n",
    "])"
   ]
  },
  {
   "cell_type": "code",
   "execution_count": 206,
   "metadata": {
    "execution": {
     "iopub.execute_input": "2025-01-21T02:17:16.859531Z",
     "iopub.status.busy": "2025-01-21T02:17:16.859197Z",
     "iopub.status.idle": "2025-01-21T02:17:16.871216Z",
     "shell.execute_reply": "2025-01-21T02:17:16.870542Z",
     "shell.execute_reply.started": "2025-01-21T02:17:16.859496Z"
    }
   },
   "outputs": [],
   "source": [
    "import random"
   ]
  },
  {
   "cell_type": "code",
   "execution_count": 207,
   "metadata": {
    "execution": {
     "iopub.execute_input": "2025-01-21T02:17:16.872576Z",
     "iopub.status.busy": "2025-01-21T02:17:16.872274Z",
     "iopub.status.idle": "2025-01-21T02:17:16.887877Z",
     "shell.execute_reply": "2025-01-21T02:17:16.886946Z",
     "shell.execute_reply.started": "2025-01-21T02:17:16.872544Z"
    }
   },
   "outputs": [],
   "source": [
    "class TripletDataset(Dataset):\n",
    "    def __init__(self, images, labels, mode, transform):\n",
    "        super().__init__()\n",
    "        # режим работы\n",
    "        self.mode = mode\n",
    "        self.transform = transform\n",
    "        self.labels = labels            # np.array\n",
    "        self.images = images            #\n",
    "\n",
    "        if self.mode not in DATA_MODES:\n",
    "            print(f\"{self.mode} is not correct; correct modes: {DATA_MODES}\")\n",
    "            raise NameError\n",
    "\n",
    "        \n",
    "        self.used_ind = {key: [] for key in np.unique(self.labels)}\n",
    "        self.len_ = len(self.images)\n",
    "\n",
    "    def __len__(self):\n",
    "        return self.len_\n",
    "\n",
    "    def __getitem__(self, index):\n",
    "        img1 = self.transform(self.images[index])\n",
    "        label = self.labels[index]\n",
    "        \n",
    "        indices = np.where(self.labels == label)[0]                   # all indices class\n",
    "        if len(self.used_ind[label]) == len(indices):\n",
    "            self.used_ind[label] = []\n",
    "        indices = np.delete(indices, np.where(indices == index))      # delete ancor index\n",
    "        if len(self.used_ind[label]) == len(indices) and index not in self.used_ind[label]:\n",
    "            self.used_ind[label] = []  # !!!\n",
    "        else:\n",
    "            indices = np.delete(indices, np.where(np.isin(indices, self.used_ind[label])))    # delete used element as positive\n",
    "\n",
    "        positive_idx = random.choice(indices)\n",
    "        img2 = self.transform(self.images[positive_idx])\n",
    " \n",
    "        self.used_ind[label].append(positive_idx)\n",
    "        if self.mode == 'test':\n",
    "            return img1, img2\n",
    "        else:\n",
    "            label = self.labels[index]\n",
    "            return img1, img2, torch.tensor(label, dtype=torch.long)"
   ]
  },
  {
   "cell_type": "code",
   "execution_count": 208,
   "metadata": {
    "execution": {
     "iopub.execute_input": "2025-01-21T02:17:16.888845Z",
     "iopub.status.busy": "2025-01-21T02:17:16.888622Z",
     "iopub.status.idle": "2025-01-21T02:17:16.903569Z",
     "shell.execute_reply": "2025-01-21T02:17:16.902861Z",
     "shell.execute_reply.started": "2025-01-21T02:17:16.888826Z"
    }
   },
   "outputs": [],
   "source": [
    "import torch\n",
    "import torch.nn as nn\n",
    "import torch.nn.functional as F"
   ]
  },
  {
   "cell_type": "code",
   "execution_count": 209,
   "metadata": {
    "execution": {
     "iopub.execute_input": "2025-01-21T02:17:16.904650Z",
     "iopub.status.busy": "2025-01-21T02:17:16.904395Z",
     "iopub.status.idle": "2025-01-21T02:17:16.912794Z",
     "shell.execute_reply": "2025-01-21T02:17:16.911949Z",
     "shell.execute_reply.started": "2025-01-21T02:17:16.904631Z"
    }
   },
   "outputs": [],
   "source": [
    "def TripletLoss(loss_fn, embeddings, labels, mode='train', batch_size=None):\n",
    "    distances = torch.cdist(embeddings, embeddings, p=2)  # Pairwise Euclidean distances\n",
    "    labels = labels.unsqueeze(1)  # Shape: [N, 1]\n",
    "    mask_positive = labels == labels.T  # Positive mask\n",
    "    mask_negative = ~mask_positive  # Negative mask\n",
    "\n",
    "    # Hard positives: Max distance within the positive mask\n",
    "    distances_positive = distances.clone()\n",
    "    distances_positive[~mask_positive] = -float('inf')  # Ignore non-positives\n",
    "    hard_positive_indices = distances_positive.argmax(dim=1)\n",
    "    # Hard negatives: Min distance within the negative mask\n",
    "    distances_negative = distances.clone()\n",
    "    distances_negative[~mask_negative] = float('inf')  # Ignore non-negatives\n",
    "    hard_negative_indices = distances_negative.argmin(dim=1)\n",
    "\n",
    "    anchor = embeddings\n",
    "    positive = embeddings[hard_positive_indices]  # Hard positive embeddings\n",
    "    negative = embeddings[hard_negative_indices]\n",
    "    \n",
    "    if mode == 'val':\n",
    "        anchor = anchor[:batch_size]\n",
    "        positive = positive[:batch_size]\n",
    "        negative = negative[:batch_size]\n",
    "    \n",
    "    return loss_fn(anchor, positive, negative)"
   ]
  },
  {
   "cell_type": "code",
   "execution_count": 210,
   "metadata": {
    "execution": {
     "iopub.execute_input": "2025-01-21T02:17:16.913905Z",
     "iopub.status.busy": "2025-01-21T02:17:16.913664Z",
     "iopub.status.idle": "2025-01-21T02:17:16.929331Z",
     "shell.execute_reply": "2025-01-21T02:17:16.928499Z",
     "shell.execute_reply.started": "2025-01-21T02:17:16.913886Z"
    }
   },
   "outputs": [],
   "source": [
    "from sklearn.metrics import precision_score, f1_score, recall_score, accuracy_score, average_precision_score\n",
    "from sklearn.metrics.pairwise import pairwise_distances\n",
    "from sklearn.metrics.pairwise import cosine_similarity"
   ]
  },
  {
   "cell_type": "code",
   "execution_count": 211,
   "metadata": {
    "execution": {
     "iopub.execute_input": "2025-01-21T02:17:16.930360Z",
     "iopub.status.busy": "2025-01-21T02:17:16.930136Z",
     "iopub.status.idle": "2025-01-21T02:17:16.943558Z",
     "shell.execute_reply": "2025-01-21T02:17:16.942794Z",
     "shell.execute_reply.started": "2025-01-21T02:17:16.930323Z"
    }
   },
   "outputs": [],
   "source": [
    "class Metrics():\n",
    "    def __init__(self):\n",
    "        self.all_actual = list()\n",
    "        self.all_embeddings = []\n",
    "\n",
    "    def batch_step(self, actualv, embeddings):\n",
    "        self.all_actual.append(actualv.numpy(force=True))\n",
    "        self.all_embeddings.append(embeddings.numpy(force=True))\n",
    "    \n",
    "    def get_metrics(self, train_emb, train_lbl, top_k=1):\n",
    "        self.all_actual = np.concatenate(self.all_actual) \n",
    "        self.all_embeddings = np.concatenate(self.all_embeddings)           # collect all val data\n",
    "        train_emb = train_emb.numpy(force=True)\n",
    "        train_lbl = train_lbl.numpy(force=True)                             # train all data\n",
    "        distance_matrix = pairwise_distances(self.all_embeddings, \n",
    "                                             np.concatenate([self.all_embeddings, train_emb]), \n",
    "                                             metric=\"euclidean\", force_all_finite=False)  # distance matrix val embeddings to database emb. Shape N_val , N_all\n",
    "        np.fill_diagonal(distance_matrix, np.inf)                 # to prevent self-selection distance between same vector=0\n",
    "        ranked_indices = np.argsort(distance_matrix, axis=1)      # Sort by distance\n",
    "        all_labels = np.concatenate([self.all_actual, train_lbl]) # full database\n",
    "        ranked_labels = all_labels[ranked_indices]\n",
    "        \n",
    "        #similarity_matrix = cosine_similarity(self.all_embeddings) # For cosine similarity metric None\n",
    "        y_pred = list()\n",
    "        for lbl in ranked_labels:\n",
    "            if top_k == 3:\n",
    "                if lbl[1] == lbl[2]:\n",
    "                    y_pred.append(lbl[1])\n",
    "                else:\n",
    "                    y_pred.append(lbl[0])\n",
    "            else:\n",
    "                y_pred.append(lbl[0])      \n",
    "                                                    # Knn for k<=3 top sample\n",
    "        ap_scores = []\n",
    "        for i in range(len(self.all_actual)):\n",
    "            y_true = (ranked_labels[i][:-1] == self.all_actual[i]).astype(int)  # Binary relevance (ground_truth)\n",
    "            y_score = -distance_matrix[i][ranked_indices[i]][:-1]\n",
    "            ap_scores.append(average_precision_score(y_true, y_score))\n",
    "\n",
    "        y_pred = np.array(y_pred)\n",
    "        mAP = np.mean(ap_scores)\n",
    "        recall = recall_score(self.all_actual, y_pred, average='weighted', zero_division=0)\n",
    "        precision = precision_score(self.all_actual, y_pred, average='weighted', zero_division=0)\n",
    "        f1 = f1_score(self.all_actual, y_pred, average='weighted', zero_division=0)\n",
    "        accuracy = accuracy_score(self.all_actual, y_pred)\n",
    "        \n",
    "        return recall, precision, f1, accuracy, mAP"
   ]
  },
  {
   "cell_type": "code",
   "execution_count": 212,
   "metadata": {
    "execution": {
     "iopub.execute_input": "2025-01-21T02:17:16.944662Z",
     "iopub.status.busy": "2025-01-21T02:17:16.944335Z",
     "iopub.status.idle": "2025-01-21T02:17:16.961097Z",
     "shell.execute_reply": "2025-01-21T02:17:16.960190Z",
     "shell.execute_reply.started": "2025-01-21T02:17:16.944628Z"
    }
   },
   "outputs": [],
   "source": [
    "class MetricsWriter():\n",
    "    def __init__(self, model, model_name='model_name', save_treshold=10):\n",
    "        self.loss_val = list()\n",
    "        self.loss_train = list()\n",
    "        self.acc_val = list()\n",
    "        self.mAP = list()\n",
    "        \n",
    "        self.epoch = 0\n",
    "        self.start_epoch = 0\n",
    "\n",
    "        self.save_treshold = save_treshold\n",
    "        self.model_name = model_name\n",
    "        self.model_type, self.module = model.get_info()\n",
    "        self.timestamp = datetime.now().strftime('%Y%m%d_%H%M%S')\n",
    "        self.writer = SummaryWriter('/kaggle/working/runs/' + self.model_name + '{}_{}_{}'.format(self.model_type, self.module, self.timestamp))\n",
    "\n",
    "    def get_list_metrics(self):\n",
    "        return self.loss_val, self.loss_train, self.acc_val\n",
    "\n",
    "    def print_epoch(self, epoch):\n",
    "        self.start_epoch = time.time()\n",
    "        self.epoch = epoch\n",
    "        print('EPOCH {}:'.format(epoch))\n",
    "\n",
    "    def print_time(self):\n",
    "        end_epoch = time.time()\n",
    "        elapsed = end_epoch - self.start_epoch\n",
    "        print(\"Time per epoch {}s\".format(elapsed))\n",
    "\n",
    "    def get_best_epoch_by_map(self):\n",
    "        return self.mAP.index(max(self.mAP))\n",
    "\n",
    "    def writer_step(self, loss, vloss, recall, precision, f1, acc, mAP):\n",
    "        print('LOSS train {} valid {}'.format(loss, vloss))\n",
    "        print('Accuracy valid {}'.format(acc))\n",
    "        print('Recall valid {}'.format(recall))\n",
    "        print('Precision valid {}'.format(precision))\n",
    "        print('Val F1->{}'.format(f1))\n",
    "        print('Val mAP->{}'.format(mAP))\n",
    "        \n",
    "        self.loss_train.append(loss)\n",
    "        self.loss_val.append(vloss)\n",
    "        self.acc_val.append(acc)\n",
    "        self.mAP.append(mAP)\n",
    "\n",
    "        self.writer.add_scalars('Training vs. Validation Loss',\n",
    "                    { 'Training': loss, 'Validation': vloss },\n",
    "                    self.epoch)\n",
    "        self.writer.add_scalars('Validation Metrics',\n",
    "                    { 'Validation Recall': recall, 'Validation Precision': precision, 'Validation F1': f1\n",
    "                    }, self.epoch)\n",
    "        self.writer.add_scalars('Validation Accuracy',\n",
    "                    { 'Validation Accuracy': acc\n",
    "                    }, self.epoch)\n",
    "        self.writer.add_scalars('Validation mAP',\n",
    "                    { 'Validation mAP': mAP\n",
    "                    }, self.epoch)\n",
    "\n",
    "    def save_model(self, model):\n",
    "        if (self.epoch) % self.save_treshold == 0:\n",
    "            model_path = '/kaggle/working/model_svs/' + self.model_name + '_{}_{}_{}_{}'.format(self.model_type, \n",
    "                                                                                                self.module, self.timestamp, \n",
    "                                                                                                self.epoch)\n",
    "            torch.save(model.state_dict(), model_path)"
   ]
  },
  {
   "cell_type": "code",
   "execution_count": 213,
   "metadata": {
    "execution": {
     "iopub.execute_input": "2025-01-21T02:17:16.962322Z",
     "iopub.status.busy": "2025-01-21T02:17:16.962030Z",
     "iopub.status.idle": "2025-01-21T02:17:16.976432Z",
     "shell.execute_reply": "2025-01-21T02:17:16.975535Z",
     "shell.execute_reply.started": "2025-01-21T02:17:16.962300Z"
    }
   },
   "outputs": [],
   "source": [
    "import torch\n",
    "import torch.nn as nn\n",
    "import torch.optim as optim\n",
    "import torchvision.models as models\n",
    "import torch.nn.functional as F\n",
    "from torch.nn.parameter import Parameter\n",
    "from torch.nn import init\n",
    "import math"
   ]
  },
  {
   "cell_type": "code",
   "execution_count": 214,
   "metadata": {
    "execution": {
     "iopub.execute_input": "2025-01-21T02:17:16.977508Z",
     "iopub.status.busy": "2025-01-21T02:17:16.977198Z",
     "iopub.status.idle": "2025-01-21T02:17:16.990242Z",
     "shell.execute_reply": "2025-01-21T02:17:16.989381Z",
     "shell.execute_reply.started": "2025-01-21T02:17:16.977482Z"
    }
   },
   "outputs": [],
   "source": [
    "class SpatialGroupEnhance(nn.Module):\n",
    "    def __init__(self, groups = 64):\n",
    "        super(SpatialGroupEnhance, self).__init__()\n",
    "        self.groups = groups\n",
    "        self.avg_pool = nn.AdaptiveAvgPool2d(1)\n",
    "        self.weight = Parameter(torch.zeros(1, groups, 1, 1))\n",
    "        self.bias = Parameter(torch.ones(1, groups, 1, 1))\n",
    "        self.sig = nn.Sigmoid()\n",
    "\n",
    "    def forward(self, x): # (b, c, h, w)\n",
    "        b, c, h, w = x.size()\n",
    "        x = x.view(b * self.groups, -1, h, w) \n",
    "        xn = x * self.avg_pool(x)\n",
    "        xn = xn.sum(dim=1, keepdim=True)\n",
    "        t = xn.view(b * self.groups, -1)\n",
    "        t = t - t.mean(dim=1, keepdim=True)\n",
    "        std = t.std(dim=1, keepdim=True) + 1e-5\n",
    "        t = t / std\n",
    "        t = t.view(b, self.groups, h, w)\n",
    "        t = t * self.weight + self.bias\n",
    "        t = t.view(b * self.groups, 1, h, w)\n",
    "        x = x * self.sig(t)\n",
    "        x = x.view(b, c, h, w)\n",
    "        return x"
   ]
  },
  {
   "cell_type": "code",
   "execution_count": 215,
   "metadata": {
    "execution": {
     "iopub.execute_input": "2025-01-21T02:17:18.518042Z",
     "iopub.status.busy": "2025-01-21T02:17:18.517749Z",
     "iopub.status.idle": "2025-01-21T02:17:18.527059Z",
     "shell.execute_reply": "2025-01-21T02:17:18.526100Z",
     "shell.execute_reply.started": "2025-01-21T02:17:18.518021Z"
    }
   },
   "outputs": [],
   "source": [
    "class ResNet18WithSGE(nn.Module):\n",
    "    def __init__(self, num_classes, groups, pretrained=True):\n",
    "        super(ResNet18WithSGE, self).__init__()\n",
    "        \n",
    "        self.resnet = models.resnet18(pretrained=pretrained)\n",
    "        self.layer0 = nn.Sequential(\n",
    "            self.resnet.conv1,\n",
    "            self.resnet.bn1,\n",
    "            self.resnet.relu,\n",
    "            self.resnet.maxpool\n",
    "        )\n",
    "        self.layer1 = self.resnet.layer1\n",
    "        self.layer2 = self.resnet.layer2\n",
    "        self.layer3 = self.resnet.layer3\n",
    "        self.layer4 = self.resnet.layer4\n",
    "        self.avgpool = self.resnet.avgpool\n",
    "        self.in_features = self.resnet.fc.in_features  # Get the number of input features for the original FC layer\n",
    "        self.fc = nn.Linear(self.in_features, num_classes)  # New FC layer\n",
    "        \n",
    "        self.module1 = SpatialGroupEnhance(groups[0])\n",
    "        self.module2 = SpatialGroupEnhance(groups[1])\n",
    "        self.module3 = SpatialGroupEnhance(groups[2])\n",
    "        self.module4 = SpatialGroupEnhance(groups[3])\n",
    "        nn.init.xavier_uniform_(self.fc.weight)\n",
    "\n",
    "\n",
    "    def get_info(self):\n",
    "        return 'ResNet18', 'SGE'\n",
    "    \n",
    "\n",
    "    def forward(self, x):\n",
    "        x = self.layer0(x)\n",
    "        x = self.layer1(x)\n",
    "        x = self.module1(x)\n",
    "        x = self.layer2(x)\n",
    "        x = self.module2(x)\n",
    "        x = self.layer3(x)\n",
    "        x = self.module3(x)\n",
    "        x = self.layer4(x)\n",
    "        x = self.module4(x)\n",
    "        x = self.avgpool(x)\n",
    "        x = torch.flatten(x, 1)\n",
    "        x = self.fc(x)\n",
    "        return x"
   ]
  },
  {
   "cell_type": "code",
   "execution_count": 216,
   "metadata": {
    "execution": {
     "iopub.execute_input": "2025-01-21T02:17:24.087376Z",
     "iopub.status.busy": "2025-01-21T02:17:24.087027Z",
     "iopub.status.idle": "2025-01-21T02:17:24.092486Z",
     "shell.execute_reply": "2025-01-21T02:17:24.091560Z",
     "shell.execute_reply.started": "2025-01-21T02:17:24.087347Z"
    }
   },
   "outputs": [],
   "source": [
    "class ResNet18WithSGEFeatureExtractor(ResNet18WithSGE):\n",
    "    def __init__(self, num_classes, groups, pretrained=True):\n",
    "        super(ResNet18WithSGEFeatureExtractor, self).__init__(num_classes, groups, pretrained)\n",
    "\n",
    "    def forward(self, x):\n",
    "        x = self.layer0(x)\n",
    "        x = self.layer1(x)\n",
    "        x = self.module1(x)\n",
    "        x = self.layer2(x)\n",
    "        x = self.module2(x)\n",
    "        x = self.layer3(x)\n",
    "        x = self.module3(x)\n",
    "        x = self.layer4(x)\n",
    "        x = self.module4(x)\n",
    "        x = self.avgpool(x)\n",
    "        x = torch.flatten(x, 1)  # Flatten before FC layer (Feature Vector)\n",
    "        return x "
   ]
  },
  {
   "cell_type": "code",
   "execution_count": 217,
   "metadata": {
    "execution": {
     "iopub.execute_input": "2025-01-21T02:17:26.226202Z",
     "iopub.status.busy": "2025-01-21T02:17:26.225916Z",
     "iopub.status.idle": "2025-01-21T02:17:26.230228Z",
     "shell.execute_reply": "2025-01-21T02:17:26.229205Z",
     "shell.execute_reply.started": "2025-01-21T02:17:26.226181Z"
    }
   },
   "outputs": [],
   "source": [
    "import time\n",
    "from datetime import datetime\n",
    "from torch.utils.tensorboard import SummaryWriter\n",
    "from torchsummary import summary"
   ]
  },
  {
   "cell_type": "code",
   "execution_count": 218,
   "metadata": {
    "execution": {
     "iopub.execute_input": "2025-01-21T02:17:26.709434Z",
     "iopub.status.busy": "2025-01-21T02:17:26.709124Z",
     "iopub.status.idle": "2025-01-21T02:17:26.713522Z",
     "shell.execute_reply": "2025-01-21T02:17:26.712431Z",
     "shell.execute_reply.started": "2025-01-21T02:17:26.709410Z"
    }
   },
   "outputs": [],
   "source": [
    "BATCH_SIZE = 64"
   ]
  },
  {
   "cell_type": "code",
   "execution_count": 254,
   "metadata": {
    "execution": {
     "iopub.execute_input": "2025-01-21T02:25:33.016761Z",
     "iopub.status.busy": "2025-01-21T02:25:33.016472Z",
     "iopub.status.idle": "2025-01-21T02:25:33.022234Z",
     "shell.execute_reply": "2025-01-21T02:25:33.021219Z",
     "shell.execute_reply.started": "2025-01-21T02:25:33.016740Z"
    }
   },
   "outputs": [],
   "source": [
    "train_dataset = TripletDataset(train_images, enc_tlabels, 'train', transform_v1)\n",
    "train_dataloader = DataLoader(train_dataset, batch_size=BATCH_SIZE, num_workers=4, shuffle=True)\n",
    "val_dataset = TripletDataset(val_images, enc_vlabels, 'val', transform_v1)\n",
    "val_dataloader = DataLoader(val_dataset, batch_size=BATCH_SIZE, num_workers=4)"
   ]
  },
  {
   "cell_type": "code",
   "execution_count": 265,
   "metadata": {
    "execution": {
     "iopub.execute_input": "2025-01-21T02:42:59.947396Z",
     "iopub.status.busy": "2025-01-21T02:42:59.947078Z",
     "iopub.status.idle": "2025-01-21T02:42:59.954663Z",
     "shell.execute_reply": "2025-01-21T02:42:59.953816Z",
     "shell.execute_reply.started": "2025-01-21T02:42:59.947369Z"
    }
   },
   "outputs": [],
   "source": [
    "def train_step(model, loss_fn, opt, loader, batch_size):\n",
    "    loss_per_batches = 0\n",
    "    elapsed = 0\n",
    "    start_epoch2 = time.time()\n",
    "    all_embeddings = list()\n",
    "    all_labels = list()\n",
    "    for i, data in tqdm(enumerate(loader), total=len(train_labels)//(batch_size)):\n",
    "\n",
    "        start_epoch = time.time()\n",
    "        img1, img2, labels = data\n",
    "        img1, img2, labels = img1.to(device), img2.to(device), labels.to(device)\n",
    "        features = torch.cat((img1, img2), dim=0)\n",
    "        labels = torch.cat((labels, labels), dim=0)\n",
    "        # concat img & label\n",
    "        opt.zero_grad()\n",
    "\n",
    "        y_pred = model(features)\n",
    "        loss = TripletLoss(loss_func, y_pred, labels, batch_size=batch_size)\n",
    "        loss.backward()\n",
    "\n",
    "        opt.step()\n",
    "\n",
    "        loss_per_batches += loss\n",
    "        end_epoch = time.time()\n",
    "        elapsed += (end_epoch - start_epoch)\n",
    "        all_embeddings.append(y_pred[:batch_size])\n",
    "        all_labels.append(labels[:batch_size])\n",
    "\n",
    "    print(\"train = \" + str(elapsed))\n",
    "    print(\"train + load = \" + str(time.time() - start_epoch2))\n",
    "    return loss_per_batches/(i+1), torch.cat(all_embeddings, dim=0), torch.cat(all_labels, dim=0)"
   ]
  },
  {
   "cell_type": "code",
   "execution_count": 65,
   "metadata": {
    "execution": {
     "iopub.execute_input": "2025-01-21T01:36:02.642052Z",
     "iopub.status.busy": "2025-01-21T01:36:02.641761Z",
     "iopub.status.idle": "2025-01-21T01:36:02.645736Z",
     "shell.execute_reply": "2025-01-21T01:36:02.644743Z",
     "shell.execute_reply.started": "2025-01-21T01:36:02.642031Z"
    }
   },
   "outputs": [],
   "source": [
    "directory_path = '/kaggle/working/model_svs/'"
   ]
  },
  {
   "cell_type": "code",
   "execution_count": 66,
   "metadata": {
    "execution": {
     "iopub.execute_input": "2025-01-21T01:36:11.050497Z",
     "iopub.status.busy": "2025-01-21T01:36:11.050164Z",
     "iopub.status.idle": "2025-01-21T01:36:11.055182Z",
     "shell.execute_reply": "2025-01-21T01:36:11.054538Z",
     "shell.execute_reply.started": "2025-01-21T01:36:11.050437Z"
    }
   },
   "outputs": [
    {
     "name": "stdout",
     "output_type": "stream",
     "text": [
      "Directory created at: /kaggle/working/model_svs/\n"
     ]
    }
   ],
   "source": [
    "if not os.path.exists(directory_path):\n",
    "    # Create the directory\n",
    "    os.makedirs(directory_path)\n",
    "    print(f\"Directory created at: {directory_path}\")\n",
    "else:\n",
    "    print(f\"Directory already exists at: {directory_path}\")"
   ]
  },
  {
   "cell_type": "code",
   "execution_count": 266,
   "metadata": {
    "execution": {
     "iopub.execute_input": "2025-01-21T02:43:02.670086Z",
     "iopub.status.busy": "2025-01-21T02:43:02.669793Z",
     "iopub.status.idle": "2025-01-21T02:43:02.677016Z",
     "shell.execute_reply": "2025-01-21T02:43:02.676105Z",
     "shell.execute_reply.started": "2025-01-21T02:43:02.670066Z"
    }
   },
   "outputs": [],
   "source": [
    "def train(model, mw, loss_func, opt, train_loader, val_loader, batch_size, epochs=50):\n",
    "    scheduler = torch.optim.lr_scheduler.CosineAnnealingLR(opt, epochs)\n",
    "\n",
    "    for epoch in range(epochs):\n",
    "        mw.print_epoch(epoch + 1)\n",
    "        metrics_valid = Metrics()\n",
    "\n",
    "        model.train()\n",
    "        avg_loss, train_emb, train_labels = train_step(model, loss_func, opt, \n",
    "                                                       train_loader, batch_size)\n",
    "        model.eval()\n",
    "\n",
    "        vloss = 0\n",
    "        counter = 0\n",
    "        vclassloss = 0\n",
    "        with torch.inference_mode():\n",
    "            for i, vdata in enumerate(val_loader):\n",
    "                vfeatures1, vfeatures2, vlabels = vdata\n",
    "                vfeatures1, vfeatures2, vlabels = vfeatures1.to(device), vfeatures2.to(device), vlabels.to(device)\n",
    "                vfeatures = torch.cat((vfeatures1, vfeatures2), dim=0)\n",
    "                vlabels = torch.cat((vlabels, vlabels), dim=0)\n",
    "                \n",
    "                outputs = model(vfeatures)\n",
    "                metrics_valid.batch_step(vlabels[:batch_size], outputs[:batch_size])\n",
    "\n",
    "                bloss = TripletLoss(loss_func, outputs, vlabels, mode='val', batch_size=batch_size)\n",
    "                vloss += bloss\n",
    "                counter = i\n",
    "\n",
    "        avg_vloss = vloss / (counter + 1)\n",
    "        scheduler.step()\n",
    "\n",
    "                    # concat dataset\n",
    "        valrecall, valprecision, valf1, valacc, mAP = metrics_valid.get_metrics(train_emb, train_labels)\n",
    "        mw.writer_step(avg_loss, avg_vloss, valrecall, valprecision, valf1, valacc, mAP)\n",
    "\n",
    "        mw.save_model(model)\n",
    "\n",
    "        mw.print_time()"
   ]
  },
  {
   "cell_type": "code",
   "execution_count": 291,
   "metadata": {
    "execution": {
     "iopub.execute_input": "2025-01-21T02:54:20.132857Z",
     "iopub.status.busy": "2025-01-21T02:54:20.132542Z",
     "iopub.status.idle": "2025-01-21T02:54:20.336410Z",
     "shell.execute_reply": "2025-01-21T02:54:20.335533Z",
     "shell.execute_reply.started": "2025-01-21T02:54:20.132836Z"
    }
   },
   "outputs": [],
   "source": [
    "model = ResNet18WithSGEFeatureExtractor(num_classes=11, \n",
    "                                        groups=[2, 4, 4, 4], pretrained=True)\n",
    "device = torch.device(\"cuda\" if torch.cuda.is_available() else \"cpu\")\n",
    "model = model.to(device)"
   ]
  },
  {
   "cell_type": "code",
   "execution_count": 292,
   "metadata": {
    "execution": {
     "iopub.execute_input": "2025-01-21T02:54:20.619259Z",
     "iopub.status.busy": "2025-01-21T02:54:20.618970Z",
     "iopub.status.idle": "2025-01-21T02:54:20.683709Z",
     "shell.execute_reply": "2025-01-21T02:54:20.682856Z",
     "shell.execute_reply.started": "2025-01-21T02:54:20.619238Z"
    }
   },
   "outputs": [
    {
     "name": "stderr",
     "output_type": "stream",
     "text": [
      "<ipython-input-292-f3187fd25720>:2: FutureWarning: You are using `torch.load` with `weights_only=False` (the current default value), which uses the default pickle module implicitly. It is possible to construct malicious pickle data which will execute arbitrary code during unpickling (See https://github.com/pytorch/pytorch/blob/main/SECURITY.md#untrusted-models for more details). In a future release, the default value for `weights_only` will be flipped to `True`. This limits the functions that could be executed during unpickling. Arbitrary objects will no longer be allowed to be loaded via this mode unless they are explicitly allowlisted by the user via `torch.serialization.add_safe_globals`. We recommend you start setting `weights_only=True` for any use case where you don't have full control of the loaded file. Please open an issue on GitHub for any issues related to this experimental feature.\n",
      "  checkpoint = torch.load(checkpoint_path, map_location=device)\n"
     ]
    },
    {
     "data": {
      "text/plain": [
       "<All keys matched successfully>"
      ]
     },
     "execution_count": 292,
     "metadata": {},
     "output_type": "execute_result"
    }
   ],
   "source": [
    "checkpoint_path = '/kaggle/input/model-weights/second_model_ResNet18_SGE_20250112_190440_20'\n",
    "checkpoint = torch.load(checkpoint_path, map_location=device)\n",
    "model.load_state_dict(checkpoint)"
   ]
  },
  {
   "cell_type": "code",
   "execution_count": 293,
   "metadata": {
    "execution": {
     "iopub.execute_input": "2025-01-21T02:54:22.436840Z",
     "iopub.status.busy": "2025-01-21T02:54:22.436509Z",
     "iopub.status.idle": "2025-01-21T02:54:22.442030Z",
     "shell.execute_reply": "2025-01-21T02:54:22.441317Z",
     "shell.execute_reply.started": "2025-01-21T02:54:22.436813Z"
    }
   },
   "outputs": [],
   "source": [
    "mw = MetricsWriter(model, model_name='capt20_1-5_1_try_model', save_treshold=10)"
   ]
  },
  {
   "cell_type": "code",
   "execution_count": 294,
   "metadata": {
    "execution": {
     "iopub.execute_input": "2025-01-21T02:54:22.816199Z",
     "iopub.status.busy": "2025-01-21T02:54:22.815964Z",
     "iopub.status.idle": "2025-01-21T02:54:22.821101Z",
     "shell.execute_reply": "2025-01-21T02:54:22.820284Z",
     "shell.execute_reply.started": "2025-01-21T02:54:22.816179Z"
    }
   },
   "outputs": [],
   "source": [
    "loss_func = nn.TripletMarginWithDistanceLoss(margin=0.5)\n",
    "optimizer = optim.AdamW(model.parameters(), lr=1e-4, weight_decay=1e-4)"
   ]
  },
  {
   "cell_type": "code",
   "execution_count": 295,
   "metadata": {
    "collapsed": true,
    "execution": {
     "iopub.execute_input": "2025-01-21T02:54:24.021474Z",
     "iopub.status.busy": "2025-01-21T02:54:24.021157Z",
     "iopub.status.idle": "2025-01-21T03:09:26.568397Z",
     "shell.execute_reply": "2025-01-21T03:09:26.567182Z",
     "shell.execute_reply.started": "2025-01-21T02:54:24.021429Z"
    },
    "jupyter": {
     "outputs_hidden": true
    }
   },
   "outputs": [
    {
     "name": "stdout",
     "output_type": "stream",
     "text": [
      "EPOCH 1:\n"
     ]
    },
    {
     "name": "stderr",
     "output_type": "stream",
     "text": [
      "10it [00:07,  1.36it/s]                      "
     ]
    },
    {
     "name": "stdout",
     "output_type": "stream",
     "text": [
      "train = 3.369797945022583\n",
      "train + load = 7.628100156784058\n"
     ]
    },
    {
     "name": "stderr",
     "output_type": "stream",
     "text": [
      "\n"
     ]
    },
    {
     "name": "stdout",
     "output_type": "stream",
     "text": [
      "LOSS train 7.370855808258057 valid 4.51847505569458\n",
      "Accuracy valid 0.3888888888888889\n",
      "Recall valid 0.3888888888888889\n",
      "Precision valid 0.38770893458393463\n",
      "Val F1->0.38507054255393913\n",
      "Val mAP->0.22715243414137604\n",
      "Time per epoch 9.510800838470459s\n",
      "EPOCH 2:\n"
     ]
    },
    {
     "name": "stderr",
     "output_type": "stream",
     "text": [
      "10it [00:06,  1.45it/s]                      "
     ]
    },
    {
     "name": "stdout",
     "output_type": "stream",
     "text": [
      "train = 3.3665578365325928\n",
      "train + load = 7.090708255767822\n"
     ]
    },
    {
     "name": "stderr",
     "output_type": "stream",
     "text": [
      "\n"
     ]
    },
    {
     "name": "stdout",
     "output_type": "stream",
     "text": [
      "LOSS train 5.581233501434326 valid 3.310330867767334\n",
      "Accuracy valid 0.5833333333333334\n",
      "Recall valid 0.5833333333333334\n",
      "Precision valid 0.5882936507936508\n",
      "Val F1->0.5825939778020189\n",
      "Val mAP->0.2518679217019101\n",
      "Time per epoch 9.043521165847778s\n",
      "EPOCH 3:\n"
     ]
    },
    {
     "name": "stderr",
     "output_type": "stream",
     "text": [
      "10it [00:06,  1.45it/s]                      "
     ]
    },
    {
     "name": "stdout",
     "output_type": "stream",
     "text": [
      "train = 3.3694450855255127\n",
      "train + load = 7.096673250198364\n"
     ]
    },
    {
     "name": "stderr",
     "output_type": "stream",
     "text": [
      "\n"
     ]
    },
    {
     "name": "stdout",
     "output_type": "stream",
     "text": [
      "LOSS train 4.517985820770264 valid 3.0397121906280518\n",
      "Accuracy valid 0.5694444444444444\n",
      "Recall valid 0.5694444444444444\n",
      "Precision valid 0.6018849206349207\n",
      "Val F1->0.5716875594918192\n",
      "Val mAP->0.2632314860701234\n",
      "Time per epoch 9.033573150634766s\n",
      "EPOCH 4:\n"
     ]
    },
    {
     "name": "stderr",
     "output_type": "stream",
     "text": [
      "10it [00:06,  1.47it/s]                      "
     ]
    },
    {
     "name": "stdout",
     "output_type": "stream",
     "text": [
      "train = 3.233250617980957\n",
      "train + load = 7.00412130355835\n"
     ]
    },
    {
     "name": "stderr",
     "output_type": "stream",
     "text": [
      "\n"
     ]
    },
    {
     "name": "stdout",
     "output_type": "stream",
     "text": [
      "LOSS train 3.8464012145996094 valid 2.813824415206909\n",
      "Accuracy valid 0.5833333333333334\n",
      "Recall valid 0.5833333333333334\n",
      "Precision valid 0.6036095295606166\n",
      "Val F1->0.588967648758485\n",
      "Val mAP->0.28111818150465706\n",
      "Time per epoch 8.901341676712036s\n",
      "EPOCH 5:\n"
     ]
    },
    {
     "name": "stderr",
     "output_type": "stream",
     "text": [
      "10it [00:06,  1.48it/s]                      "
     ]
    },
    {
     "name": "stdout",
     "output_type": "stream",
     "text": [
      "train = 3.3670156002044678\n",
      "train + load = 6.983757972717285\n"
     ]
    },
    {
     "name": "stderr",
     "output_type": "stream",
     "text": [
      "\n"
     ]
    },
    {
     "name": "stdout",
     "output_type": "stream",
     "text": [
      "LOSS train 3.3856608867645264 valid 2.9758944511413574\n",
      "Accuracy valid 0.5833333333333334\n",
      "Recall valid 0.5833333333333334\n",
      "Precision valid 0.5789402173913043\n",
      "Val F1->0.5703182849882994\n",
      "Val mAP->0.28010368083641\n",
      "Time per epoch 8.895796298980713s\n",
      "EPOCH 6:\n"
     ]
    },
    {
     "name": "stderr",
     "output_type": "stream",
     "text": [
      "10it [00:06,  1.49it/s]                      "
     ]
    },
    {
     "name": "stdout",
     "output_type": "stream",
     "text": [
      "train = 3.320039987564087\n",
      "train + load = 6.9268505573272705\n"
     ]
    },
    {
     "name": "stderr",
     "output_type": "stream",
     "text": [
      "\n"
     ]
    },
    {
     "name": "stdout",
     "output_type": "stream",
     "text": [
      "LOSS train 2.9680280685424805 valid 2.808828115463257\n",
      "Accuracy valid 0.6111111111111112\n",
      "Recall valid 0.6111111111111112\n",
      "Precision valid 0.6255621693121693\n",
      "Val F1->0.6060914702581369\n",
      "Val mAP->0.3070124512973438\n",
      "Time per epoch 8.838256597518921s\n",
      "EPOCH 7:\n"
     ]
    },
    {
     "name": "stderr",
     "output_type": "stream",
     "text": [
      "10it [00:06,  1.45it/s]                      "
     ]
    },
    {
     "name": "stdout",
     "output_type": "stream",
     "text": [
      "train = 3.379101276397705\n",
      "train + load = 7.081541061401367\n"
     ]
    },
    {
     "name": "stderr",
     "output_type": "stream",
     "text": [
      "\n"
     ]
    },
    {
     "name": "stdout",
     "output_type": "stream",
     "text": [
      "LOSS train 2.639512538909912 valid 2.3629019260406494\n",
      "Accuracy valid 0.5416666666666666\n",
      "Recall valid 0.5416666666666666\n",
      "Precision valid 0.5333242556281772\n",
      "Val F1->0.5285071546100959\n",
      "Val mAP->0.3230151586977801\n",
      "Time per epoch 8.973031520843506s\n",
      "EPOCH 8:\n"
     ]
    },
    {
     "name": "stderr",
     "output_type": "stream",
     "text": [
      "10it [00:07,  1.35it/s]                      "
     ]
    },
    {
     "name": "stdout",
     "output_type": "stream",
     "text": [
      "train = 3.336731195449829\n",
      "train + load = 7.644528388977051\n"
     ]
    },
    {
     "name": "stderr",
     "output_type": "stream",
     "text": [
      "\n"
     ]
    },
    {
     "name": "stdout",
     "output_type": "stream",
     "text": [
      "LOSS train 2.379142999649048 valid 2.468662977218628\n",
      "Accuracy valid 0.625\n",
      "Recall valid 0.625\n",
      "Precision valid 0.6482705026455026\n",
      "Val F1->0.6229559081804471\n",
      "Val mAP->0.3244413895330479\n",
      "Time per epoch 9.52146291732788s\n",
      "EPOCH 9:\n"
     ]
    },
    {
     "name": "stderr",
     "output_type": "stream",
     "text": [
      "10it [00:06,  1.46it/s]                      "
     ]
    },
    {
     "name": "stdout",
     "output_type": "stream",
     "text": [
      "train = 3.3903915882110596\n",
      "train + load = 7.076080560684204\n"
     ]
    },
    {
     "name": "stderr",
     "output_type": "stream",
     "text": [
      "\n"
     ]
    },
    {
     "name": "stdout",
     "output_type": "stream",
     "text": [
      "LOSS train 2.096719741821289 valid 1.934442400932312\n",
      "Accuracy valid 0.5833333333333334\n",
      "Recall valid 0.5833333333333334\n",
      "Precision valid 0.5938048245614035\n",
      "Val F1->0.5851361412838739\n",
      "Val mAP->0.34815816506917235\n",
      "Time per epoch 9.004814624786377s\n",
      "EPOCH 10:\n"
     ]
    },
    {
     "name": "stderr",
     "output_type": "stream",
     "text": [
      "10it [00:06,  1.45it/s]                      "
     ]
    },
    {
     "name": "stdout",
     "output_type": "stream",
     "text": [
      "train = 3.4012885093688965\n",
      "train + load = 7.093615293502808\n"
     ]
    },
    {
     "name": "stderr",
     "output_type": "stream",
     "text": [
      "\n"
     ]
    },
    {
     "name": "stdout",
     "output_type": "stream",
     "text": [
      "LOSS train 1.9366401433944702 valid 1.811983346939087\n",
      "Accuracy valid 0.5138888888888888\n",
      "Recall valid 0.5138888888888888\n",
      "Precision valid 0.523330766384172\n",
      "Val F1->0.5038641097464627\n",
      "Val mAP->0.37307823060055134\n",
      "Time per epoch 9.171714544296265s\n",
      "EPOCH 11:\n"
     ]
    },
    {
     "name": "stderr",
     "output_type": "stream",
     "text": [
      "10it [00:06,  1.47it/s]                      \n"
     ]
    },
    {
     "name": "stdout",
     "output_type": "stream",
     "text": [
      "train = 3.5657691955566406\n",
      "train + load = 7.029433727264404\n",
      "LOSS train 1.7224568128585815 valid 1.6272547245025635\n",
      "Accuracy valid 0.6527777777777778\n",
      "Recall valid 0.6527777777777778\n",
      "Precision valid 0.6585583648664144\n",
      "Val F1->0.6517006074297741\n",
      "Val mAP->0.37903915070411953\n",
      "Time per epoch 8.914572477340698s\n",
      "EPOCH 12:\n"
     ]
    },
    {
     "name": "stderr",
     "output_type": "stream",
     "text": [
      "10it [00:06,  1.50it/s]                      "
     ]
    },
    {
     "name": "stdout",
     "output_type": "stream",
     "text": [
      "train = 3.4552369117736816\n",
      "train + load = 6.874316215515137\n"
     ]
    },
    {
     "name": "stderr",
     "output_type": "stream",
     "text": [
      "\n"
     ]
    },
    {
     "name": "stdout",
     "output_type": "stream",
     "text": [
      "LOSS train 1.5607819557189941 valid 1.5772850513458252\n",
      "Accuracy valid 0.5555555555555556\n",
      "Recall valid 0.5555555555555556\n",
      "Precision valid 0.5650287554635381\n",
      "Val F1->0.5321970898980282\n",
      "Val mAP->0.38723698954685354\n",
      "Time per epoch 8.786824941635132s\n",
      "EPOCH 13:\n"
     ]
    },
    {
     "name": "stderr",
     "output_type": "stream",
     "text": [
      "10it [00:06,  1.48it/s]                      "
     ]
    },
    {
     "name": "stdout",
     "output_type": "stream",
     "text": [
      "train = 3.2175028324127197\n",
      "train + load = 6.9892895221710205\n"
     ]
    },
    {
     "name": "stderr",
     "output_type": "stream",
     "text": [
      "\n"
     ]
    },
    {
     "name": "stdout",
     "output_type": "stream",
     "text": [
      "LOSS train 1.4152252674102783 valid 1.4808611869812012\n",
      "Accuracy valid 0.625\n",
      "Recall valid 0.625\n",
      "Precision valid 0.6220897779401615\n",
      "Val F1->0.6107689919046626\n",
      "Val mAP->0.38716068528288883\n",
      "Time per epoch 8.935561656951904s\n",
      "EPOCH 14:\n"
     ]
    },
    {
     "name": "stderr",
     "output_type": "stream",
     "text": [
      "10it [00:06,  1.45it/s]                      "
     ]
    },
    {
     "name": "stdout",
     "output_type": "stream",
     "text": [
      "train = 3.3665785789489746\n",
      "train + load = 7.086069583892822\n"
     ]
    },
    {
     "name": "stderr",
     "output_type": "stream",
     "text": [
      "\n"
     ]
    },
    {
     "name": "stdout",
     "output_type": "stream",
     "text": [
      "LOSS train 1.2733234167099 valid 1.265063762664795\n",
      "Accuracy valid 0.6111111111111112\n",
      "Recall valid 0.6111111111111112\n",
      "Precision valid 0.6729474229474229\n",
      "Val F1->0.6313331729998396\n",
      "Val mAP->0.38488220190431144\n",
      "Time per epoch 9.006097555160522s\n",
      "EPOCH 15:\n"
     ]
    },
    {
     "name": "stderr",
     "output_type": "stream",
     "text": [
      "10it [00:07,  1.37it/s]                      "
     ]
    },
    {
     "name": "stdout",
     "output_type": "stream",
     "text": [
      "train = 3.2554049491882324\n",
      "train + load = 7.51375937461853\n"
     ]
    },
    {
     "name": "stderr",
     "output_type": "stream",
     "text": [
      "\n"
     ]
    },
    {
     "name": "stdout",
     "output_type": "stream",
     "text": [
      "LOSS train 1.1795933246612549 valid 1.443542242050171\n",
      "Accuracy valid 0.6527777777777778\n",
      "Recall valid 0.6527777777777778\n",
      "Precision valid 0.6696953781512605\n",
      "Val F1->0.6448866055187894\n",
      "Val mAP->0.38850178305191857\n",
      "Time per epoch 9.420944213867188s\n",
      "EPOCH 16:\n"
     ]
    },
    {
     "name": "stderr",
     "output_type": "stream",
     "text": [
      "10it [00:06,  1.47it/s]                      "
     ]
    },
    {
     "name": "stdout",
     "output_type": "stream",
     "text": [
      "train = 3.38796067237854\n",
      "train + load = 7.0314390659332275\n"
     ]
    },
    {
     "name": "stderr",
     "output_type": "stream",
     "text": [
      "\n"
     ]
    },
    {
     "name": "stdout",
     "output_type": "stream",
     "text": [
      "LOSS train 1.102686882019043 valid 1.2957154512405396\n",
      "Accuracy valid 0.625\n",
      "Recall valid 0.625\n",
      "Precision valid 0.6383838383838385\n",
      "Val F1->0.6138548180214847\n",
      "Val mAP->0.40273686569035533\n",
      "Time per epoch 8.968380689620972s\n",
      "EPOCH 17:\n"
     ]
    },
    {
     "name": "stderr",
     "output_type": "stream",
     "text": [
      "10it [00:06,  1.47it/s]                      "
     ]
    },
    {
     "name": "stdout",
     "output_type": "stream",
     "text": [
      "train = 3.370056390762329\n",
      "train + load = 7.040747404098511\n"
     ]
    },
    {
     "name": "stderr",
     "output_type": "stream",
     "text": [
      "\n"
     ]
    },
    {
     "name": "stdout",
     "output_type": "stream",
     "text": [
      "LOSS train 1.0268937349319458 valid 1.2398602962493896\n",
      "Accuracy valid 0.5972222222222222\n",
      "Recall valid 0.5972222222222222\n",
      "Precision valid 0.639423076923077\n",
      "Val F1->0.5931136764470097\n",
      "Val mAP->0.3903407430112326\n",
      "Time per epoch 8.943182706832886s\n",
      "EPOCH 18:\n"
     ]
    },
    {
     "name": "stderr",
     "output_type": "stream",
     "text": [
      "10it [00:06,  1.45it/s]                      \n"
     ]
    },
    {
     "name": "stdout",
     "output_type": "stream",
     "text": [
      "train = 3.39365553855896\n",
      "train + load = 7.105051755905151\n",
      "LOSS train 0.9878190159797668 valid 1.085373878479004\n",
      "Accuracy valid 0.6527777777777778\n",
      "Recall valid 0.6527777777777778\n",
      "Precision valid 0.6913244766505636\n",
      "Val F1->0.6601003257507324\n",
      "Val mAP->0.39215432234026143\n",
      "Time per epoch 9.152029514312744s\n",
      "EPOCH 19:\n"
     ]
    },
    {
     "name": "stderr",
     "output_type": "stream",
     "text": [
      "10it [00:06,  1.47it/s]                      \n"
     ]
    },
    {
     "name": "stdout",
     "output_type": "stream",
     "text": [
      "train = 3.4020793437957764\n",
      "train + load = 7.016708612442017\n",
      "LOSS train 0.9217664003372192 valid 1.254736065864563\n",
      "Accuracy valid 0.5972222222222222\n",
      "Recall valid 0.5972222222222222\n",
      "Precision valid 0.6007275132275133\n",
      "Val F1->0.5950855794941817\n",
      "Val mAP->0.4117280346042879\n",
      "Time per epoch 8.942843437194824s\n",
      "EPOCH 20:\n"
     ]
    },
    {
     "name": "stderr",
     "output_type": "stream",
     "text": [
      "10it [00:06,  1.48it/s]                      "
     ]
    },
    {
     "name": "stdout",
     "output_type": "stream",
     "text": [
      "train = 3.439970016479492\n",
      "train + load = 6.982457876205444\n"
     ]
    },
    {
     "name": "stderr",
     "output_type": "stream",
     "text": [
      "\n"
     ]
    },
    {
     "name": "stdout",
     "output_type": "stream",
     "text": [
      "LOSS train 0.8796955347061157 valid 1.1648048162460327\n",
      "Accuracy valid 0.5833333333333334\n",
      "Recall valid 0.5833333333333334\n",
      "Precision valid 0.5785493827160494\n",
      "Val F1->0.5730911192456155\n",
      "Val mAP->0.40008491708694816\n",
      "Time per epoch 8.961722135543823s\n",
      "EPOCH 21:\n"
     ]
    },
    {
     "name": "stderr",
     "output_type": "stream",
     "text": [
      "10it [00:06,  1.47it/s]                      "
     ]
    },
    {
     "name": "stdout",
     "output_type": "stream",
     "text": [
      "train = 3.2742252349853516\n",
      "train + load = 7.002428293228149\n"
     ]
    },
    {
     "name": "stderr",
     "output_type": "stream",
     "text": [
      "\n"
     ]
    },
    {
     "name": "stdout",
     "output_type": "stream",
     "text": [
      "LOSS train 0.8464822173118591 valid 1.056452989578247\n",
      "Accuracy valid 0.6111111111111112\n",
      "Recall valid 0.6111111111111112\n",
      "Precision valid 0.6209377610693401\n",
      "Val F1->0.6053957998402443\n",
      "Val mAP->0.4189042305151536\n",
      "Time per epoch 8.864432096481323s\n",
      "EPOCH 22:\n"
     ]
    },
    {
     "name": "stderr",
     "output_type": "stream",
     "text": [
      "10it [00:07,  1.38it/s]                      "
     ]
    },
    {
     "name": "stdout",
     "output_type": "stream",
     "text": [
      "train = 3.3841309547424316\n",
      "train + load = 7.46431040763855\n"
     ]
    },
    {
     "name": "stderr",
     "output_type": "stream",
     "text": [
      "\n"
     ]
    },
    {
     "name": "stdout",
     "output_type": "stream",
     "text": [
      "LOSS train 0.8214311599731445 valid 1.009169578552246\n",
      "Accuracy valid 0.5972222222222222\n",
      "Recall valid 0.5972222222222222\n",
      "Precision valid 0.5854276895943562\n",
      "Val F1->0.5839195330208402\n",
      "Val mAP->0.3794969192184222\n",
      "Time per epoch 9.299753904342651s\n",
      "EPOCH 23:\n"
     ]
    },
    {
     "name": "stderr",
     "output_type": "stream",
     "text": [
      "10it [00:06,  1.43it/s]                      "
     ]
    },
    {
     "name": "stdout",
     "output_type": "stream",
     "text": [
      "train = 3.401785373687744\n",
      "train + load = 7.186601400375366\n"
     ]
    },
    {
     "name": "stderr",
     "output_type": "stream",
     "text": [
      "\n"
     ]
    },
    {
     "name": "stdout",
     "output_type": "stream",
     "text": [
      "LOSS train 0.8075470924377441 valid 0.8554189801216125\n",
      "Accuracy valid 0.5694444444444444\n",
      "Recall valid 0.5694444444444444\n",
      "Precision valid 0.580406746031746\n",
      "Val F1->0.5708242852328874\n",
      "Val mAP->0.4140603720485763\n",
      "Time per epoch 9.12564492225647s\n",
      "EPOCH 24:\n"
     ]
    },
    {
     "name": "stderr",
     "output_type": "stream",
     "text": [
      "10it [00:06,  1.47it/s]                      "
     ]
    },
    {
     "name": "stdout",
     "output_type": "stream",
     "text": [
      "train = 3.3788530826568604\n",
      "train + load = 6.995873928070068\n"
     ]
    },
    {
     "name": "stderr",
     "output_type": "stream",
     "text": [
      "\n"
     ]
    },
    {
     "name": "stdout",
     "output_type": "stream",
     "text": [
      "LOSS train 0.7775940299034119 valid 0.971904456615448\n",
      "Accuracy valid 0.625\n",
      "Recall valid 0.625\n",
      "Precision valid 0.6538322185061316\n",
      "Val F1->0.628371741565602\n",
      "Val mAP->0.4039735945448864\n",
      "Time per epoch 8.917133808135986s\n",
      "EPOCH 25:\n"
     ]
    },
    {
     "name": "stderr",
     "output_type": "stream",
     "text": [
      "10it [00:06,  1.48it/s]                      "
     ]
    },
    {
     "name": "stdout",
     "output_type": "stream",
     "text": [
      "train = 3.3367178440093994\n",
      "train + load = 6.997237920761108\n"
     ]
    },
    {
     "name": "stderr",
     "output_type": "stream",
     "text": [
      "\n"
     ]
    },
    {
     "name": "stdout",
     "output_type": "stream",
     "text": [
      "LOSS train 0.757455587387085 valid 0.8710131049156189\n",
      "Accuracy valid 0.6527777777777778\n",
      "Recall valid 0.6527777777777778\n",
      "Precision valid 0.6286861967009025\n",
      "Val F1->0.6362690425496799\n",
      "Val mAP->0.41248597521457736\n",
      "Time per epoch 8.921753406524658s\n",
      "EPOCH 26:\n"
     ]
    },
    {
     "name": "stderr",
     "output_type": "stream",
     "text": [
      "10it [00:06,  1.44it/s]                      "
     ]
    },
    {
     "name": "stdout",
     "output_type": "stream",
     "text": [
      "train = 3.414050340652466\n",
      "train + load = 7.1737024784088135\n"
     ]
    },
    {
     "name": "stderr",
     "output_type": "stream",
     "text": [
      "\n"
     ]
    },
    {
     "name": "stdout",
     "output_type": "stream",
     "text": [
      "LOSS train 0.7613357305526733 valid 0.9619176387786865\n",
      "Accuracy valid 0.5416666666666666\n",
      "Recall valid 0.5416666666666666\n",
      "Precision valid 0.5582977207977208\n",
      "Val F1->0.5401034151034152\n",
      "Val mAP->0.3892467767088281\n",
      "Time per epoch 9.115548610687256s\n",
      "EPOCH 27:\n"
     ]
    },
    {
     "name": "stderr",
     "output_type": "stream",
     "text": [
      "10it [00:06,  1.45it/s]                      "
     ]
    },
    {
     "name": "stdout",
     "output_type": "stream",
     "text": [
      "train = 3.4630095958709717\n",
      "train + load = 7.127576589584351\n"
     ]
    },
    {
     "name": "stderr",
     "output_type": "stream",
     "text": [
      "\n"
     ]
    },
    {
     "name": "stdout",
     "output_type": "stream",
     "text": [
      "LOSS train 0.7345281839370728 valid 0.9322407245635986\n",
      "Accuracy valid 0.5972222222222222\n",
      "Recall valid 0.5972222222222222\n",
      "Precision valid 0.6034605508870214\n",
      "Val F1->0.5975161669606114\n",
      "Val mAP->0.39437099991844676\n",
      "Time per epoch 9.068468570709229s\n",
      "EPOCH 28:\n"
     ]
    },
    {
     "name": "stderr",
     "output_type": "stream",
     "text": [
      "10it [00:06,  1.47it/s]                      "
     ]
    },
    {
     "name": "stdout",
     "output_type": "stream",
     "text": [
      "train = 3.3650894165039062\n",
      "train + load = 7.0144572257995605\n"
     ]
    },
    {
     "name": "stderr",
     "output_type": "stream",
     "text": [
      "\n"
     ]
    },
    {
     "name": "stdout",
     "output_type": "stream",
     "text": [
      "LOSS train 0.7090410590171814 valid 0.8623453378677368\n",
      "Accuracy valid 0.5833333333333334\n",
      "Recall valid 0.5833333333333334\n",
      "Precision valid 0.6258087474120083\n",
      "Val F1->0.5980314664257754\n",
      "Val mAP->0.3971927678129489\n",
      "Time per epoch 8.951713800430298s\n",
      "EPOCH 29:\n"
     ]
    },
    {
     "name": "stderr",
     "output_type": "stream",
     "text": [
      "10it [00:07,  1.40it/s]                      "
     ]
    },
    {
     "name": "stdout",
     "output_type": "stream",
     "text": [
      "train = 3.5485682487487793\n",
      "train + load = 7.344824552536011\n"
     ]
    },
    {
     "name": "stderr",
     "output_type": "stream",
     "text": [
      "\n"
     ]
    },
    {
     "name": "stdout",
     "output_type": "stream",
     "text": [
      "LOSS train 0.7301125526428223 valid 0.9198366403579712\n",
      "Accuracy valid 0.6111111111111112\n",
      "Recall valid 0.6111111111111112\n",
      "Precision valid 0.6084415584415583\n",
      "Val F1->0.5974537037037038\n",
      "Val mAP->0.39222891028026324\n",
      "Time per epoch 9.273154258728027s\n",
      "EPOCH 30:\n"
     ]
    },
    {
     "name": "stderr",
     "output_type": "stream",
     "text": [
      "10it [00:06,  1.48it/s]                      "
     ]
    },
    {
     "name": "stdout",
     "output_type": "stream",
     "text": [
      "train = 3.3479321002960205\n",
      "train + load = 6.971556186676025\n"
     ]
    },
    {
     "name": "stderr",
     "output_type": "stream",
     "text": [
      "\n"
     ]
    },
    {
     "name": "stdout",
     "output_type": "stream",
     "text": [
      "LOSS train 0.7182634472846985 valid 0.8727391362190247\n",
      "Accuracy valid 0.5555555555555556\n",
      "Recall valid 0.5555555555555556\n",
      "Precision valid 0.559970238095238\n",
      "Val F1->0.5541000612839694\n",
      "Val mAP->0.39307766142839023\n",
      "Time per epoch 8.957144498825073s\n",
      "EPOCH 31:\n"
     ]
    },
    {
     "name": "stderr",
     "output_type": "stream",
     "text": [
      "10it [00:06,  1.49it/s]                      "
     ]
    },
    {
     "name": "stdout",
     "output_type": "stream",
     "text": [
      "train = 3.3055031299591064\n",
      "train + load = 6.94809889793396\n"
     ]
    },
    {
     "name": "stderr",
     "output_type": "stream",
     "text": [
      "\n"
     ]
    },
    {
     "name": "stdout",
     "output_type": "stream",
     "text": [
      "LOSS train 0.7026473879814148 valid 0.8913140296936035\n",
      "Accuracy valid 0.5555555555555556\n",
      "Recall valid 0.5555555555555556\n",
      "Precision valid 0.5161105377823644\n",
      "Val F1->0.5309212573918456\n",
      "Val mAP->0.41148944323005376\n",
      "Time per epoch 8.850505113601685s\n",
      "EPOCH 32:\n"
     ]
    },
    {
     "name": "stderr",
     "output_type": "stream",
     "text": [
      "10it [00:06,  1.46it/s]                      "
     ]
    },
    {
     "name": "stdout",
     "output_type": "stream",
     "text": [
      "train = 3.351165771484375\n",
      "train + load = 7.061121940612793\n"
     ]
    },
    {
     "name": "stderr",
     "output_type": "stream",
     "text": [
      "\n"
     ]
    },
    {
     "name": "stdout",
     "output_type": "stream",
     "text": [
      "LOSS train 0.6792187690734863 valid 0.7835530042648315\n",
      "Accuracy valid 0.6388888888888888\n",
      "Recall valid 0.6388888888888888\n",
      "Precision valid 0.6238315696649029\n",
      "Val F1->0.6194968158203452\n",
      "Val mAP->0.42864622217899545\n",
      "Time per epoch 8.973918676376343s\n",
      "EPOCH 33:\n"
     ]
    },
    {
     "name": "stderr",
     "output_type": "stream",
     "text": [
      "10it [00:07,  1.39it/s]                      "
     ]
    },
    {
     "name": "stdout",
     "output_type": "stream",
     "text": [
      "train = 3.3751115798950195\n",
      "train + load = 7.3978111743927\n"
     ]
    },
    {
     "name": "stderr",
     "output_type": "stream",
     "text": [
      "\n"
     ]
    },
    {
     "name": "stdout",
     "output_type": "stream",
     "text": [
      "LOSS train 0.6626338362693787 valid 0.8603368997573853\n",
      "Accuracy valid 0.6805555555555556\n",
      "Recall valid 0.6805555555555556\n",
      "Precision valid 0.6824618736383442\n",
      "Val F1->0.6764747405372405\n",
      "Val mAP->0.4632778597455802\n",
      "Time per epoch 9.343281269073486s\n",
      "EPOCH 34:\n"
     ]
    },
    {
     "name": "stderr",
     "output_type": "stream",
     "text": [
      "10it [00:06,  1.47it/s]                      "
     ]
    },
    {
     "name": "stdout",
     "output_type": "stream",
     "text": [
      "train = 3.3812906742095947\n",
      "train + load = 7.022845506668091\n"
     ]
    },
    {
     "name": "stderr",
     "output_type": "stream",
     "text": [
      "\n"
     ]
    },
    {
     "name": "stdout",
     "output_type": "stream",
     "text": [
      "LOSS train 0.6676282286643982 valid 0.9666528701782227\n",
      "Accuracy valid 0.5555555555555556\n",
      "Recall valid 0.5555555555555556\n",
      "Precision valid 0.5679414358335928\n",
      "Val F1->0.5568561341605887\n",
      "Val mAP->0.4025956878621457\n",
      "Time per epoch 8.9261314868927s\n",
      "EPOCH 35:\n"
     ]
    },
    {
     "name": "stderr",
     "output_type": "stream",
     "text": [
      "10it [00:06,  1.45it/s]                      "
     ]
    },
    {
     "name": "stdout",
     "output_type": "stream",
     "text": [
      "train = 3.4254209995269775\n",
      "train + load = 7.095372438430786\n"
     ]
    },
    {
     "name": "stderr",
     "output_type": "stream",
     "text": [
      "\n"
     ]
    },
    {
     "name": "stdout",
     "output_type": "stream",
     "text": [
      "LOSS train 0.6675696969032288 valid 0.8674055933952332\n",
      "Accuracy valid 0.6111111111111112\n",
      "Recall valid 0.6111111111111112\n",
      "Precision valid 0.6304398148148148\n",
      "Val F1->0.6148617511520738\n",
      "Val mAP->0.4313628575003587\n",
      "Time per epoch 9.060524702072144s\n",
      "EPOCH 36:\n"
     ]
    },
    {
     "name": "stderr",
     "output_type": "stream",
     "text": [
      "10it [00:07,  1.42it/s]                      "
     ]
    },
    {
     "name": "stdout",
     "output_type": "stream",
     "text": [
      "train = 3.4408228397369385\n",
      "train + load = 7.27977728843689\n"
     ]
    },
    {
     "name": "stderr",
     "output_type": "stream",
     "text": [
      "\n"
     ]
    },
    {
     "name": "stdout",
     "output_type": "stream",
     "text": [
      "LOSS train 0.6548673510551453 valid 0.8107516765594482\n",
      "Accuracy valid 0.5694444444444444\n",
      "Recall valid 0.5694444444444444\n",
      "Precision valid 0.5527675653594771\n",
      "Val F1->0.5553332221342974\n",
      "Val mAP->0.40993177489708366\n",
      "Time per epoch 9.185276746749878s\n",
      "EPOCH 37:\n"
     ]
    },
    {
     "name": "stderr",
     "output_type": "stream",
     "text": [
      "10it [00:06,  1.44it/s]                      "
     ]
    },
    {
     "name": "stdout",
     "output_type": "stream",
     "text": [
      "train = 3.310443162918091\n",
      "train + load = 7.173854351043701\n"
     ]
    },
    {
     "name": "stderr",
     "output_type": "stream",
     "text": [
      "\n"
     ]
    },
    {
     "name": "stdout",
     "output_type": "stream",
     "text": [
      "LOSS train 0.6440154910087585 valid 0.8860082030296326\n",
      "Accuracy valid 0.625\n",
      "Recall valid 0.625\n",
      "Precision valid 0.5944444444444444\n",
      "Val F1->0.6051169590643275\n",
      "Val mAP->0.4391721417134924\n",
      "Time per epoch 9.103683471679688s\n",
      "EPOCH 38:\n"
     ]
    },
    {
     "name": "stderr",
     "output_type": "stream",
     "text": [
      "10it [00:06,  1.43it/s]                      "
     ]
    },
    {
     "name": "stdout",
     "output_type": "stream",
     "text": [
      "train = 3.360930919647217\n",
      "train + load = 7.193243741989136\n"
     ]
    },
    {
     "name": "stderr",
     "output_type": "stream",
     "text": [
      "\n"
     ]
    },
    {
     "name": "stdout",
     "output_type": "stream",
     "text": [
      "LOSS train 0.6339213252067566 valid 0.8143624067306519\n",
      "Accuracy valid 0.6666666666666666\n",
      "Recall valid 0.6666666666666666\n",
      "Precision valid 0.6653439153439153\n",
      "Val F1->0.655046193602354\n",
      "Val mAP->0.42061547405878863\n",
      "Time per epoch 9.162405252456665s\n",
      "EPOCH 39:\n"
     ]
    },
    {
     "name": "stderr",
     "output_type": "stream",
     "text": [
      "10it [00:06,  1.45it/s]                      "
     ]
    },
    {
     "name": "stdout",
     "output_type": "stream",
     "text": [
      "train = 3.358346700668335\n",
      "train + load = 7.103671073913574\n"
     ]
    },
    {
     "name": "stderr",
     "output_type": "stream",
     "text": [
      "\n"
     ]
    },
    {
     "name": "stdout",
     "output_type": "stream",
     "text": [
      "LOSS train 0.6393818259239197 valid 0.860772967338562\n",
      "Accuracy valid 0.5694444444444444\n",
      "Recall valid 0.5694444444444444\n",
      "Precision valid 0.6076534780578897\n",
      "Val F1->0.550838122605364\n",
      "Val mAP->0.43317059363330634\n",
      "Time per epoch 8.988801956176758s\n",
      "EPOCH 40:\n"
     ]
    },
    {
     "name": "stderr",
     "output_type": "stream",
     "text": [
      "10it [00:07,  1.35it/s]                      "
     ]
    },
    {
     "name": "stdout",
     "output_type": "stream",
     "text": [
      "train = 3.3975911140441895\n",
      "train + load = 7.65087628364563\n"
     ]
    },
    {
     "name": "stderr",
     "output_type": "stream",
     "text": [
      "\n"
     ]
    },
    {
     "name": "stdout",
     "output_type": "stream",
     "text": [
      "LOSS train 0.6396369934082031 valid 0.7977637052536011\n",
      "Accuracy valid 0.6527777777777778\n",
      "Recall valid 0.6527777777777778\n",
      "Precision valid 0.6716397028897029\n",
      "Val F1->0.6597395197395196\n",
      "Val mAP->0.4164810342911578\n",
      "Time per epoch 9.71972918510437s\n",
      "EPOCH 41:\n"
     ]
    },
    {
     "name": "stderr",
     "output_type": "stream",
     "text": [
      "10it [00:06,  1.45it/s]                      "
     ]
    },
    {
     "name": "stdout",
     "output_type": "stream",
     "text": [
      "train = 3.3309783935546875\n",
      "train + load = 7.123290061950684\n"
     ]
    },
    {
     "name": "stderr",
     "output_type": "stream",
     "text": [
      "\n"
     ]
    },
    {
     "name": "stdout",
     "output_type": "stream",
     "text": [
      "LOSS train 0.632724940776825 valid 0.8185505270957947\n",
      "Accuracy valid 0.5416666666666666\n",
      "Recall valid 0.5416666666666666\n",
      "Precision valid 0.5779914529914529\n",
      "Val F1->0.5389790764790765\n",
      "Val mAP->0.44812997147036465\n",
      "Time per epoch 8.998380899429321s\n",
      "EPOCH 42:\n"
     ]
    },
    {
     "name": "stderr",
     "output_type": "stream",
     "text": [
      "10it [00:06,  1.47it/s]                      "
     ]
    },
    {
     "name": "stdout",
     "output_type": "stream",
     "text": [
      "train = 3.220855474472046\n",
      "train + load = 6.994136095046997\n"
     ]
    },
    {
     "name": "stderr",
     "output_type": "stream",
     "text": [
      "\n"
     ]
    },
    {
     "name": "stdout",
     "output_type": "stream",
     "text": [
      "LOSS train 0.629945695400238 valid 0.8013484477996826\n",
      "Accuracy valid 0.5694444444444444\n",
      "Recall valid 0.5694444444444444\n",
      "Precision valid 0.5757122507122507\n",
      "Val F1->0.5684822812015794\n",
      "Val mAP->0.40251960648993373\n",
      "Time per epoch 8.909664869308472s\n",
      "EPOCH 43:\n"
     ]
    },
    {
     "name": "stderr",
     "output_type": "stream",
     "text": [
      "10it [00:06,  1.48it/s]                      \n"
     ]
    },
    {
     "name": "stdout",
     "output_type": "stream",
     "text": [
      "train = 3.3379039764404297\n",
      "train + load = 6.977786064147949\n",
      "LOSS train 0.6166247725486755 valid 0.8309983015060425\n",
      "Accuracy valid 0.6111111111111112\n",
      "Recall valid 0.6111111111111112\n",
      "Precision valid 0.6161458333333333\n",
      "Val F1->0.6054432574593867\n",
      "Val mAP->0.41796772492512946\n",
      "Time per epoch 8.898078203201294s\n",
      "EPOCH 44:\n"
     ]
    },
    {
     "name": "stderr",
     "output_type": "stream",
     "text": [
      "10it [00:06,  1.46it/s]                      "
     ]
    },
    {
     "name": "stdout",
     "output_type": "stream",
     "text": [
      "train = 3.3306798934936523\n",
      "train + load = 7.07957124710083\n"
     ]
    },
    {
     "name": "stderr",
     "output_type": "stream",
     "text": [
      "\n"
     ]
    },
    {
     "name": "stdout",
     "output_type": "stream",
     "text": [
      "LOSS train 0.6119716167449951 valid 0.8912853002548218\n",
      "Accuracy valid 0.7083333333333334\n",
      "Recall valid 0.7083333333333334\n",
      "Precision valid 0.6986259050403787\n",
      "Val F1->0.6914108552997441\n",
      "Val mAP->0.44144932110150165\n",
      "Time per epoch 8.989136934280396s\n",
      "EPOCH 45:\n"
     ]
    },
    {
     "name": "stderr",
     "output_type": "stream",
     "text": [
      "10it [00:06,  1.49it/s]                      "
     ]
    },
    {
     "name": "stdout",
     "output_type": "stream",
     "text": [
      "train = 3.4715168476104736\n",
      "train + load = 6.9420881271362305\n"
     ]
    },
    {
     "name": "stderr",
     "output_type": "stream",
     "text": [
      "\n"
     ]
    },
    {
     "name": "stdout",
     "output_type": "stream",
     "text": [
      "LOSS train 0.6010012626647949 valid 0.8095611929893494\n",
      "Accuracy valid 0.6111111111111112\n",
      "Recall valid 0.6111111111111112\n",
      "Precision valid 0.6547548312254194\n",
      "Val F1->0.5973290598290598\n",
      "Val mAP->0.43137672673202565\n",
      "Time per epoch 8.84893798828125s\n",
      "EPOCH 46:\n"
     ]
    },
    {
     "name": "stderr",
     "output_type": "stream",
     "text": [
      "10it [00:06,  1.46it/s]                      "
     ]
    },
    {
     "name": "stdout",
     "output_type": "stream",
     "text": [
      "train = 3.3742198944091797\n",
      "train + load = 7.05864405632019\n"
     ]
    },
    {
     "name": "stderr",
     "output_type": "stream",
     "text": [
      "\n"
     ]
    },
    {
     "name": "stdout",
     "output_type": "stream",
     "text": [
      "LOSS train 0.5939983129501343 valid 0.7399907112121582\n",
      "Accuracy valid 0.5972222222222222\n",
      "Recall valid 0.5972222222222222\n",
      "Precision valid 0.6050483387799565\n",
      "Val F1->0.5946482882007307\n",
      "Val mAP->0.46630380830351037\n",
      "Time per epoch 8.974702835083008s\n",
      "EPOCH 47:\n"
     ]
    },
    {
     "name": "stderr",
     "output_type": "stream",
     "text": [
      "10it [00:07,  1.33it/s]                      "
     ]
    },
    {
     "name": "stdout",
     "output_type": "stream",
     "text": [
      "train = 3.392137289047241\n",
      "train + load = 7.749999523162842\n"
     ]
    },
    {
     "name": "stderr",
     "output_type": "stream",
     "text": [
      "\n"
     ]
    },
    {
     "name": "stdout",
     "output_type": "stream",
     "text": [
      "LOSS train 0.6068447828292847 valid 0.8745479583740234\n",
      "Accuracy valid 0.6666666666666666\n",
      "Recall valid 0.6666666666666666\n",
      "Precision valid 0.6957519332519333\n",
      "Val F1->0.6625252525252523\n",
      "Val mAP->0.4593199687112633\n",
      "Time per epoch 9.650691509246826s\n",
      "EPOCH 48:\n"
     ]
    },
    {
     "name": "stderr",
     "output_type": "stream",
     "text": [
      "10it [00:06,  1.47it/s]                      \n"
     ]
    },
    {
     "name": "stdout",
     "output_type": "stream",
     "text": [
      "train = 3.40849232673645\n",
      "train + load = 7.051629304885864\n",
      "LOSS train 0.5992069840431213 valid 0.9555554389953613\n",
      "Accuracy valid 0.6666666666666666\n",
      "Recall valid 0.6666666666666666\n",
      "Precision valid 0.6782458282458284\n",
      "Val F1->0.6694173110839778\n",
      "Val mAP->0.43737998534079864\n",
      "Time per epoch 8.991316080093384s\n",
      "EPOCH 49:\n"
     ]
    },
    {
     "name": "stderr",
     "output_type": "stream",
     "text": [
      "10it [00:06,  1.44it/s]                      "
     ]
    },
    {
     "name": "stdout",
     "output_type": "stream",
     "text": [
      "train = 3.3079676628112793\n",
      "train + load = 7.160024642944336\n"
     ]
    },
    {
     "name": "stderr",
     "output_type": "stream",
     "text": [
      "\n"
     ]
    },
    {
     "name": "stdout",
     "output_type": "stream",
     "text": [
      "LOSS train 0.5994309782981873 valid 0.7900170087814331\n",
      "Accuracy valid 0.5833333333333334\n",
      "Recall valid 0.5833333333333334\n",
      "Precision valid 0.5504298941798942\n",
      "Val F1->0.5616675789089582\n",
      "Val mAP->0.46034134077884925\n",
      "Time per epoch 9.054428815841675s\n",
      "EPOCH 50:\n"
     ]
    },
    {
     "name": "stderr",
     "output_type": "stream",
     "text": [
      "10it [00:06,  1.47it/s]                      \n"
     ]
    },
    {
     "name": "stdout",
     "output_type": "stream",
     "text": [
      "train = 3.3210508823394775\n",
      "train + load = 7.056577920913696\n",
      "LOSS train 0.5854355692863464 valid 0.8057891130447388\n",
      "Accuracy valid 0.6111111111111112\n",
      "Recall valid 0.6111111111111112\n",
      "Precision valid 0.5925925925925926\n",
      "Val F1->0.5983640513210405\n",
      "Val mAP->0.43235920129320693\n",
      "Time per epoch 9.125192403793335s\n",
      "EPOCH 51:\n"
     ]
    },
    {
     "name": "stderr",
     "output_type": "stream",
     "text": [
      "10it [00:06,  1.44it/s]                      "
     ]
    },
    {
     "name": "stdout",
     "output_type": "stream",
     "text": [
      "train = 3.4433767795562744\n",
      "train + load = 7.172821044921875\n"
     ]
    },
    {
     "name": "stderr",
     "output_type": "stream",
     "text": [
      "\n"
     ]
    },
    {
     "name": "stdout",
     "output_type": "stream",
     "text": [
      "LOSS train 0.5871257781982422 valid 0.7131506204605103\n",
      "Accuracy valid 0.6111111111111112\n",
      "Recall valid 0.6111111111111112\n",
      "Precision valid 0.6178902116402116\n",
      "Val F1->0.604840869256192\n",
      "Val mAP->0.43473767722003465\n",
      "Time per epoch 9.14654278755188s\n",
      "EPOCH 52:\n"
     ]
    },
    {
     "name": "stderr",
     "output_type": "stream",
     "text": [
      "10it [00:06,  1.46it/s]                      "
     ]
    },
    {
     "name": "stdout",
     "output_type": "stream",
     "text": [
      "train = 3.2453501224517822\n",
      "train + load = 7.041597843170166\n"
     ]
    },
    {
     "name": "stderr",
     "output_type": "stream",
     "text": [
      "\n"
     ]
    },
    {
     "name": "stdout",
     "output_type": "stream",
     "text": [
      "LOSS train 0.5843704342842102 valid 0.8331024646759033\n",
      "Accuracy valid 0.6111111111111112\n",
      "Recall valid 0.6111111111111112\n",
      "Precision valid 0.6426851851851851\n",
      "Val F1->0.6148836090696556\n",
      "Val mAP->0.4878375470764947\n",
      "Time per epoch 8.911465406417847s\n",
      "EPOCH 53:\n"
     ]
    },
    {
     "name": "stderr",
     "output_type": "stream",
     "text": [
      "10it [00:06,  1.48it/s]                      "
     ]
    },
    {
     "name": "stdout",
     "output_type": "stream",
     "text": [
      "train = 3.352715015411377\n",
      "train + load = 6.947120666503906\n"
     ]
    },
    {
     "name": "stderr",
     "output_type": "stream",
     "text": [
      "\n"
     ]
    },
    {
     "name": "stdout",
     "output_type": "stream",
     "text": [
      "LOSS train 0.5794200301170349 valid 0.8916426301002502\n",
      "Accuracy valid 0.6111111111111112\n",
      "Recall valid 0.6111111111111112\n",
      "Precision valid 0.6203373015873016\n",
      "Val F1->0.6096005426313956\n",
      "Val mAP->0.4628575874319157\n",
      "Time per epoch 8.810265064239502s\n",
      "EPOCH 54:\n"
     ]
    },
    {
     "name": "stderr",
     "output_type": "stream",
     "text": [
      "10it [00:07,  1.37it/s]                      "
     ]
    },
    {
     "name": "stdout",
     "output_type": "stream",
     "text": [
      "train = 3.4867796897888184\n",
      "train + load = 7.494091033935547\n"
     ]
    },
    {
     "name": "stderr",
     "output_type": "stream",
     "text": [
      "\n"
     ]
    },
    {
     "name": "stdout",
     "output_type": "stream",
     "text": [
      "LOSS train 0.5869380235671997 valid 0.741833508014679\n",
      "Accuracy valid 0.6111111111111112\n",
      "Recall valid 0.6111111111111112\n",
      "Precision valid 0.5962962962962963\n",
      "Val F1->0.5978521478521479\n",
      "Val mAP->0.4534537150673867\n",
      "Time per epoch 9.39004397392273s\n",
      "EPOCH 55:\n"
     ]
    },
    {
     "name": "stderr",
     "output_type": "stream",
     "text": [
      "10it [00:06,  1.51it/s]                      "
     ]
    },
    {
     "name": "stdout",
     "output_type": "stream",
     "text": [
      "train = 3.334728479385376\n",
      "train + load = 6.865759611129761\n"
     ]
    },
    {
     "name": "stderr",
     "output_type": "stream",
     "text": [
      "\n"
     ]
    },
    {
     "name": "stdout",
     "output_type": "stream",
     "text": [
      "LOSS train 0.5798658728599548 valid 0.7679142951965332\n",
      "Accuracy valid 0.7083333333333334\n",
      "Recall valid 0.7083333333333334\n",
      "Precision valid 0.7290064102564103\n",
      "Val F1->0.7046737213403881\n",
      "Val mAP->0.47093128712768206\n",
      "Time per epoch 8.76949405670166s\n",
      "EPOCH 56:\n"
     ]
    },
    {
     "name": "stderr",
     "output_type": "stream",
     "text": [
      "10it [00:06,  1.48it/s]                      \n"
     ]
    },
    {
     "name": "stdout",
     "output_type": "stream",
     "text": [
      "train = 3.269423246383667\n",
      "train + load = 6.956121444702148\n",
      "LOSS train 0.5793031454086304 valid 0.9396034479141235\n",
      "Accuracy valid 0.6388888888888888\n",
      "Recall valid 0.6388888888888888\n",
      "Precision valid 0.6555555555555556\n",
      "Val F1->0.6351811768478436\n",
      "Val mAP->0.48879661179002887\n",
      "Time per epoch 8.933125972747803s\n",
      "EPOCH 57:\n"
     ]
    },
    {
     "name": "stderr",
     "output_type": "stream",
     "text": [
      "10it [00:06,  1.43it/s]                      "
     ]
    },
    {
     "name": "stdout",
     "output_type": "stream",
     "text": [
      "train = 3.3289639949798584\n",
      "train + load = 7.204083204269409\n"
     ]
    },
    {
     "name": "stderr",
     "output_type": "stream",
     "text": [
      "\n"
     ]
    },
    {
     "name": "stdout",
     "output_type": "stream",
     "text": [
      "LOSS train 0.5649563670158386 valid 0.8940533399581909\n",
      "Accuracy valid 0.5694444444444444\n",
      "Recall valid 0.5694444444444444\n",
      "Precision valid 0.535978835978836\n",
      "Val F1->0.5498342398342397\n",
      "Val mAP->0.4634483269745828\n",
      "Time per epoch 9.154930591583252s\n",
      "EPOCH 58:\n"
     ]
    },
    {
     "name": "stderr",
     "output_type": "stream",
     "text": [
      "10it [00:06,  1.49it/s]                      "
     ]
    },
    {
     "name": "stdout",
     "output_type": "stream",
     "text": [
      "train = 3.3411455154418945\n",
      "train + load = 6.936631679534912\n"
     ]
    },
    {
     "name": "stderr",
     "output_type": "stream",
     "text": [
      "\n"
     ]
    },
    {
     "name": "stdout",
     "output_type": "stream",
     "text": [
      "LOSS train 0.5627886056900024 valid 0.7360891699790955\n",
      "Accuracy valid 0.5277777777777778\n",
      "Recall valid 0.5277777777777778\n",
      "Precision valid 0.5493884394926062\n",
      "Val F1->0.5337275153007912\n",
      "Val mAP->0.48549344923876764\n",
      "Time per epoch 8.919390439987183s\n",
      "EPOCH 59:\n"
     ]
    },
    {
     "name": "stderr",
     "output_type": "stream",
     "text": [
      "10it [00:07,  1.42it/s]                      "
     ]
    },
    {
     "name": "stdout",
     "output_type": "stream",
     "text": [
      "train = 3.3798491954803467\n",
      "train + load = 7.235976934432983\n"
     ]
    },
    {
     "name": "stderr",
     "output_type": "stream",
     "text": [
      "\n"
     ]
    },
    {
     "name": "stdout",
     "output_type": "stream",
     "text": [
      "LOSS train 0.5589680075645447 valid 0.8412812948226929\n",
      "Accuracy valid 0.6527777777777778\n",
      "Recall valid 0.6527777777777778\n",
      "Precision valid 0.6683201058201058\n",
      "Val F1->0.6407142565037302\n",
      "Val mAP->0.4885859522250359\n",
      "Time per epoch 9.171416997909546s\n",
      "EPOCH 60:\n"
     ]
    },
    {
     "name": "stderr",
     "output_type": "stream",
     "text": [
      "10it [00:07,  1.41it/s]                      "
     ]
    },
    {
     "name": "stdout",
     "output_type": "stream",
     "text": [
      "train = 3.486640214920044\n",
      "train + load = 7.319370985031128\n"
     ]
    },
    {
     "name": "stderr",
     "output_type": "stream",
     "text": [
      "\n"
     ]
    },
    {
     "name": "stdout",
     "output_type": "stream",
     "text": [
      "LOSS train 0.5635934472084045 valid 0.8474608063697815\n",
      "Accuracy valid 0.6111111111111112\n",
      "Recall valid 0.6111111111111112\n",
      "Precision valid 0.6044625452520189\n",
      "Val F1->0.5984347984347984\n",
      "Val mAP->0.4863528621743202\n",
      "Time per epoch 9.304310083389282s\n",
      "EPOCH 61:\n"
     ]
    },
    {
     "name": "stderr",
     "output_type": "stream",
     "text": [
      "10it [00:06,  1.45it/s]                      "
     ]
    },
    {
     "name": "stdout",
     "output_type": "stream",
     "text": [
      "train = 2.7883565425872803\n",
      "train + load = 7.11122989654541\n"
     ]
    },
    {
     "name": "stderr",
     "output_type": "stream",
     "text": [
      "\n"
     ]
    },
    {
     "name": "stdout",
     "output_type": "stream",
     "text": [
      "LOSS train 0.5622314810752869 valid 0.7474204301834106\n",
      "Accuracy valid 0.6111111111111112\n",
      "Recall valid 0.6111111111111112\n",
      "Precision valid 0.6182291666666667\n",
      "Val F1->0.6085797111075362\n",
      "Val mAP->0.4750485145422808\n",
      "Time per epoch 9.038645029067993s\n",
      "EPOCH 62:\n"
     ]
    },
    {
     "name": "stderr",
     "output_type": "stream",
     "text": [
      "10it [00:06,  1.46it/s]                      "
     ]
    },
    {
     "name": "stdout",
     "output_type": "stream",
     "text": [
      "train = 3.413867473602295\n",
      "train + load = 7.077237606048584\n"
     ]
    },
    {
     "name": "stderr",
     "output_type": "stream",
     "text": [
      "\n"
     ]
    },
    {
     "name": "stdout",
     "output_type": "stream",
     "text": [
      "LOSS train 0.5548712611198425 valid 0.7913906574249268\n",
      "Accuracy valid 0.6805555555555556\n",
      "Recall valid 0.6805555555555556\n",
      "Precision valid 0.6750661375661376\n",
      "Val F1->0.6713508173924841\n",
      "Val mAP->0.515953438897596\n",
      "Time per epoch 9.071436166763306s\n",
      "EPOCH 63:\n"
     ]
    },
    {
     "name": "stderr",
     "output_type": "stream",
     "text": [
      "10it [00:06,  1.45it/s]                      "
     ]
    },
    {
     "name": "stdout",
     "output_type": "stream",
     "text": [
      "train = 3.191479206085205\n",
      "train + load = 7.134112119674683\n"
     ]
    },
    {
     "name": "stderr",
     "output_type": "stream",
     "text": [
      "\n"
     ]
    },
    {
     "name": "stdout",
     "output_type": "stream",
     "text": [
      "LOSS train 0.5522894263267517 valid 0.765819251537323\n",
      "Accuracy valid 0.625\n",
      "Recall valid 0.625\n",
      "Precision valid 0.6499458874458874\n",
      "Val F1->0.6296273968687761\n",
      "Val mAP->0.47038392340947066\n",
      "Time per epoch 9.08198881149292s\n",
      "EPOCH 64:\n"
     ]
    },
    {
     "name": "stderr",
     "output_type": "stream",
     "text": [
      "10it [00:06,  1.46it/s]                      "
     ]
    },
    {
     "name": "stdout",
     "output_type": "stream",
     "text": [
      "train = 3.373758316040039\n",
      "train + load = 7.05602765083313\n"
     ]
    },
    {
     "name": "stderr",
     "output_type": "stream",
     "text": [
      "\n"
     ]
    },
    {
     "name": "stdout",
     "output_type": "stream",
     "text": [
      "LOSS train 0.5492098927497864 valid 0.7423328757286072\n",
      "Accuracy valid 0.6944444444444444\n",
      "Recall valid 0.6944444444444444\n",
      "Precision valid 0.705489417989418\n",
      "Val F1->0.6959028625695294\n",
      "Val mAP->0.5230425123991511\n",
      "Time per epoch 8.996102809906006s\n",
      "EPOCH 65:\n"
     ]
    },
    {
     "name": "stderr",
     "output_type": "stream",
     "text": [
      "10it [00:06,  1.45it/s]                      \n"
     ]
    },
    {
     "name": "stdout",
     "output_type": "stream",
     "text": [
      "train = 3.4977588653564453\n",
      "train + load = 7.137549161911011\n",
      "LOSS train 0.5527783036231995 valid 0.7912578582763672\n",
      "Accuracy valid 0.625\n",
      "Recall valid 0.625\n",
      "Precision valid 0.622255291005291\n",
      "Val F1->0.6191437973198409\n",
      "Val mAP->0.4650624866112525\n",
      "Time per epoch 9.081026315689087s\n",
      "EPOCH 66:\n"
     ]
    },
    {
     "name": "stderr",
     "output_type": "stream",
     "text": [
      "10it [00:06,  1.49it/s]                      "
     ]
    },
    {
     "name": "stdout",
     "output_type": "stream",
     "text": [
      "train = 3.215761184692383\n",
      "train + load = 6.937794208526611\n"
     ]
    },
    {
     "name": "stderr",
     "output_type": "stream",
     "text": [
      "\n"
     ]
    },
    {
     "name": "stdout",
     "output_type": "stream",
     "text": [
      "LOSS train 0.5487961173057556 valid 0.779657244682312\n",
      "Accuracy valid 0.5972222222222222\n",
      "Recall valid 0.5972222222222222\n",
      "Precision valid 0.612594696969697\n",
      "Val F1->0.5988442282528303\n",
      "Val mAP->0.46905003141669255\n",
      "Time per epoch 8.874536514282227s\n",
      "EPOCH 67:\n"
     ]
    },
    {
     "name": "stderr",
     "output_type": "stream",
     "text": [
      "10it [00:06,  1.46it/s]                      "
     ]
    },
    {
     "name": "stdout",
     "output_type": "stream",
     "text": [
      "train = 3.3027236461639404\n",
      "train + load = 7.079875707626343\n"
     ]
    },
    {
     "name": "stderr",
     "output_type": "stream",
     "text": [
      "\n"
     ]
    },
    {
     "name": "stdout",
     "output_type": "stream",
     "text": [
      "LOSS train 0.5519151091575623 valid 0.7669405341148376\n",
      "Accuracy valid 0.6527777777777778\n",
      "Recall valid 0.6527777777777778\n",
      "Precision valid 0.650975529100529\n",
      "Val F1->0.6496151548570903\n",
      "Val mAP->0.4560268635594491\n",
      "Time per epoch 9.021443128585815s\n",
      "EPOCH 68:\n"
     ]
    },
    {
     "name": "stderr",
     "output_type": "stream",
     "text": [
      "10it [00:07,  1.39it/s]                      "
     ]
    },
    {
     "name": "stdout",
     "output_type": "stream",
     "text": [
      "train = 3.330371379852295\n",
      "train + load = 7.406729698181152\n"
     ]
    },
    {
     "name": "stderr",
     "output_type": "stream",
     "text": [
      "\n"
     ]
    },
    {
     "name": "stdout",
     "output_type": "stream",
     "text": [
      "LOSS train 0.5487536787986755 valid 0.754560112953186\n",
      "Accuracy valid 0.625\n",
      "Recall valid 0.625\n",
      "Precision valid 0.6629664702581368\n",
      "Val F1->0.6303921568627451\n",
      "Val mAP->0.49306888998558\n",
      "Time per epoch 9.292426347732544s\n",
      "EPOCH 69:\n"
     ]
    },
    {
     "name": "stderr",
     "output_type": "stream",
     "text": [
      "10it [00:06,  1.45it/s]                      "
     ]
    },
    {
     "name": "stdout",
     "output_type": "stream",
     "text": [
      "train = 3.3407819271087646\n",
      "train + load = 7.095609188079834\n"
     ]
    },
    {
     "name": "stderr",
     "output_type": "stream",
     "text": [
      "\n"
     ]
    },
    {
     "name": "stdout",
     "output_type": "stream",
     "text": [
      "LOSS train 0.5482400059700012 valid 0.7960778474807739\n",
      "Accuracy valid 0.625\n",
      "Recall valid 0.625\n",
      "Precision valid 0.6846006925526376\n",
      "Val F1->0.6299179283740446\n",
      "Val mAP->0.5092669371010824\n",
      "Time per epoch 9.020986557006836s\n",
      "EPOCH 70:\n"
     ]
    },
    {
     "name": "stderr",
     "output_type": "stream",
     "text": [
      "10it [00:06,  1.44it/s]                      "
     ]
    },
    {
     "name": "stdout",
     "output_type": "stream",
     "text": [
      "train = 3.386953592300415\n",
      "train + load = 7.181981563568115\n"
     ]
    },
    {
     "name": "stderr",
     "output_type": "stream",
     "text": [
      "\n"
     ]
    },
    {
     "name": "stdout",
     "output_type": "stream",
     "text": [
      "LOSS train 0.5460335612297058 valid 0.7204030156135559\n",
      "Accuracy valid 0.6527777777777778\n",
      "Recall valid 0.6527777777777778\n",
      "Precision valid 0.6080439814814814\n",
      "Val F1->0.6199637023593466\n",
      "Val mAP->0.49366411577638064\n",
      "Time per epoch 9.151158571243286s\n",
      "EPOCH 71:\n"
     ]
    },
    {
     "name": "stderr",
     "output_type": "stream",
     "text": [
      "10it [00:06,  1.45it/s]                      "
     ]
    },
    {
     "name": "stdout",
     "output_type": "stream",
     "text": [
      "train = 3.341771125793457\n",
      "train + load = 7.114311933517456\n"
     ]
    },
    {
     "name": "stderr",
     "output_type": "stream",
     "text": [
      "\n"
     ]
    },
    {
     "name": "stdout",
     "output_type": "stream",
     "text": [
      "LOSS train 0.5425565838813782 valid 0.973441481590271\n",
      "Accuracy valid 0.6111111111111112\n",
      "Recall valid 0.6111111111111112\n",
      "Precision valid 0.6169394841269841\n",
      "Val F1->0.6005526105856883\n",
      "Val mAP->0.4611487450784597\n",
      "Time per epoch 9.031476259231567s\n",
      "EPOCH 72:\n"
     ]
    },
    {
     "name": "stderr",
     "output_type": "stream",
     "text": [
      "10it [00:07,  1.35it/s]                      "
     ]
    },
    {
     "name": "stdout",
     "output_type": "stream",
     "text": [
      "train = 3.3489513397216797\n",
      "train + load = 7.635939121246338\n"
     ]
    },
    {
     "name": "stderr",
     "output_type": "stream",
     "text": [
      "\n"
     ]
    },
    {
     "name": "stdout",
     "output_type": "stream",
     "text": [
      "LOSS train 0.5381145477294922 valid 0.7846933603286743\n",
      "Accuracy valid 0.6666666666666666\n",
      "Recall valid 0.6666666666666666\n",
      "Precision valid 0.6964751683501683\n",
      "Val F1->0.6578947368421053\n",
      "Val mAP->0.47158484137118134\n",
      "Time per epoch 9.566129207611084s\n",
      "EPOCH 73:\n"
     ]
    },
    {
     "name": "stderr",
     "output_type": "stream",
     "text": [
      "10it [00:06,  1.50it/s]                      "
     ]
    },
    {
     "name": "stdout",
     "output_type": "stream",
     "text": [
      "train = 3.2768232822418213\n",
      "train + load = 6.8727617263793945\n"
     ]
    },
    {
     "name": "stderr",
     "output_type": "stream",
     "text": [
      "\n"
     ]
    },
    {
     "name": "stdout",
     "output_type": "stream",
     "text": [
      "LOSS train 0.5341970920562744 valid 0.7889747023582458\n",
      "Accuracy valid 0.6527777777777778\n",
      "Recall valid 0.6527777777777778\n",
      "Precision valid 0.6542913105413106\n",
      "Val F1->0.6437973137973138\n",
      "Val mAP->0.4632891531760761\n",
      "Time per epoch 8.762158632278442s\n",
      "EPOCH 74:\n"
     ]
    },
    {
     "name": "stderr",
     "output_type": "stream",
     "text": [
      "10it [00:06,  1.47it/s]                      "
     ]
    },
    {
     "name": "stdout",
     "output_type": "stream",
     "text": [
      "train = 3.3247952461242676\n",
      "train + load = 7.035213470458984\n"
     ]
    },
    {
     "name": "stderr",
     "output_type": "stream",
     "text": [
      "\n"
     ]
    },
    {
     "name": "stdout",
     "output_type": "stream",
     "text": [
      "LOSS train 0.543566107749939 valid 0.8775812387466431\n",
      "Accuracy valid 0.6944444444444444\n",
      "Recall valid 0.6944444444444444\n",
      "Precision valid 0.7325757575757577\n",
      "Val F1->0.7010785510785511\n",
      "Val mAP->0.516900591531138\n",
      "Time per epoch 8.888834714889526s\n",
      "EPOCH 75:\n"
     ]
    },
    {
     "name": "stderr",
     "output_type": "stream",
     "text": [
      "10it [00:06,  1.48it/s]                      "
     ]
    },
    {
     "name": "stdout",
     "output_type": "stream",
     "text": [
      "train = 3.576140880584717\n",
      "train + load = 6.986055850982666\n"
     ]
    },
    {
     "name": "stderr",
     "output_type": "stream",
     "text": [
      "\n"
     ]
    },
    {
     "name": "stdout",
     "output_type": "stream",
     "text": [
      "LOSS train 0.5490396022796631 valid 0.8499783277511597\n",
      "Accuracy valid 0.6666666666666666\n",
      "Recall valid 0.6666666666666666\n",
      "Precision valid 0.6932043650793651\n",
      "Val F1->0.6676396709076448\n",
      "Val mAP->0.4860457703968566\n",
      "Time per epoch 8.895151615142822s\n",
      "EPOCH 76:\n"
     ]
    },
    {
     "name": "stderr",
     "output_type": "stream",
     "text": [
      "10it [00:06,  1.46it/s]                      "
     ]
    },
    {
     "name": "stdout",
     "output_type": "stream",
     "text": [
      "train = 3.3814656734466553\n",
      "train + load = 7.047589063644409\n"
     ]
    },
    {
     "name": "stderr",
     "output_type": "stream",
     "text": [
      "\n"
     ]
    },
    {
     "name": "stdout",
     "output_type": "stream",
     "text": [
      "LOSS train 0.5338749289512634 valid 1.0139950513839722\n",
      "Accuracy valid 0.6805555555555556\n",
      "Recall valid 0.6805555555555556\n",
      "Precision valid 0.7089045214045213\n",
      "Val F1->0.6818097132752305\n",
      "Val mAP->0.4932003870069476\n",
      "Time per epoch 9.00648546218872s\n",
      "EPOCH 77:\n"
     ]
    },
    {
     "name": "stderr",
     "output_type": "stream",
     "text": [
      "10it [00:06,  1.49it/s]                      "
     ]
    },
    {
     "name": "stdout",
     "output_type": "stream",
     "text": [
      "train = 3.301032543182373\n",
      "train + load = 6.923536539077759\n"
     ]
    },
    {
     "name": "stderr",
     "output_type": "stream",
     "text": [
      "\n"
     ]
    },
    {
     "name": "stdout",
     "output_type": "stream",
     "text": [
      "LOSS train 0.5378292202949524 valid 0.8402244448661804\n",
      "Accuracy valid 0.625\n",
      "Recall valid 0.625\n",
      "Precision valid 0.6411375661375661\n",
      "Val F1->0.6275269416573764\n",
      "Val mAP->0.519615070987308\n",
      "Time per epoch 8.824710130691528s\n",
      "EPOCH 78:\n"
     ]
    },
    {
     "name": "stderr",
     "output_type": "stream",
     "text": [
      "10it [00:06,  1.49it/s]                      "
     ]
    },
    {
     "name": "stdout",
     "output_type": "stream",
     "text": [
      "train = 3.477928400039673\n",
      "train + load = 6.960230350494385\n"
     ]
    },
    {
     "name": "stderr",
     "output_type": "stream",
     "text": [
      "\n"
     ]
    },
    {
     "name": "stdout",
     "output_type": "stream",
     "text": [
      "LOSS train 0.534052312374115 valid 0.9720259308815002\n",
      "Accuracy valid 0.6111111111111112\n",
      "Recall valid 0.6111111111111112\n",
      "Precision valid 0.6320601851851851\n",
      "Val F1->0.6120000629772926\n",
      "Val mAP->0.49181290245102655\n",
      "Time per epoch 8.821068286895752s\n",
      "EPOCH 79:\n"
     ]
    },
    {
     "name": "stderr",
     "output_type": "stream",
     "text": [
      "10it [00:07,  1.40it/s]                      "
     ]
    },
    {
     "name": "stdout",
     "output_type": "stream",
     "text": [
      "train = 3.253497362136841\n",
      "train + load = 7.339756727218628\n"
     ]
    },
    {
     "name": "stderr",
     "output_type": "stream",
     "text": [
      "\n"
     ]
    },
    {
     "name": "stdout",
     "output_type": "stream",
     "text": [
      "LOSS train 0.5302584767341614 valid 0.7674217820167542\n",
      "Accuracy valid 0.6388888888888888\n",
      "Recall valid 0.6388888888888888\n",
      "Precision valid 0.652910052910053\n",
      "Val F1->0.6385317407156488\n",
      "Val mAP->0.5069974287336128\n",
      "Time per epoch 9.173234939575195s\n",
      "EPOCH 80:\n"
     ]
    },
    {
     "name": "stderr",
     "output_type": "stream",
     "text": [
      "10it [00:06,  1.49it/s]                      "
     ]
    },
    {
     "name": "stdout",
     "output_type": "stream",
     "text": [
      "train = 3.2302892208099365\n",
      "train + load = 6.909056901931763\n"
     ]
    },
    {
     "name": "stderr",
     "output_type": "stream",
     "text": [
      "\n"
     ]
    },
    {
     "name": "stdout",
     "output_type": "stream",
     "text": [
      "LOSS train 0.5354155898094177 valid 0.7729887366294861\n",
      "Accuracy valid 0.6805555555555556\n",
      "Recall valid 0.6805555555555556\n",
      "Precision valid 0.6812444885361552\n",
      "Val F1->0.6757215123059526\n",
      "Val mAP->0.47045603152870263\n",
      "Time per epoch 8.880844593048096s\n",
      "EPOCH 81:\n"
     ]
    },
    {
     "name": "stderr",
     "output_type": "stream",
     "text": [
      "10it [00:06,  1.47it/s]                      "
     ]
    },
    {
     "name": "stdout",
     "output_type": "stream",
     "text": [
      "train = 3.317821979522705\n",
      "train + load = 7.016239166259766\n"
     ]
    },
    {
     "name": "stderr",
     "output_type": "stream",
     "text": [
      "\n"
     ]
    },
    {
     "name": "stdout",
     "output_type": "stream",
     "text": [
      "LOSS train 0.5359782576560974 valid 0.9251515865325928\n",
      "Accuracy valid 0.6111111111111112\n",
      "Recall valid 0.6111111111111112\n",
      "Precision valid 0.62928302634185\n",
      "Val F1->0.6147982804232804\n",
      "Val mAP->0.5014866497812762\n",
      "Time per epoch 8.925343751907349s\n",
      "EPOCH 82:\n"
     ]
    },
    {
     "name": "stderr",
     "output_type": "stream",
     "text": [
      "10it [00:06,  1.49it/s]                      "
     ]
    },
    {
     "name": "stdout",
     "output_type": "stream",
     "text": [
      "train = 3.480276346206665\n",
      "train + load = 6.923370361328125\n"
     ]
    },
    {
     "name": "stderr",
     "output_type": "stream",
     "text": [
      "\n"
     ]
    },
    {
     "name": "stdout",
     "output_type": "stream",
     "text": [
      "LOSS train 0.5331087112426758 valid 0.8058988451957703\n",
      "Accuracy valid 0.6666666666666666\n",
      "Recall valid 0.6666666666666666\n",
      "Precision valid 0.6924096097615835\n",
      "Val F1->0.6714164623647382\n",
      "Val mAP->0.511603477873334\n",
      "Time per epoch 8.929529905319214s\n",
      "EPOCH 83:\n"
     ]
    },
    {
     "name": "stderr",
     "output_type": "stream",
     "text": [
      "10it [00:06,  1.51it/s]                      "
     ]
    },
    {
     "name": "stdout",
     "output_type": "stream",
     "text": [
      "train = 3.3194053173065186\n",
      "train + load = 6.837407350540161\n"
     ]
    },
    {
     "name": "stderr",
     "output_type": "stream",
     "text": [
      "\n"
     ]
    },
    {
     "name": "stdout",
     "output_type": "stream",
     "text": [
      "LOSS train 0.5357832908630371 valid 0.9098790287971497\n",
      "Accuracy valid 0.6666666666666666\n",
      "Recall valid 0.6666666666666666\n",
      "Precision valid 0.6681530214424951\n",
      "Val F1->0.6504570046236712\n",
      "Val mAP->0.5252121331556582\n",
      "Time per epoch 8.698591709136963s\n",
      "EPOCH 84:\n"
     ]
    },
    {
     "name": "stderr",
     "output_type": "stream",
     "text": [
      "10it [00:06,  1.52it/s]                      "
     ]
    },
    {
     "name": "stdout",
     "output_type": "stream",
     "text": [
      "train = 3.3303401470184326\n",
      "train + load = 6.780139684677124\n"
     ]
    },
    {
     "name": "stderr",
     "output_type": "stream",
     "text": [
      "\n"
     ]
    },
    {
     "name": "stdout",
     "output_type": "stream",
     "text": [
      "LOSS train 0.5446061491966248 valid 0.9396932125091553\n",
      "Accuracy valid 0.6111111111111112\n",
      "Recall valid 0.6111111111111112\n",
      "Precision valid 0.6102843915343915\n",
      "Val F1->0.6021530938197606\n",
      "Val mAP->0.5187935224243642\n",
      "Time per epoch 8.65619683265686s\n",
      "EPOCH 85:\n"
     ]
    },
    {
     "name": "stderr",
     "output_type": "stream",
     "text": [
      "10it [00:06,  1.49it/s]                      "
     ]
    },
    {
     "name": "stdout",
     "output_type": "stream",
     "text": [
      "train = 3.3942148685455322\n",
      "train + load = 6.899960279464722\n"
     ]
    },
    {
     "name": "stderr",
     "output_type": "stream",
     "text": [
      "\n"
     ]
    },
    {
     "name": "stdout",
     "output_type": "stream",
     "text": [
      "LOSS train 0.5332195162773132 valid 0.7851561307907104\n",
      "Accuracy valid 0.6944444444444444\n",
      "Recall valid 0.6944444444444444\n",
      "Precision valid 0.700708547307812\n",
      "Val F1->0.6863295008456299\n",
      "Val mAP->0.5140512837829563\n",
      "Time per epoch 8.736835241317749s\n",
      "EPOCH 86:\n"
     ]
    },
    {
     "name": "stderr",
     "output_type": "stream",
     "text": [
      "10it [00:06,  1.46it/s]                      "
     ]
    },
    {
     "name": "stdout",
     "output_type": "stream",
     "text": [
      "train = 3.469790458679199\n",
      "train + load = 7.079842567443848\n"
     ]
    },
    {
     "name": "stderr",
     "output_type": "stream",
     "text": [
      "\n"
     ]
    },
    {
     "name": "stdout",
     "output_type": "stream",
     "text": [
      "LOSS train 0.5261788368225098 valid 0.8241554498672485\n",
      "Accuracy valid 0.6388888888888888\n",
      "Recall valid 0.6388888888888888\n",
      "Precision valid 0.6469907407407408\n",
      "Val F1->0.6362958029624697\n",
      "Val mAP->0.5148515306899161\n",
      "Time per epoch 8.98998761177063s\n",
      "EPOCH 87:\n"
     ]
    },
    {
     "name": "stderr",
     "output_type": "stream",
     "text": [
      "10it [00:06,  1.51it/s]                      "
     ]
    },
    {
     "name": "stdout",
     "output_type": "stream",
     "text": [
      "train = 3.267605781555176\n",
      "train + load = 6.849445343017578\n"
     ]
    },
    {
     "name": "stderr",
     "output_type": "stream",
     "text": [
      "\n"
     ]
    },
    {
     "name": "stdout",
     "output_type": "stream",
     "text": [
      "LOSS train 0.5247628092765808 valid 0.7862949967384338\n",
      "Accuracy valid 0.6527777777777778\n",
      "Recall valid 0.6527777777777778\n",
      "Precision valid 0.6629415655150948\n",
      "Val F1->0.6482076536156233\n",
      "Val mAP->0.5285574304097177\n",
      "Time per epoch 8.692951440811157s\n",
      "EPOCH 88:\n"
     ]
    },
    {
     "name": "stderr",
     "output_type": "stream",
     "text": [
      "10it [00:06,  1.47it/s]                      "
     ]
    },
    {
     "name": "stdout",
     "output_type": "stream",
     "text": [
      "train = 3.3515918254852295\n",
      "train + load = 7.0065953731536865\n"
     ]
    },
    {
     "name": "stderr",
     "output_type": "stream",
     "text": [
      "\n"
     ]
    },
    {
     "name": "stdout",
     "output_type": "stream",
     "text": [
      "LOSS train 0.5199578404426575 valid 0.9584120512008667\n",
      "Accuracy valid 0.625\n",
      "Recall valid 0.625\n",
      "Precision valid 0.6295286828181565\n",
      "Val F1->0.6183064165161353\n",
      "Val mAP->0.5167711981114296\n",
      "Time per epoch 8.839707851409912s\n",
      "EPOCH 89:\n"
     ]
    },
    {
     "name": "stderr",
     "output_type": "stream",
     "text": [
      "10it [00:06,  1.49it/s]                      "
     ]
    },
    {
     "name": "stdout",
     "output_type": "stream",
     "text": [
      "train = 3.4845972061157227\n",
      "train + load = 6.937684774398804\n"
     ]
    },
    {
     "name": "stderr",
     "output_type": "stream",
     "text": [
      "\n"
     ]
    },
    {
     "name": "stdout",
     "output_type": "stream",
     "text": [
      "LOSS train 0.5284485220909119 valid 1.0027724504470825\n",
      "Accuracy valid 0.5972222222222222\n",
      "Recall valid 0.5972222222222222\n",
      "Precision valid 0.6132154882154883\n",
      "Val F1->0.6011328020486947\n",
      "Val mAP->0.4956347143040942\n",
      "Time per epoch 8.770058631896973s\n",
      "EPOCH 90:\n"
     ]
    },
    {
     "name": "stderr",
     "output_type": "stream",
     "text": [
      "10it [00:07,  1.39it/s]                      "
     ]
    },
    {
     "name": "stdout",
     "output_type": "stream",
     "text": [
      "train = 3.402259111404419\n",
      "train + load = 7.424039363861084\n"
     ]
    },
    {
     "name": "stderr",
     "output_type": "stream",
     "text": [
      "\n"
     ]
    },
    {
     "name": "stdout",
     "output_type": "stream",
     "text": [
      "LOSS train 0.5296610593795776 valid 0.7321269512176514\n",
      "Accuracy valid 0.5833333333333334\n",
      "Recall valid 0.5833333333333334\n",
      "Precision valid 0.5843253968253967\n",
      "Val F1->0.5807271937580467\n",
      "Val mAP->0.48584276229945483\n",
      "Time per epoch 9.4385666847229s\n",
      "EPOCH 91:\n"
     ]
    },
    {
     "name": "stderr",
     "output_type": "stream",
     "text": [
      "10it [00:06,  1.50it/s]                      "
     ]
    },
    {
     "name": "stdout",
     "output_type": "stream",
     "text": [
      "train = 3.374725580215454\n",
      "train + load = 6.853742599487305\n"
     ]
    },
    {
     "name": "stderr",
     "output_type": "stream",
     "text": [
      "\n"
     ]
    },
    {
     "name": "stdout",
     "output_type": "stream",
     "text": [
      "LOSS train 0.513991117477417 valid 0.8035823106765747\n",
      "Accuracy valid 0.6805555555555556\n",
      "Recall valid 0.6805555555555556\n",
      "Precision valid 0.7023081694134325\n",
      "Val F1->0.6802522776787483\n",
      "Val mAP->0.5192537864053932\n",
      "Time per epoch 8.691582441329956s\n",
      "EPOCH 92:\n"
     ]
    },
    {
     "name": "stderr",
     "output_type": "stream",
     "text": [
      "10it [00:06,  1.50it/s]                      "
     ]
    },
    {
     "name": "stdout",
     "output_type": "stream",
     "text": [
      "train = 3.3198928833007812\n",
      "train + load = 6.884773015975952\n"
     ]
    },
    {
     "name": "stderr",
     "output_type": "stream",
     "text": [
      "\n"
     ]
    },
    {
     "name": "stdout",
     "output_type": "stream",
     "text": [
      "LOSS train 0.5205947756767273 valid 0.9299007058143616\n",
      "Accuracy valid 0.7083333333333334\n",
      "Recall valid 0.7083333333333334\n",
      "Precision valid 0.71875\n",
      "Val F1->0.7104894072488375\n",
      "Val mAP->0.5089459252506193\n",
      "Time per epoch 8.749732971191406s\n",
      "EPOCH 93:\n"
     ]
    },
    {
     "name": "stderr",
     "output_type": "stream",
     "text": [
      "10it [00:06,  1.48it/s]                      \n"
     ]
    },
    {
     "name": "stdout",
     "output_type": "stream",
     "text": [
      "train = 3.3213183879852295\n",
      "train + load = 6.969075441360474\n",
      "LOSS train 0.5235170722007751 valid 1.0007944107055664\n",
      "Accuracy valid 0.6666666666666666\n",
      "Recall valid 0.6666666666666666\n",
      "Precision valid 0.6923280423280423\n",
      "Val F1->0.6674301738019879\n",
      "Val mAP->0.5187915480485774\n",
      "Time per epoch 8.949818134307861s\n",
      "EPOCH 94:\n"
     ]
    },
    {
     "name": "stderr",
     "output_type": "stream",
     "text": [
      "10it [00:06,  1.46it/s]                      "
     ]
    },
    {
     "name": "stdout",
     "output_type": "stream",
     "text": [
      "train = 3.466841697692871\n",
      "train + load = 7.058459758758545\n"
     ]
    },
    {
     "name": "stderr",
     "output_type": "stream",
     "text": [
      "\n"
     ]
    },
    {
     "name": "stdout",
     "output_type": "stream",
     "text": [
      "LOSS train 0.5247613191604614 valid 0.7857328653335571\n",
      "Accuracy valid 0.7222222222222222\n",
      "Recall valid 0.7222222222222222\n",
      "Precision valid 0.6767305996472663\n",
      "Val F1->0.6893023314051036\n",
      "Val mAP->0.4790990657059042\n",
      "Time per epoch 8.985454559326172s\n",
      "EPOCH 95:\n"
     ]
    },
    {
     "name": "stderr",
     "output_type": "stream",
     "text": [
      "10it [00:06,  1.51it/s]                      \n"
     ]
    },
    {
     "name": "stdout",
     "output_type": "stream",
     "text": [
      "train = 3.378753662109375\n",
      "train + load = 6.867482662200928\n",
      "LOSS train 0.5236716866493225 valid 0.8010684251785278\n",
      "Accuracy valid 0.6805555555555556\n",
      "Recall valid 0.6805555555555556\n",
      "Precision valid 0.6216931216931217\n",
      "Val F1->0.6481678382263176\n",
      "Val mAP->0.508035476833895\n",
      "Time per epoch 8.913694143295288s\n",
      "EPOCH 96:\n"
     ]
    },
    {
     "name": "stderr",
     "output_type": "stream",
     "text": [
      "10it [00:06,  1.46it/s]                      "
     ]
    },
    {
     "name": "stdout",
     "output_type": "stream",
     "text": [
      "train = 3.280482053756714\n",
      "train + load = 7.07151985168457\n"
     ]
    },
    {
     "name": "stderr",
     "output_type": "stream",
     "text": [
      "\n"
     ]
    },
    {
     "name": "stdout",
     "output_type": "stream",
     "text": [
      "LOSS train 0.5268786549568176 valid 0.8419033288955688\n",
      "Accuracy valid 0.6805555555555556\n",
      "Recall valid 0.6805555555555556\n",
      "Precision valid 0.688767577738166\n",
      "Val F1->0.6776072124756336\n",
      "Val mAP->0.4996761583512035\n",
      "Time per epoch 8.965375185012817s\n",
      "EPOCH 97:\n"
     ]
    },
    {
     "name": "stderr",
     "output_type": "stream",
     "text": [
      "10it [00:07,  1.36it/s]                      "
     ]
    },
    {
     "name": "stdout",
     "output_type": "stream",
     "text": [
      "train = 3.4675021171569824\n",
      "train + load = 7.597280025482178\n"
     ]
    },
    {
     "name": "stderr",
     "output_type": "stream",
     "text": [
      "\n"
     ]
    },
    {
     "name": "stdout",
     "output_type": "stream",
     "text": [
      "LOSS train 0.504315197467804 valid 0.9030812978744507\n",
      "Accuracy valid 0.6666666666666666\n",
      "Recall valid 0.6666666666666666\n",
      "Precision valid 0.7424747474747475\n",
      "Val F1->0.6612169824863624\n",
      "Val mAP->0.5170688980475825\n",
      "Time per epoch 9.48177695274353s\n",
      "EPOCH 98:\n"
     ]
    },
    {
     "name": "stderr",
     "output_type": "stream",
     "text": [
      "10it [00:06,  1.45it/s]                      "
     ]
    },
    {
     "name": "stdout",
     "output_type": "stream",
     "text": [
      "train = 3.3775012493133545\n",
      "train + load = 7.135340690612793\n"
     ]
    },
    {
     "name": "stderr",
     "output_type": "stream",
     "text": [
      "\n"
     ]
    },
    {
     "name": "stdout",
     "output_type": "stream",
     "text": [
      "LOSS train 0.5210428237915039 valid 0.8132586479187012\n",
      "Accuracy valid 0.5833333333333334\n",
      "Recall valid 0.5833333333333334\n",
      "Precision valid 0.5999656593406593\n",
      "Val F1->0.5830515297906601\n",
      "Val mAP->0.5063442952624482\n",
      "Time per epoch 9.024534702301025s\n",
      "EPOCH 99:\n"
     ]
    },
    {
     "name": "stderr",
     "output_type": "stream",
     "text": [
      "10it [00:06,  1.50it/s]                      "
     ]
    },
    {
     "name": "stdout",
     "output_type": "stream",
     "text": [
      "train = 3.4544503688812256\n",
      "train + load = 6.863775253295898\n"
     ]
    },
    {
     "name": "stderr",
     "output_type": "stream",
     "text": [
      "\n"
     ]
    },
    {
     "name": "stdout",
     "output_type": "stream",
     "text": [
      "LOSS train 0.5243862271308899 valid 0.7548172473907471\n",
      "Accuracy valid 0.7083333333333334\n",
      "Recall valid 0.7083333333333334\n",
      "Precision valid 0.711686056998557\n",
      "Val F1->0.6999462968997019\n",
      "Val mAP->0.4994501353692381\n",
      "Time per epoch 8.813463687896729s\n",
      "EPOCH 100:\n"
     ]
    },
    {
     "name": "stderr",
     "output_type": "stream",
     "text": [
      "10it [00:06,  1.47it/s]                      \n"
     ]
    },
    {
     "name": "stdout",
     "output_type": "stream",
     "text": [
      "train = 3.4478232860565186\n",
      "train + load = 7.0370800495147705\n",
      "LOSS train 0.527546763420105 valid 0.9187754392623901\n",
      "Accuracy valid 0.6527777777777778\n",
      "Recall valid 0.6527777777777778\n",
      "Precision valid 0.6481068121693121\n",
      "Val F1->0.6424457093394802\n",
      "Val mAP->0.5207091667322279\n",
      "Time per epoch 9.06659197807312s\n"
     ]
    }
   ],
   "source": [
    "train(model, mw, loss_func, optimizer, train_dataloader, val_dataloader, BATCH_SIZE, epochs=100)"
   ]
  }
 ],
 "metadata": {
  "kaggle": {
   "accelerator": "none",
   "dataSources": [
    {
     "datasetId": 2137547,
     "sourceId": 8941033,
     "sourceType": "datasetVersion"
    },
    {
     "datasetId": 6505715,
     "sourceId": 10531950,
     "sourceType": "datasetVersion"
    }
   ],
   "dockerImageVersionId": 30840,
   "isGpuEnabled": false,
   "isInternetEnabled": true,
   "language": "python",
   "sourceType": "notebook"
  },
  "kernelspec": {
   "display_name": "Python 3 (ipykernel)",
   "language": "python",
   "name": "python3"
  },
  "language_info": {
   "codemirror_mode": {
    "name": "ipython",
    "version": 3
   },
   "file_extension": ".py",
   "mimetype": "text/x-python",
   "name": "python",
   "nbconvert_exporter": "python",
   "pygments_lexer": "ipython3",
   "version": "3.11.3"
  }
 },
 "nbformat": 4,
 "nbformat_minor": 4
}
